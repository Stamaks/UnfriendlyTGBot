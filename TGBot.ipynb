{
 "cells": [
  {
   "cell_type": "code",
   "execution_count": 1,
   "metadata": {
    "collapsed": false
   },
   "outputs": [],
   "source": [
    "import logging\n",
    "from telegram.ext import CommandHandler\n",
    "from telegram.ext import Updater\n",
    "from telegram.ext import MessageHandler, Filters\n",
    "from telegram import *\n",
    "from telegram.ext import CallbackQueryHandler\n",
    "import pickle\n",
    "import random"
   ]
  },
  {
   "cell_type": "code",
   "execution_count": 2,
   "metadata": {
    "collapsed": true
   },
   "outputs": [],
   "source": [
    "logging.basicConfig(level=logging.DEBUG,\n",
    "                    format='%(asctime)s - %(name)s - %(levelname)s - %(message)s')"
   ]
  },
  {
   "cell_type": "code",
   "execution_count": 3,
   "metadata": {
    "collapsed": false
   },
   "outputs": [
    {
     "name": "stderr",
     "output_type": "stream",
     "text": [
      "2018-03-01 13:20:25,233 - telegram.ext.dispatcher - DEBUG - Setting singleton dispatcher as <telegram.ext.dispatcher.Dispatcher object at 0x7f7ac1988358>\n"
     ]
    }
   ],
   "source": [
    "updater = Updater(token=pickle.load(open(\"token\", \"rb\")))"
   ]
  },
  {
   "cell_type": "code",
   "execution_count": 4,
   "metadata": {
    "collapsed": true
   },
   "outputs": [],
   "source": [
    "is_previous_message_question = 0"
   ]
  },
  {
   "cell_type": "code",
   "execution_count": 5,
   "metadata": {
    "collapsed": false
   },
   "outputs": [],
   "source": [
    "my_chat_id = pickle.load(open(\"my_chat_id\", \"rb\"))"
   ]
  },
  {
   "cell_type": "code",
   "execution_count": 6,
   "metadata": {
    "collapsed": false
   },
   "outputs": [],
   "source": [
    "tasks = []"
   ]
  },
  {
   "cell_type": "code",
   "execution_count": 7,
   "metadata": {
    "collapsed": true
   },
   "outputs": [],
   "source": [
    "add_task = 0"
   ]
  },
  {
   "cell_type": "code",
   "execution_count": 8,
   "metadata": {
    "collapsed": false
   },
   "outputs": [],
   "source": [
    "def start(bot, update):\n",
    "    text = random.choice([\"Ага, ну здарова.\", \"Ку!\", \"Приветище!\", \"Ну чего тебе надо?\"])\n",
    "    bot.send_message(chat_id=update.message.chat_id, text=text)\n",
    "    bot.send_message(chat_id=update.message.chat_id, text=\"Ну и что ты сделала за сегодня?\")\n",
    "    is_previous_message_question = 1\n",
    "        \n",
    "def echo(bot, update):\n",
    "#     if (is_previous_message_question):\n",
    "#     if (update.message.text == \"1. Пожарить картошку\"):\n",
    "#         key_button1 = KeyboardButton(text=\"Точно?\")\n",
    "#         keyboard1 = ReplyKeyboardMarkup([[key_button1]])\n",
    "#         bot.send_message(chat_id=update.message.chat_id, text=\"Уверена?\", reply_markup=keyboard1)\n",
    "    if add_task == 1:\n",
    "        add_task = 0\n",
    "        tasks.append(update.message.text)\n",
    "        bot.send_message(chat_id=update.message.chat_id, text=\"Добавил \\\"\" + update.message.text + \"\\\"\")\n",
    "    else:\n",
    "        if (\"ничего\" or \"нифига\" or \"нихуя\" in update.message.text.lower()):\n",
    "            text = random.choice([\"Ну молодец, молодец! Тебе же нечего делать, да?\", \"Капец, ты начнешь развиваться, инфузория?\", \"Мда, капец...\", \"И чо, тебе норм?..\", \"Ну да .-.\", \"Жесть .-.\"])\n",
    "            bot.send_message(chat_id=update.message.chat_id, text=text)\n",
    "        elif len(update.message.text.split()) < 10:\n",
    "            text = random.choice([\"То есть, ничего?..\", \"Чот как-то не оч .-.\", \"Мдааа, такое...\"])\n",
    "            bot.send_message(chat_id=update.message.chat_id, text=text)\n",
    "        elif len(update.message.text.split()) >= 10:\n",
    "            text = random.choice([\"Лол, кек, чебурек)) Надо еще кой-чо сделать.\", \"Лан, сегодня норм. Но вообще-то у тебя еще есть задачи.\", \"Ну, неплохо, да, ты вумница :3 Только сделай тут еще один пунктик, плз!\"])\n",
    "            bot.send_message(chat_id=update.message.chat_id, text=text)\n",
    "        is_previous_message_question = 0\n",
    "#     else:\n",
    "#         bot.send_message(chat_id=update.message.chat_id, text=\"Ничонипонял\")\n",
    "        \n",
    "def show_keyboard(bot, update):\n",
    "    if len(tasks) == 0:\n",
    "        bot.send_message(chat_id=update.message.chat_id, text=\"Упс, ты молодец, у тебя нет задач :)\")\n",
    "#         bot.send_message(chat_id=update.message.chat_id, text=\"Лови список задач!\", reply_markup=keyboard)\n",
    "        key_buttons = []\n",
    "        for i in range(len(tasks)):\n",
    "            key_buttons.append(InlineKeyboardButton(text=str(i+1) + \". \" + tasks[i], callback_data=str(i)))\n",
    "        key_buttons.append(InlineKeyboardButton(text=\"Добавить\", callback_data=str(-1)))\n",
    "        keyboard = InlineKeyboardMarkup([key_buttons])\n",
    "        bot.send_message(chat_id=update.message.chat_id, text=\"key\", reply_markup=keyboard)\n",
    "    \n",
    "def callback_query(bot, update):\n",
    "    if (int(update.callback_query.data) >= 0):\n",
    "        key_buttons = []\n",
    "        key_buttons.append(InlineKeyboardButton(text=\"Случайно тыкнула!\", callback_data=str(-2)))\n",
    "        key_buttons.append(InlineKeyboardButton(text=\"Сделала :)\", callback_data=str(-3)))\n",
    "        key_buttons.append(InlineKeyboardButton(text=\"Просто удали\", callback_data=str(-4)))\n",
    "        keyboard = InlineKeyboardMarkup([key_buttons])\n",
    "        bot.send_message(chat_id=update.message.chat_id, text=\"ere\", reply_markup=keyboard)        \n",
    "    elif int(update.callback_query.data) == -1:\n",
    "        add_task = 1\n",
    "    bot.send_message(chat_id=my_chat_id, text=update.callback_query.data)"
   ]
  },
  {
   "cell_type": "code",
   "execution_count": 9,
   "metadata": {
    "collapsed": true
   },
   "outputs": [],
   "source": [
    "start_handler = CommandHandler('start', start)\n",
    "show_keyboard_handler = CommandHandler('list', show_keyboard)"
   ]
  },
  {
   "cell_type": "code",
   "execution_count": 10,
   "metadata": {
    "collapsed": false
   },
   "outputs": [],
   "source": [
    "callback_query_handler = CallbackQueryHandler(callback_query)"
   ]
  },
  {
   "cell_type": "code",
   "execution_count": 11,
   "metadata": {
    "collapsed": false
   },
   "outputs": [],
   "source": [
    "dispatcher = updater.dispatcher\n",
    "dispatcher.add_handler(start_handler)\n",
    "dispatcher.add_handler(show_keyboard_handler)\n",
    "dispatcher.add_handler(callback_query_handler)"
   ]
  },
  {
   "cell_type": "code",
   "execution_count": 12,
   "metadata": {
    "collapsed": false
   },
   "outputs": [],
   "source": [
    "echo_handler = MessageHandler(Filters.text, echo)\n",
    "dispatcher.add_handler(echo_handler)"
   ]
  },
  {
   "cell_type": "code",
   "execution_count": null,
   "metadata": {
    "collapsed": true
   },
   "outputs": [],
   "source": []
  },
  {
   "cell_type": "code",
   "execution_count": null,
   "metadata": {
    "collapsed": true
   },
   "outputs": [],
   "source": []
  },
  {
   "cell_type": "code",
   "execution_count": null,
   "metadata": {
    "collapsed": true
   },
   "outputs": [],
   "source": []
  },
  {
   "cell_type": "code",
   "execution_count": 13,
   "metadata": {
    "collapsed": false
   },
   "outputs": [
    {
     "name": "stderr",
     "output_type": "stream",
     "text": [
      "2018-03-01 13:20:29,471 - JobQueue - DEBUG - JobQueue thread started\n",
      "2018-03-01 13:20:29,475 - telegram.ext.updater - DEBUG - dispatcher - started\n",
      "2018-03-01 13:20:29,475 - telegram.ext.updater - DEBUG - updater - started\n",
      "2018-03-01 13:20:29,479 - telegram.ext.updater - DEBUG - Updater thread started\n",
      "2018-03-01 13:20:29,481 - telegram.ext.dispatcher - DEBUG - Dispatcher started\n"
     ]
    },
    {
     "data": {
      "text/plain": [
       "<queue.Queue at 0x7f7ac1988048>"
      ]
     },
     "execution_count": 13,
     "metadata": {},
     "output_type": "execute_result"
    },
    {
     "name": "stderr",
     "output_type": "stream",
     "text": [
      "2018-03-01 13:20:29,482 - telegram.bot - DEBUG - Entering: set_webhook\n",
      "2018-03-01 13:20:29,496 - telegram.vendor.ptb_urllib3.urllib3.connectionpool - DEBUG - Starting new HTTPS connection (1): api.telegram.org\n",
      "2018-03-01 13:20:29,750 - telegram.vendor.ptb_urllib3.urllib3.connectionpool - DEBUG - https://api.telegram.org:443 \"POST /bot484949622:AAGVa89zUGszMMp9D4Y48k-eFcw3xyQPukQ/setWebhook HTTP/1.1\" 200 68\n",
      "2018-03-01 13:20:29,756 - telegram.bot - DEBUG - True\n",
      "2018-03-01 13:20:29,762 - telegram.bot - DEBUG - Exiting: set_webhook\n",
      "2018-03-01 13:20:29,766 - telegram.bot - DEBUG - Entering: get_updates\n",
      "2018-03-01 13:20:34,485 - telegram.vendor.ptb_urllib3.urllib3.connectionpool - DEBUG - https://api.telegram.org:443 \"POST /bot484949622:AAGVa89zUGszMMp9D4Y48k-eFcw3xyQPukQ/getUpdates HTTP/1.1\" 200 517\n",
      "2018-03-01 13:20:34,487 - telegram.bot - DEBUG - Getting updates: [976005320]\n",
      "2018-03-01 13:20:34,488 - telegram.bot - DEBUG - [<telegram.update.Update object at 0x7f7ac19a63c8>]\n",
      "2018-03-01 13:20:34,490 - telegram.bot - DEBUG - Exiting: get_updates\n",
      "2018-03-01 13:20:34,491 - telegram.bot - DEBUG - Entering: get_updates\n",
      "2018-03-01 13:20:34,491 - telegram.ext.dispatcher - DEBUG - Processing Update: {'message': {'date': 1519899634, 'supergroup_chat_created': False, 'delete_chat_photo': False, 'entities': [{'length': 5, 'type': 'bot_command', 'offset': 0}], 'new_chat_members': [], 'new_chat_member': None, 'message_id': 131, 'group_chat_created': False, 'text': '/list', 'caption_entities': [], 'chat': {'last_name': 'Есенина', 'id': 57248148, 'type': 'private', 'username': 'Stamaks', 'first_name': 'Алена'}, 'from': {'last_name': 'Есенина', 'id': 57248148, 'first_name': 'Алена', 'language_code': 'en-US', 'username': 'Stamaks', 'is_bot': False}, 'channel_chat_created': False, 'photo': [], 'new_chat_photo': []}, 'update_id': 976005320}\n",
      "2018-03-01 13:20:34,494 - telegram.bot - DEBUG - Entering: get_me\n",
      "2018-03-01 13:20:34,496 - telegram.vendor.ptb_urllib3.urllib3.connectionpool - DEBUG - Starting new HTTPS connection (2): api.telegram.org\n",
      "2018-03-01 13:20:34,762 - telegram.vendor.ptb_urllib3.urllib3.connectionpool - DEBUG - https://api.telegram.org:443 \"GET /bot484949622:AAGVa89zUGszMMp9D4Y48k-eFcw3xyQPukQ/getMe HTTP/1.1\" 200 117\n",
      "2018-03-01 13:20:34,764 - telegram.bot - DEBUG - {'id': 484949622, 'is_bot': True, 'username': 'your_fine_friend_bot', 'first_name': 'Your fine Friend'}\n",
      "2018-03-01 13:20:34,765 - telegram.bot - DEBUG - Exiting: get_me\n",
      "2018-03-01 13:20:34,766 - telegram.bot - DEBUG - Entering: send_message\n",
      "2018-03-01 13:20:34,851 - telegram.vendor.ptb_urllib3.urllib3.connectionpool - DEBUG - https://api.telegram.org:443 \"POST /bot484949622:AAGVa89zUGszMMp9D4Y48k-eFcw3xyQPukQ/sendMessage HTTP/1.1\" 200 496\n",
      "2018-03-01 13:20:34,852 - telegram.bot - DEBUG - {'date': 1519899634, 'supergroup_chat_created': False, 'delete_chat_photo': False, 'entities': [], 'new_chat_members': [], 'new_chat_member': None, 'message_id': 132, 'group_chat_created': False, 'text': 'Упс, ты молодец, у тебя нет задач :)', 'caption_entities': [], 'chat': {'last_name': 'Есенина', 'id': 57248148, 'type': 'private', 'username': 'Stamaks', 'first_name': 'Алена'}, 'from': {'id': 484949622, 'is_bot': True, 'username': 'your_fine_friend_bot', 'first_name': 'Your fine Friend'}, 'channel_chat_created': False, 'photo': [], 'new_chat_photo': []}\n",
      "2018-03-01 13:20:34,854 - telegram.bot - DEBUG - Exiting: send_message\n",
      "2018-03-01 13:20:34,855 - telegram.bot - DEBUG - Entering: send_message\n",
      "2018-03-01 13:20:34,930 - telegram.vendor.ptb_urllib3.urllib3.connectionpool - DEBUG - https://api.telegram.org:443 \"POST /bot484949622:AAGVa89zUGszMMp9D4Y48k-eFcw3xyQPukQ/sendMessage HTTP/1.1\" 200 338\n",
      "2018-03-01 13:20:34,932 - telegram.bot - DEBUG - {'date': 1519899634, 'supergroup_chat_created': False, 'delete_chat_photo': False, 'entities': [], 'new_chat_members': [], 'new_chat_member': None, 'message_id': 133, 'group_chat_created': False, 'text': 'key', 'caption_entities': [], 'chat': {'last_name': 'Есенина', 'id': 57248148, 'type': 'private', 'username': 'Stamaks', 'first_name': 'Алена'}, 'from': {'id': 484949622, 'is_bot': True, 'username': 'your_fine_friend_bot', 'first_name': 'Your fine Friend'}, 'channel_chat_created': False, 'photo': [], 'new_chat_photo': []}\n",
      "2018-03-01 13:20:34,934 - telegram.bot - DEBUG - Exiting: send_message\n",
      "2018-03-01 13:20:37,814 - telegram.vendor.ptb_urllib3.urllib3.connectionpool - DEBUG - https://api.telegram.org:443 \"POST /bot484949622:AAGVa89zUGszMMp9D4Y48k-eFcw3xyQPukQ/getUpdates HTTP/1.1\" 200 656\n",
      "2018-03-01 13:20:37,816 - telegram.bot - DEBUG - Getting updates: [976005321]\n",
      "2018-03-01 13:20:37,818 - telegram.bot - DEBUG - [<telegram.update.Update object at 0x7f7ac1937208>]\n",
      "2018-03-01 13:20:37,819 - telegram.bot - DEBUG - Exiting: get_updates\n",
      "2018-03-01 13:20:37,821 - telegram.bot - DEBUG - Entering: get_updates\n",
      "2018-03-01 13:20:37,822 - telegram.ext.dispatcher - DEBUG - Processing Update: {'callback_query': {'from': {'last_name': 'Есенина', 'id': 57248148, 'first_name': 'Алена', 'language_code': 'en-US', 'username': 'Stamaks', 'is_bot': False}, 'id': '245878924962321566', 'data': '-1', 'chat_instance': '4772040545576295796', 'message': {'date': 1519899634, 'supergroup_chat_created': False, 'delete_chat_photo': False, 'entities': [], 'new_chat_members': [], 'new_chat_member': None, 'message_id': 133, 'group_chat_created': False, 'text': 'key', 'caption_entities': [], 'chat': {'last_name': 'Есенина', 'id': 57248148, 'type': 'private', 'username': 'Stamaks', 'first_name': 'Алена'}, 'from': {'id': 484949622, 'is_bot': True, 'username': 'your_fine_friend_bot', 'first_name': 'Your fine Friend'}, 'channel_chat_created': False, 'photo': [], 'new_chat_photo': []}}, 'update_id': 976005321}\n",
      "2018-03-01 13:20:37,828 - telegram.bot - DEBUG - Entering: send_message\n",
      "2018-03-01 13:20:37,912 - telegram.vendor.ptb_urllib3.urllib3.connectionpool - DEBUG - https://api.telegram.org:443 \"POST /bot484949622:AAGVa89zUGszMMp9D4Y48k-eFcw3xyQPukQ/sendMessage HTTP/1.1\" 200 337\n",
      "2018-03-01 13:20:37,914 - telegram.bot - DEBUG - {'date': 1519899637, 'supergroup_chat_created': False, 'delete_chat_photo': False, 'entities': [], 'new_chat_members': [], 'new_chat_member': None, 'message_id': 134, 'group_chat_created': False, 'text': '-1', 'caption_entities': [], 'chat': {'last_name': 'Есенина', 'id': 57248148, 'type': 'private', 'username': 'Stamaks', 'first_name': 'Алена'}, 'from': {'id': 484949622, 'is_bot': True, 'username': 'your_fine_friend_bot', 'first_name': 'Your fine Friend'}, 'channel_chat_created': False, 'photo': [], 'new_chat_photo': []}\n",
      "2018-03-01 13:20:37,915 - telegram.bot - DEBUG - Exiting: send_message\n",
      "2018-03-01 13:20:40,424 - telegram.vendor.ptb_urllib3.urllib3.connectionpool - DEBUG - https://api.telegram.org:443 \"POST /bot484949622:AAGVa89zUGszMMp9D4Y48k-eFcw3xyQPukQ/getUpdates HTTP/1.1\" 200 656\n",
      "2018-03-01 13:20:40,426 - telegram.bot - DEBUG - Getting updates: [976005322]\n",
      "2018-03-01 13:20:40,427 - telegram.bot - DEBUG - [<telegram.update.Update object at 0x7f7ac1937828>]\n",
      "2018-03-01 13:20:40,428 - telegram.bot - DEBUG - Exiting: get_updates\n",
      "2018-03-01 13:20:40,429 - telegram.bot - DEBUG - Entering: get_updates\n",
      "2018-03-01 13:20:40,429 - telegram.ext.dispatcher - DEBUG - Processing Update: {'callback_query': {'from': {'last_name': 'Есенина', 'id': 57248148, 'first_name': 'Алена', 'language_code': 'en-US', 'username': 'Stamaks', 'is_bot': False}, 'id': '245878925700860861', 'data': '-1', 'chat_instance': '4772040545576295796', 'message': {'date': 1519899634, 'supergroup_chat_created': False, 'delete_chat_photo': False, 'entities': [], 'new_chat_members': [], 'new_chat_member': None, 'message_id': 133, 'group_chat_created': False, 'text': 'key', 'caption_entities': [], 'chat': {'last_name': 'Есенина', 'id': 57248148, 'type': 'private', 'username': 'Stamaks', 'first_name': 'Алена'}, 'from': {'id': 484949622, 'is_bot': True, 'username': 'your_fine_friend_bot', 'first_name': 'Your fine Friend'}, 'channel_chat_created': False, 'photo': [], 'new_chat_photo': []}}, 'update_id': 976005322}\n",
      "2018-03-01 13:20:40,433 - telegram.bot - DEBUG - Entering: send_message\n",
      "2018-03-01 13:20:40,518 - telegram.vendor.ptb_urllib3.urllib3.connectionpool - DEBUG - https://api.telegram.org:443 \"POST /bot484949622:AAGVa89zUGszMMp9D4Y48k-eFcw3xyQPukQ/sendMessage HTTP/1.1\" 200 337\n",
      "2018-03-01 13:20:40,521 - telegram.bot - DEBUG - {'date': 1519899640, 'supergroup_chat_created': False, 'delete_chat_photo': False, 'entities': [], 'new_chat_members': [], 'new_chat_member': None, 'message_id': 135, 'group_chat_created': False, 'text': '-1', 'caption_entities': [], 'chat': {'last_name': 'Есенина', 'id': 57248148, 'type': 'private', 'username': 'Stamaks', 'first_name': 'Алена'}, 'from': {'id': 484949622, 'is_bot': True, 'username': 'your_fine_friend_bot', 'first_name': 'Your fine Friend'}, 'channel_chat_created': False, 'photo': [], 'new_chat_photo': []}\n",
      "2018-03-01 13:20:40,522 - telegram.bot - DEBUG - Exiting: send_message\n",
      "2018-03-01 13:20:51,586 - telegram.vendor.ptb_urllib3.urllib3.connectionpool - DEBUG - https://api.telegram.org:443 \"POST /bot484949622:AAGVa89zUGszMMp9D4Y48k-eFcw3xyQPukQ/getUpdates HTTP/1.1\" 200 23\n",
      "2018-03-01 13:20:51,591 - telegram.bot - DEBUG - No new updates found.\n",
      "2018-03-01 13:20:51,596 - telegram.bot - DEBUG - []\n",
      "2018-03-01 13:20:51,602 - telegram.bot - DEBUG - Exiting: get_updates\n",
      "2018-03-01 13:20:51,608 - telegram.bot - DEBUG - Entering: get_updates\n"
     ]
    }
   ],
   "source": [
    "updater.start_polling()"
   ]
  },
  {
   "cell_type": "code",
   "execution_count": null,
   "metadata": {
    "collapsed": false
   },
   "outputs": [
    {
     "name": "stderr",
     "output_type": "stream",
     "text": [
      "2018-03-01 13:20:52,918 - JobQueue - DEBUG - JobQueue thread stopped\n",
      "2018-03-01 13:20:52,921 - telegram.ext.updater - DEBUG - Stopping Updater and Dispatcher...\n",
      "2018-03-01 13:20:52,923 - telegram.ext.updater - DEBUG - Requesting Dispatcher to stop...\n",
      "2018-03-01 13:20:53,526 - telegram.ext.dispatcher - DEBUG - orderly stopping\n",
      "2018-03-01 13:20:53,532 - telegram.ext.dispatcher - DEBUG - Dispatcher thread stopped\n",
      "2018-03-01 13:20:53,537 - telegram.ext.updater - DEBUG - dispatcher - ended\n",
      "2018-03-01 13:20:53,628 - telegram.ext.dispatcher - DEBUG - Waiting for async thread 1/4 to end\n",
      "2018-03-01 13:20:53,628 - telegram.ext.dispatcher - DEBUG - Closing run_async thread e9899afb-c188-496f-8e4e-64002b0a8e55_2/4\n",
      "2018-03-01 13:20:53,628 - telegram.ext.dispatcher - DEBUG - Closing run_async thread e9899afb-c188-496f-8e4e-64002b0a8e55_3/4\n",
      "2018-03-01 13:20:53,628 - telegram.ext.dispatcher - DEBUG - Closing run_async thread e9899afb-c188-496f-8e4e-64002b0a8e55_1/4\n",
      "2018-03-01 13:20:53,628 - telegram.ext.dispatcher - DEBUG - Closing run_async thread e9899afb-c188-496f-8e4e-64002b0a8e55_0/4\n",
      "2018-03-01 13:20:53,630 - telegram.ext.dispatcher - DEBUG - async thread 1/4 has ended\n",
      "2018-03-01 13:20:53,635 - telegram.ext.dispatcher - DEBUG - Waiting for async thread 2/4 to end\n",
      "2018-03-01 13:20:53,636 - telegram.ext.dispatcher - DEBUG - async thread 2/4 has ended\n",
      "2018-03-01 13:20:53,637 - telegram.ext.dispatcher - DEBUG - Waiting for async thread 3/4 to end\n",
      "2018-03-01 13:20:53,638 - telegram.ext.dispatcher - DEBUG - async thread 3/4 has ended\n",
      "2018-03-01 13:20:53,640 - telegram.ext.dispatcher - DEBUG - Waiting for async thread 4/4 to end\n",
      "2018-03-01 13:20:53,641 - telegram.ext.dispatcher - DEBUG - async thread 4/4 has ended\n",
      "2018-03-01 13:20:53,642 - telegram.ext.updater - DEBUG - Waiting for dispatcher thread to end\n",
      "2018-03-01 13:20:53,643 - telegram.ext.updater - DEBUG - dispatcher thread has ended\n",
      "2018-03-01 13:20:53,644 - telegram.ext.updater - DEBUG - Waiting for updater thread to end\n"
     ]
    }
   ],
   "source": [
    "updater.stop()"
   ]
  },
  {
   "cell_type": "code",
   "execution_count": null,
   "metadata": {
    "collapsed": true
   },
   "outputs": [],
   "source": []
  },
  {
   "cell_type": "code",
   "execution_count": null,
   "metadata": {
    "collapsed": true
   },
   "outputs": [],
   "source": []
  }
 ],
 "metadata": {
  "anaconda-cloud": {},
  "kernelspec": {
   "display_name": "Python [conda root]",
   "language": "python",
   "name": "conda-root-py"
  },
  "language_info": {
   "codemirror_mode": {
    "name": "ipython",
    "version": 3
   },
   "file_extension": ".py",
   "mimetype": "text/x-python",
   "name": "python",
   "nbconvert_exporter": "python",
   "pygments_lexer": "ipython3",
   "version": "3.5.2"
  }
 },
 "nbformat": 4,
 "nbformat_minor": 2
}
