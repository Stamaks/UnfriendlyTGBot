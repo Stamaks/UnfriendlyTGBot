{
 "cells": [
  {
   "cell_type": "code",
   "execution_count": 1,
   "metadata": {
    "collapsed": false
   },
   "outputs": [],
   "source": [
    "import logging\n",
    "from telegram.ext import CommandHandler\n",
    "from telegram.ext import Updater\n",
    "from telegram.ext import MessageHandler, Filters\n",
    "from telegram import *\n",
    "from telegram.ext import CallbackQueryHandler\n",
    "import pickle\n",
    "import random"
   ]
  },
  {
   "cell_type": "code",
   "execution_count": 2,
   "metadata": {
    "collapsed": true
   },
   "outputs": [],
   "source": [
    "logging.basicConfig(level=logging.DEBUG,\n",
    "                    format='%(asctime)s - %(name)s - %(levelname)s - %(message)s')"
   ]
  },
  {
   "cell_type": "code",
   "execution_count": 3,
   "metadata": {
    "collapsed": false
   },
   "outputs": [
    {
     "name": "stderr",
     "output_type": "stream",
     "text": [
      "2018-03-01 14:55:23,626 - telegram.ext.dispatcher - DEBUG - Setting singleton dispatcher as <telegram.ext.dispatcher.Dispatcher object at 0x7fef76b9e390>\n"
     ]
    }
   ],
   "source": [
    "updater = Updater(token=pickle.load(open(\"token\", \"rb\")))"
   ]
  },
  {
   "cell_type": "code",
   "execution_count": 4,
   "metadata": {
    "collapsed": true
   },
   "outputs": [],
   "source": [
    "is_previous_message_question = 0"
   ]
  },
  {
   "cell_type": "code",
   "execution_count": 5,
   "metadata": {
    "collapsed": false
   },
   "outputs": [],
   "source": [
    "my_chat_id = pickle.load(open(\"my_chat_id\", \"rb\"))"
   ]
  },
  {
   "cell_type": "code",
   "execution_count": 6,
   "metadata": {
    "collapsed": false
   },
   "outputs": [],
   "source": [
    "tasks = []"
   ]
  },
  {
   "cell_type": "code",
   "execution_count": 7,
   "metadata": {
    "collapsed": true
   },
   "outputs": [],
   "source": [
    "add_task = 0"
   ]
  },
  {
   "cell_type": "code",
   "execution_count": 8,
   "metadata": {
    "collapsed": false
   },
   "outputs": [],
   "source": [
    "def start(bot, update):\n",
    "    text = random.choice([\"Ага, ну здарова.\", \"Ку!\", \"Приветище!\", \"Ну чего тебе надо?\"])\n",
    "    bot.send_message(chat_id=update.message.chat_id, text=text)\n",
    "    bot.send_message(chat_id=update.message.chat_id, text=\"Ну и что ты сделала за сегодня?\")\n",
    "    is_previous_message_question = 1\n",
    "        \n",
    "def echo(bot, update):\n",
    "#     if (is_previous_message_question):\n",
    "#     if (update.message.text == \"1. Пожарить картошку\"):\n",
    "#         key_button1 = KeyboardButton(text=\"Точно?\")\n",
    "#         keyboard1 = ReplyKeyboardMarkup([[key_button1]])\n",
    "#         bot.send_message(chat_id=update.message.chat_id, text=\"Уверена?\", reply_markup=keyboard1)\n",
    "    if add_task == 1:\n",
    "        add_task = 0\n",
    "        tasks.append(update.message.text)\n",
    "        bot.send_message(chat_id=update.message.chat_id, text=\"Добавил \\\"\" + update.message.text + \"\\\"\")\n",
    "    else:\n",
    "        if (\"ничего\" or \"нифига\" or \"нихуя\" in update.message.text.lower()):\n",
    "            text = random.choice([\"Ну молодец, молодец! Тебе же нечего делать, да?\", \"Капец, ты начнешь развиваться, инфузория?\", \"Мда, капец...\", \"И чо, тебе норм?..\", \"Ну да .-.\", \"Жесть .-.\"])\n",
    "            bot.send_message(chat_id=update.message.chat_id, text=text)\n",
    "        elif len(update.message.text.split()) < 10:\n",
    "            text = random.choice([\"То есть, ничего?..\", \"Чот как-то не оч .-.\", \"Мдааа, такое...\"])\n",
    "            bot.send_message(chat_id=update.message.chat_id, text=text)\n",
    "        elif len(update.message.text.split()) >= 10:\n",
    "            text = random.choice([\"Лол, кек, чебурек)) Надо еще кой-чо сделать.\", \"Лан, сегодня норм. Но вообще-то у тебя еще есть задачи.\", \"Ну, неплохо, да, ты вумница :3 Только сделай тут еще один пунктик, плз!\"])\n",
    "            bot.send_message(chat_id=update.message.chat_id, text=text)\n",
    "        is_previous_message_question = 0\n",
    "#     else:\n",
    "#         bot.send_message(chat_id=update.message.chat_id, text=\"Ничонипонял\")\n",
    "        \n",
    "def show_keyboard(bot, update):\n",
    "    if len(tasks) == 0:\n",
    "        bot.send_message(chat_id=update.message.chat_id, text=\"Упс, ты молодец, у тебя нет задач :)\")\n",
    "#         bot.send_message(chat_id=update.message.chat_id, text=\"Лови список задач!\", reply_markup=keyboard)\n",
    "        key_buttons = []\n",
    "        for i in range(len(tasks)):\n",
    "            key_buttons.append(InlineKeyboardButton(text=str(i+1) + \". \" + tasks[i], callback_data=str(i)))\n",
    "        key_buttons.append(InlineKeyboardButton(text=\"Добавить\", callback_data=str(-1)))\n",
    "        keyboard = InlineKeyboardMarkup([key_buttons])\n",
    "        bot.send_message(chat_id=update.message.chat_id, text=\"key\", reply_markup=keyboard)\n",
    "    \n",
    "def callback_query(bot, update):\n",
    "#     bot.send_message(chat_id=my_chat_id, text=update.callback_query.message.message_id)\n",
    "    update.callback_query.message.editMessageText(text=\"jkjkjkj\")\n",
    "    if (int(update.callback_query.data) >= 0):\n",
    "        key_buttons = []\n",
    "        key_buttons.append(InlineKeyboardButton(text=\"Случайно тыкнула!\", callback_data=str(-2)))\n",
    "        key_buttons.append(InlineKeyboardButton(text=\"Сделала :)\", callback_data=str(-3)))\n",
    "        key_buttons.append(InlineKeyboardButton(text=\"Просто удали\", callback_data=str(-4)))\n",
    "        keyboard = InlineKeyboardMarkup([key_buttons])\n",
    "        bot.send_message(chat_id=update.message.chat_id, text=\"ere\", reply_markup=keyboard)        \n",
    "    elif int(update.callback_query.data) == -1:\n",
    "        add_task = 1\n",
    "    bot.send_message(chat_id=my_chat_id, text=update.callback_query.data)"
   ]
  },
  {
   "cell_type": "code",
   "execution_count": 9,
   "metadata": {
    "collapsed": true
   },
   "outputs": [],
   "source": [
    "start_handler = CommandHandler('start', start)\n",
    "show_keyboard_handler = CommandHandler('list', show_keyboard)"
   ]
  },
  {
   "cell_type": "code",
   "execution_count": 10,
   "metadata": {
    "collapsed": false
   },
   "outputs": [],
   "source": [
    "callback_query_handler = CallbackQueryHandler(callback_query)"
   ]
  },
  {
   "cell_type": "code",
   "execution_count": 11,
   "metadata": {
    "collapsed": false
   },
   "outputs": [],
   "source": [
    "dispatcher = updater.dispatcher\n",
    "dispatcher.add_handler(start_handler)\n",
    "dispatcher.add_handler(show_keyboard_handler)\n",
    "dispatcher.add_handler(callback_query_handler)"
   ]
  },
  {
   "cell_type": "code",
   "execution_count": 12,
   "metadata": {
    "collapsed": false
   },
   "outputs": [],
   "source": [
    "echo_handler = MessageHandler(Filters.text, echo)\n",
    "dispatcher.add_handler(echo_handler)"
   ]
  },
  {
   "cell_type": "code",
   "execution_count": null,
   "metadata": {
    "collapsed": true
   },
   "outputs": [],
   "source": []
  },
  {
   "cell_type": "code",
   "execution_count": null,
   "metadata": {
    "collapsed": true
   },
   "outputs": [],
   "source": []
  },
  {
   "cell_type": "code",
   "execution_count": null,
   "metadata": {
    "collapsed": true
   },
   "outputs": [],
   "source": []
  },
  {
   "cell_type": "code",
   "execution_count": 13,
   "metadata": {
    "collapsed": false
   },
   "outputs": [
    {
     "name": "stderr",
     "output_type": "stream",
     "text": [
      "2018-03-01 14:55:26,001 - JobQueue - DEBUG - JobQueue thread started\n",
      "2018-03-01 14:55:26,005 - telegram.ext.updater - DEBUG - dispatcher - started\n",
      "2018-03-01 14:55:26,006 - telegram.ext.updater - DEBUG - updater - started\n",
      "2018-03-01 14:55:26,012 - telegram.ext.dispatcher - DEBUG - Dispatcher started\n",
      "2018-03-01 14:55:26,012 - telegram.ext.updater - DEBUG - Updater thread started\n"
     ]
    },
    {
     "data": {
      "text/plain": [
       "<queue.Queue at 0x7fef76b9e080>"
      ]
     },
     "execution_count": 13,
     "metadata": {},
     "output_type": "execute_result"
    },
    {
     "name": "stderr",
     "output_type": "stream",
     "text": [
      "2018-03-01 14:55:26,026 - telegram.bot - DEBUG - Entering: set_webhook\n",
      "2018-03-01 14:55:26,029 - telegram.vendor.ptb_urllib3.urllib3.connectionpool - DEBUG - Starting new HTTPS connection (1): api.telegram.org\n",
      "2018-03-01 14:55:26,817 - telegram.vendor.ptb_urllib3.urllib3.connectionpool - DEBUG - https://api.telegram.org:443 \"POST /bot484949622:AAGVa89zUGszMMp9D4Y48k-eFcw3xyQPukQ/setWebhook HTTP/1.1\" 200 68\n",
      "2018-03-01 14:55:26,822 - telegram.bot - DEBUG - True\n",
      "2018-03-01 14:55:26,826 - telegram.bot - DEBUG - Exiting: set_webhook\n",
      "2018-03-01 14:55:26,831 - telegram.bot - DEBUG - Entering: get_updates\n",
      "2018-03-01 14:55:30,273 - telegram.vendor.ptb_urllib3.urllib3.connectionpool - DEBUG - https://api.telegram.org:443 \"POST /bot484949622:AAGVa89zUGszMMp9D4Y48k-eFcw3xyQPukQ/getUpdates HTTP/1.1\" 200 656\n",
      "2018-03-01 14:55:30,279 - telegram.bot - DEBUG - Getting updates: [976005332]\n",
      "2018-03-01 14:55:30,284 - telegram.bot - DEBUG - [<telegram.update.Update object at 0x7fef76bc1630>]\n",
      "2018-03-01 14:55:30,288 - telegram.bot - DEBUG - Exiting: get_updates\n",
      "2018-03-01 14:55:30,292 - telegram.bot - DEBUG - Entering: get_updates\n",
      "2018-03-01 14:55:30,294 - telegram.ext.dispatcher - DEBUG - Processing Update: {'callback_query': {'message': {'new_chat_photo': [], 'delete_chat_photo': False, 'channel_chat_created': False, 'from': {'is_bot': True, 'id': 484949622, 'username': 'your_fine_friend_bot', 'first_name': 'Your fine Friend'}, 'photo': [], 'message_id': 133, 'new_chat_members': [], 'chat': {'id': 57248148, 'username': 'Stamaks', 'first_name': 'Алена', 'type': 'private', 'last_name': 'Есенина'}, 'supergroup_chat_created': False, 'new_chat_member': None, 'entities': [], 'date': 1519899634, 'caption_entities': [], 'group_chat_created': False, 'text': 'key'}, 'from': {'language_code': 'en-US', 'is_bot': False, 'last_name': 'Есенина', 'id': 57248148, 'username': 'Stamaks', 'first_name': 'Алена'}, 'chat_instance': '4772040545576295796', 'data': '-1', 'id': '245878925259600676'}, 'update_id': 976005332}\n",
      "2018-03-01 14:55:30,304 - telegram.ext.dispatcher - ERROR - An uncaught error was raised while processing the update\n",
      "Traceback (most recent call last):\n",
      "  File \"/home/alena/anaconda3/lib/python3.5/site-packages/telegram/ext/dispatcher.py\", line 279, in process_update\n",
      "    handler.handle_update(update, self)\n",
      "  File \"/home/alena/anaconda3/lib/python3.5/site-packages/telegram/ext/callbackqueryhandler.py\", line 143, in handle_update\n",
      "    return self.callback(dispatcher.bot, update, **optional_args)\n",
      "  File \"<ipython-input-8-fbde9bf471b7>\", line 44, in callback_query\n",
      "    update.callback_query.message.editMessageText(text=\"jkjkjkj\")\n",
      "AttributeError: 'Message' object has no attribute 'editMessageText'\n",
      "2018-03-01 14:55:31,588 - telegram.vendor.ptb_urllib3.urllib3.connectionpool - DEBUG - https://api.telegram.org:443 \"POST /bot484949622:AAGVa89zUGszMMp9D4Y48k-eFcw3xyQPukQ/getUpdates HTTP/1.1\" 200 656\n",
      "2018-03-01 14:55:31,591 - telegram.bot - DEBUG - Getting updates: [976005333]\n",
      "2018-03-01 14:55:31,594 - telegram.bot - DEBUG - [<telegram.update.Update object at 0x7fef76bc1fd0>]\n",
      "2018-03-01 14:55:31,596 - telegram.bot - DEBUG - Exiting: get_updates\n",
      "2018-03-01 14:55:31,597 - telegram.ext.dispatcher - DEBUG - Processing Update: {'callback_query': {'message': {'new_chat_photo': [], 'delete_chat_photo': False, 'channel_chat_created': False, 'from': {'is_bot': True, 'id': 484949622, 'username': 'your_fine_friend_bot', 'first_name': 'Your fine Friend'}, 'photo': [], 'message_id': 133, 'new_chat_members': [], 'chat': {'id': 57248148, 'username': 'Stamaks', 'first_name': 'Алена', 'type': 'private', 'last_name': 'Есенина'}, 'supergroup_chat_created': False, 'new_chat_member': None, 'entities': [], 'date': 1519899634, 'caption_entities': [], 'group_chat_created': False, 'text': 'key'}, 'from': {'language_code': 'en-US', 'is_bot': False, 'last_name': 'Есенина', 'id': 57248148, 'username': 'Stamaks', 'first_name': 'Алена'}, 'chat_instance': '4772040545576295796', 'data': '-1', 'id': '245878923771095800'}, 'update_id': 976005333}\n",
      "2018-03-01 14:55:31,598 - telegram.ext.dispatcher - ERROR - An uncaught error was raised while processing the update\n",
      "Traceback (most recent call last):\n",
      "  File \"/home/alena/anaconda3/lib/python3.5/site-packages/telegram/ext/dispatcher.py\", line 279, in process_update\n",
      "    handler.handle_update(update, self)\n",
      "  File \"/home/alena/anaconda3/lib/python3.5/site-packages/telegram/ext/callbackqueryhandler.py\", line 143, in handle_update\n",
      "    return self.callback(dispatcher.bot, update, **optional_args)\n",
      "  File \"<ipython-input-8-fbde9bf471b7>\", line 44, in callback_query\n",
      "    update.callback_query.message.editMessageText(text=\"jkjkjkj\")\n",
      "AttributeError: 'Message' object has no attribute 'editMessageText'\n",
      "2018-03-01 14:55:31,597 - telegram.bot - DEBUG - Entering: get_updates\n",
      "2018-03-01 14:55:34,791 - telegram.vendor.ptb_urllib3.urllib3.connectionpool - DEBUG - https://api.telegram.org:443 \"POST /bot484949622:AAGVa89zUGszMMp9D4Y48k-eFcw3xyQPukQ/getUpdates HTTP/1.1\" 200 519\n",
      "2018-03-01 14:55:34,793 - telegram.bot - DEBUG - Getting updates: [976005334]\n",
      "2018-03-01 14:55:34,795 - telegram.bot - DEBUG - [<telegram.update.Update object at 0x7fef76b58198>]\n",
      "2018-03-01 14:55:34,798 - telegram.bot - DEBUG - Exiting: get_updates\n",
      "2018-03-01 14:55:34,800 - telegram.bot - DEBUG - Entering: get_updates\n",
      "2018-03-01 14:55:34,800 - telegram.ext.dispatcher - DEBUG - Processing Update: {'message': {'new_chat_photo': [], 'delete_chat_photo': False, 'channel_chat_created': False, 'from': {'language_code': 'en-US', 'is_bot': False, 'last_name': 'Есенина', 'id': 57248148, 'username': 'Stamaks', 'first_name': 'Алена'}, 'photo': [], 'message_id': 145, 'new_chat_members': [], 'chat': {'id': 57248148, 'username': 'Stamaks', 'first_name': 'Алена', 'type': 'private', 'last_name': 'Есенина'}, 'supergroup_chat_created': False, 'new_chat_member': None, 'entities': [{'length': 7, 'type': 'bot_command', 'offset': 0}], 'date': 1519905334, 'caption_entities': [], 'group_chat_created': False, 'text': '/inline'}, 'update_id': 976005334}\n",
      "2018-03-01 14:55:34,804 - telegram.bot - DEBUG - Entering: get_me\n",
      "2018-03-01 14:55:34,806 - telegram.vendor.ptb_urllib3.urllib3.connectionpool - DEBUG - Starting new HTTPS connection (2): api.telegram.org\n",
      "2018-03-01 14:55:35,210 - telegram.vendor.ptb_urllib3.urllib3.connectionpool - DEBUG - https://api.telegram.org:443 \"GET /bot484949622:AAGVa89zUGszMMp9D4Y48k-eFcw3xyQPukQ/getMe HTTP/1.1\" 200 117\n",
      "2018-03-01 14:55:35,215 - telegram.bot - DEBUG - {'is_bot': True, 'id': 484949622, 'username': 'your_fine_friend_bot', 'first_name': 'Your fine Friend'}\n",
      "2018-03-01 14:55:35,221 - telegram.bot - DEBUG - Exiting: get_me\n",
      "2018-03-01 14:55:39,068 - telegram.vendor.ptb_urllib3.urllib3.connectionpool - DEBUG - https://api.telegram.org:443 \"POST /bot484949622:AAGVa89zUGszMMp9D4Y48k-eFcw3xyQPukQ/getUpdates HTTP/1.1\" 200 517\n",
      "2018-03-01 14:55:39,071 - telegram.bot - DEBUG - Getting updates: [976005335]\n",
      "2018-03-01 14:55:39,073 - telegram.bot - DEBUG - [<telegram.update.Update object at 0x7fef76b58588>]\n",
      "2018-03-01 14:55:39,075 - telegram.bot - DEBUG - Exiting: get_updates\n",
      "2018-03-01 14:55:39,078 - telegram.bot - DEBUG - Entering: get_updates\n",
      "2018-03-01 14:55:39,079 - telegram.ext.dispatcher - DEBUG - Processing Update: {'message': {'new_chat_photo': [], 'delete_chat_photo': False, 'channel_chat_created': False, 'from': {'language_code': 'en-US', 'is_bot': False, 'last_name': 'Есенина', 'id': 57248148, 'username': 'Stamaks', 'first_name': 'Алена'}, 'photo': [], 'message_id': 146, 'new_chat_members': [], 'chat': {'id': 57248148, 'username': 'Stamaks', 'first_name': 'Алена', 'type': 'private', 'last_name': 'Есенина'}, 'supergroup_chat_created': False, 'new_chat_member': None, 'entities': [{'length': 5, 'type': 'bot_command', 'offset': 0}], 'date': 1519905338, 'caption_entities': [], 'group_chat_created': False, 'text': '/list'}, 'update_id': 976005335}\n",
      "2018-03-01 14:55:39,084 - telegram.bot - DEBUG - Entering: send_message\n",
      "2018-03-01 14:55:39,179 - telegram.vendor.ptb_urllib3.urllib3.connectionpool - DEBUG - https://api.telegram.org:443 \"POST /bot484949622:AAGVa89zUGszMMp9D4Y48k-eFcw3xyQPukQ/sendMessage HTTP/1.1\" 200 496\n",
      "2018-03-01 14:55:39,181 - telegram.bot - DEBUG - {'new_chat_photo': [], 'delete_chat_photo': False, 'channel_chat_created': False, 'from': {'is_bot': True, 'id': 484949622, 'username': 'your_fine_friend_bot', 'first_name': 'Your fine Friend'}, 'photo': [], 'message_id': 147, 'new_chat_members': [], 'chat': {'id': 57248148, 'username': 'Stamaks', 'first_name': 'Алена', 'type': 'private', 'last_name': 'Есенина'}, 'supergroup_chat_created': False, 'new_chat_member': None, 'entities': [], 'date': 1519905339, 'caption_entities': [], 'group_chat_created': False, 'text': 'Упс, ты молодец, у тебя нет задач :)'}\n",
      "2018-03-01 14:55:39,183 - telegram.bot - DEBUG - Exiting: send_message\n",
      "2018-03-01 14:55:39,185 - telegram.bot - DEBUG - Entering: send_message\n",
      "2018-03-01 14:55:39,288 - telegram.vendor.ptb_urllib3.urllib3.connectionpool - DEBUG - https://api.telegram.org:443 \"POST /bot484949622:AAGVa89zUGszMMp9D4Y48k-eFcw3xyQPukQ/sendMessage HTTP/1.1\" 200 338\n",
      "2018-03-01 14:55:39,294 - telegram.bot - DEBUG - {'new_chat_photo': [], 'delete_chat_photo': False, 'channel_chat_created': False, 'from': {'is_bot': True, 'id': 484949622, 'username': 'your_fine_friend_bot', 'first_name': 'Your fine Friend'}, 'photo': [], 'message_id': 148, 'new_chat_members': [], 'chat': {'id': 57248148, 'username': 'Stamaks', 'first_name': 'Алена', 'type': 'private', 'last_name': 'Есенина'}, 'supergroup_chat_created': False, 'new_chat_member': None, 'entities': [], 'date': 1519905339, 'caption_entities': [], 'group_chat_created': False, 'text': 'key'}\n",
      "2018-03-01 14:55:39,300 - telegram.bot - DEBUG - Exiting: send_message\n",
      "2018-03-01 14:55:42,062 - telegram.vendor.ptb_urllib3.urllib3.connectionpool - DEBUG - https://api.telegram.org:443 \"POST /bot484949622:AAGVa89zUGszMMp9D4Y48k-eFcw3xyQPukQ/getUpdates HTTP/1.1\" 200 656\n",
      "2018-03-01 14:55:42,064 - telegram.bot - DEBUG - Getting updates: [976005336]\n",
      "2018-03-01 14:55:42,065 - telegram.bot - DEBUG - [<telegram.update.Update object at 0x7fef76b58ac8>]\n",
      "2018-03-01 14:55:42,067 - telegram.bot - DEBUG - Exiting: get_updates\n",
      "2018-03-01 14:55:42,069 - telegram.bot - DEBUG - Entering: get_updates\n",
      "2018-03-01 14:55:42,070 - telegram.ext.dispatcher - DEBUG - Processing Update: {'callback_query': {'message': {'new_chat_photo': [], 'delete_chat_photo': False, 'channel_chat_created': False, 'from': {'is_bot': True, 'id': 484949622, 'username': 'your_fine_friend_bot', 'first_name': 'Your fine Friend'}, 'photo': [], 'message_id': 148, 'new_chat_members': [], 'chat': {'id': 57248148, 'username': 'Stamaks', 'first_name': 'Алена', 'type': 'private', 'last_name': 'Есенина'}, 'supergroup_chat_created': False, 'new_chat_member': None, 'entities': [], 'date': 1519905339, 'caption_entities': [], 'group_chat_created': False, 'text': 'key'}, 'from': {'language_code': 'en-US', 'is_bot': False, 'last_name': 'Есенина', 'id': 57248148, 'username': 'Stamaks', 'first_name': 'Алена'}, 'chat_instance': '4772040545576295796', 'data': '-1', 'id': '245878925612514589'}, 'update_id': 976005336}\n",
      "2018-03-01 14:55:42,075 - telegram.ext.dispatcher - ERROR - An uncaught error was raised while processing the update\n",
      "Traceback (most recent call last):\n",
      "  File \"/home/alena/anaconda3/lib/python3.5/site-packages/telegram/ext/dispatcher.py\", line 279, in process_update\n",
      "    handler.handle_update(update, self)\n",
      "  File \"/home/alena/anaconda3/lib/python3.5/site-packages/telegram/ext/callbackqueryhandler.py\", line 143, in handle_update\n",
      "    return self.callback(dispatcher.bot, update, **optional_args)\n",
      "  File \"<ipython-input-8-fbde9bf471b7>\", line 44, in callback_query\n",
      "    update.callback_query.message.editMessageText(text=\"jkjkjkj\")\n",
      "AttributeError: 'Message' object has no attribute 'editMessageText'\n",
      "2018-03-01 14:55:42,928 - telegram.vendor.ptb_urllib3.urllib3.connectionpool - DEBUG - https://api.telegram.org:443 \"POST /bot484949622:AAGVa89zUGszMMp9D4Y48k-eFcw3xyQPukQ/getUpdates HTTP/1.1\" 200 656\n",
      "2018-03-01 14:55:42,932 - telegram.bot - DEBUG - Getting updates: [976005337]\n",
      "2018-03-01 14:55:42,937 - telegram.bot - DEBUG - [<telegram.update.Update object at 0x7fef76b58d30>]\n",
      "2018-03-01 14:55:42,939 - telegram.bot - DEBUG - Exiting: get_updates\n",
      "2018-03-01 14:55:42,941 - telegram.ext.dispatcher - DEBUG - Processing Update: {'callback_query': {'message': {'new_chat_photo': [], 'delete_chat_photo': False, 'channel_chat_created': False, 'from': {'is_bot': True, 'id': 484949622, 'username': 'your_fine_friend_bot', 'first_name': 'Your fine Friend'}, 'photo': [], 'message_id': 148, 'new_chat_members': [], 'chat': {'id': 57248148, 'username': 'Stamaks', 'first_name': 'Алена', 'type': 'private', 'last_name': 'Есенина'}, 'supergroup_chat_created': False, 'new_chat_member': None, 'entities': [], 'date': 1519905339, 'caption_entities': [], 'group_chat_created': False, 'text': 'key'}, 'from': {'language_code': 'en-US', 'is_bot': False, 'last_name': 'Есенина', 'id': 57248148, 'username': 'Stamaks', 'first_name': 'Алена'}, 'chat_instance': '4772040545576295796', 'data': '-1', 'id': '245878926994044653'}, 'update_id': 976005337}\n",
      "2018-03-01 14:55:42,941 - telegram.bot - DEBUG - Entering: get_updates\n",
      "2018-03-01 14:55:42,942 - telegram.ext.dispatcher - ERROR - An uncaught error was raised while processing the update\n",
      "Traceback (most recent call last):\n",
      "  File \"/home/alena/anaconda3/lib/python3.5/site-packages/telegram/ext/dispatcher.py\", line 279, in process_update\n",
      "    handler.handle_update(update, self)\n",
      "  File \"/home/alena/anaconda3/lib/python3.5/site-packages/telegram/ext/callbackqueryhandler.py\", line 143, in handle_update\n",
      "    return self.callback(dispatcher.bot, update, **optional_args)\n",
      "  File \"<ipython-input-8-fbde9bf471b7>\", line 44, in callback_query\n",
      "    update.callback_query.message.editMessageText(text=\"jkjkjkj\")\n",
      "AttributeError: 'Message' object has no attribute 'editMessageText'\n",
      "2018-03-01 14:55:53,069 - telegram.vendor.ptb_urllib3.urllib3.connectionpool - DEBUG - https://api.telegram.org:443 \"POST /bot484949622:AAGVa89zUGszMMp9D4Y48k-eFcw3xyQPukQ/getUpdates HTTP/1.1\" 200 23\n",
      "2018-03-01 14:55:53,074 - telegram.bot - DEBUG - No new updates found.\n",
      "2018-03-01 14:55:53,078 - telegram.bot - DEBUG - []\n",
      "2018-03-01 14:55:53,081 - telegram.bot - DEBUG - Exiting: get_updates\n",
      "2018-03-01 14:55:53,085 - telegram.bot - DEBUG - Entering: get_updates\n",
      "2018-03-01 14:56:03,144 - telegram.vendor.ptb_urllib3.urllib3.connectionpool - DEBUG - https://api.telegram.org:443 \"POST /bot484949622:AAGVa89zUGszMMp9D4Y48k-eFcw3xyQPukQ/getUpdates HTTP/1.1\" 200 23\n",
      "2018-03-01 14:56:03,151 - telegram.bot - DEBUG - No new updates found.\n",
      "2018-03-01 14:56:03,155 - telegram.bot - DEBUG - []\n",
      "2018-03-01 14:56:03,162 - telegram.bot - DEBUG - Exiting: get_updates\n",
      "2018-03-01 14:56:03,168 - telegram.bot - DEBUG - Entering: get_updates\n",
      "2018-03-01 14:56:13,397 - telegram.vendor.ptb_urllib3.urllib3.connectionpool - DEBUG - https://api.telegram.org:443 \"POST /bot484949622:AAGVa89zUGszMMp9D4Y48k-eFcw3xyQPukQ/getUpdates HTTP/1.1\" 200 23\n",
      "2018-03-01 14:56:13,399 - telegram.bot - DEBUG - No new updates found.\n",
      "2018-03-01 14:56:13,402 - telegram.bot - DEBUG - []\n",
      "2018-03-01 14:56:13,403 - telegram.bot - DEBUG - Exiting: get_updates\n",
      "2018-03-01 14:56:13,406 - telegram.bot - DEBUG - Entering: get_updates\n",
      "2018-03-01 14:56:24,254 - telegram.vendor.ptb_urllib3.urllib3.connectionpool - DEBUG - https://api.telegram.org:443 \"POST /bot484949622:AAGVa89zUGszMMp9D4Y48k-eFcw3xyQPukQ/getUpdates HTTP/1.1\" 200 23\n",
      "2018-03-01 14:56:24,260 - telegram.bot - DEBUG - No new updates found.\n",
      "2018-03-01 14:56:24,266 - telegram.bot - DEBUG - []\n",
      "2018-03-01 14:56:24,271 - telegram.bot - DEBUG - Exiting: get_updates\n",
      "2018-03-01 14:56:24,277 - telegram.bot - DEBUG - Entering: get_updates\n",
      "2018-03-01 14:56:34,609 - telegram.vendor.ptb_urllib3.urllib3.connectionpool - DEBUG - https://api.telegram.org:443 \"POST /bot484949622:AAGVa89zUGszMMp9D4Y48k-eFcw3xyQPukQ/getUpdates HTTP/1.1\" 200 23\n",
      "2018-03-01 14:56:34,615 - telegram.bot - DEBUG - No new updates found.\n",
      "2018-03-01 14:56:34,622 - telegram.bot - DEBUG - []\n",
      "2018-03-01 14:56:34,630 - telegram.bot - DEBUG - Exiting: get_updates\n",
      "2018-03-01 14:56:34,634 - telegram.bot - DEBUG - Entering: get_updates\n"
     ]
    }
   ],
   "source": [
    "updater.start_polling()"
   ]
  },
  {
   "cell_type": "code",
   "execution_count": 14,
   "metadata": {
    "collapsed": false
   },
   "outputs": [
    {
     "name": "stderr",
     "output_type": "stream",
     "text": [
      "2018-03-01 14:48:55,878 - JobQueue - DEBUG - JobQueue thread stopped\n",
      "2018-03-01 14:48:55,882 - telegram.ext.updater - DEBUG - Stopping Updater and Dispatcher...\n",
      "2018-03-01 14:48:55,884 - telegram.ext.updater - DEBUG - Requesting Dispatcher to stop...\n",
      "2018-03-01 14:48:56,040 - telegram.ext.dispatcher - DEBUG - orderly stopping\n",
      "2018-03-01 14:48:56,043 - telegram.ext.dispatcher - DEBUG - Dispatcher thread stopped\n",
      "2018-03-01 14:48:56,049 - telegram.ext.updater - DEBUG - dispatcher - ended\n",
      "2018-03-01 14:48:56,088 - telegram.ext.dispatcher - DEBUG - Waiting for async thread 1/4 to end\n",
      "2018-03-01 14:48:56,088 - telegram.ext.dispatcher - DEBUG - Closing run_async thread 5a929e46-fac7-4a95-8da4-e4466149c7b6_0/4\n",
      "2018-03-01 14:48:56,088 - telegram.ext.dispatcher - DEBUG - Closing run_async thread 5a929e46-fac7-4a95-8da4-e4466149c7b6_1/4\n",
      "2018-03-01 14:48:56,089 - telegram.ext.dispatcher - DEBUG - Closing run_async thread 5a929e46-fac7-4a95-8da4-e4466149c7b6_2/4\n",
      "2018-03-01 14:48:56,089 - telegram.ext.dispatcher - DEBUG - Closing run_async thread 5a929e46-fac7-4a95-8da4-e4466149c7b6_3/4\n",
      "2018-03-01 14:48:56,099 - telegram.ext.dispatcher - DEBUG - async thread 1/4 has ended\n",
      "2018-03-01 14:48:56,100 - telegram.ext.dispatcher - DEBUG - Waiting for async thread 2/4 to end\n",
      "2018-03-01 14:48:56,102 - telegram.ext.dispatcher - DEBUG - async thread 2/4 has ended\n",
      "2018-03-01 14:48:56,103 - telegram.ext.dispatcher - DEBUG - Waiting for async thread 3/4 to end\n",
      "2018-03-01 14:48:56,104 - telegram.ext.dispatcher - DEBUG - async thread 3/4 has ended\n",
      "2018-03-01 14:48:56,105 - telegram.ext.dispatcher - DEBUG - Waiting for async thread 4/4 to end\n",
      "2018-03-01 14:48:56,106 - telegram.ext.dispatcher - DEBUG - async thread 4/4 has ended\n",
      "2018-03-01 14:48:56,107 - telegram.ext.updater - DEBUG - Waiting for dispatcher thread to end\n",
      "2018-03-01 14:48:56,109 - telegram.ext.updater - DEBUG - dispatcher thread has ended\n",
      "2018-03-01 14:48:56,110 - telegram.ext.updater - DEBUG - Waiting for updater thread to end\n",
      "2018-03-01 14:49:05,178 - telegram.vendor.ptb_urllib3.urllib3.connectionpool - DEBUG - https://api.telegram.org:443 \"POST /bot484949622:AAGVa89zUGszMMp9D4Y48k-eFcw3xyQPukQ/getUpdates HTTP/1.1\" 200 23\n",
      "2018-03-01 14:49:05,183 - telegram.bot - DEBUG - No new updates found.\n",
      "2018-03-01 14:49:05,188 - telegram.bot - DEBUG - []\n",
      "2018-03-01 14:49:05,194 - telegram.bot - DEBUG - Exiting: get_updates\n",
      "2018-03-01 14:49:05,199 - telegram.ext.updater - DEBUG - updater - ended\n",
      "2018-03-01 14:49:05,205 - telegram.ext.updater - DEBUG - updater thread has ended\n"
     ]
    }
   ],
   "source": [
    "updater.stop()"
   ]
  },
  {
   "cell_type": "code",
   "execution_count": null,
   "metadata": {
    "collapsed": true
   },
   "outputs": [],
   "source": []
  },
  {
   "cell_type": "code",
   "execution_count": null,
   "metadata": {
    "collapsed": true
   },
   "outputs": [],
   "source": []
  }
 ],
 "metadata": {
  "anaconda-cloud": {},
  "kernelspec": {
   "display_name": "Python [conda root]",
   "language": "python",
   "name": "conda-root-py"
  },
  "language_info": {
   "codemirror_mode": {
    "name": "ipython",
    "version": 3
   },
   "file_extension": ".py",
   "mimetype": "text/x-python",
   "name": "python",
   "nbconvert_exporter": "python",
   "pygments_lexer": "ipython3",
   "version": "3.5.2"
  }
 },
 "nbformat": 4,
 "nbformat_minor": 2
}
