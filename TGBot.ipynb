{
 "cells": [
  {
   "cell_type": "code",
   "execution_count": 1,
   "metadata": {
    "collapsed": true
   },
   "outputs": [],
   "source": [
    "import logging"
   ]
  },
  {
   "cell_type": "code",
   "execution_count": 2,
   "metadata": {
    "collapsed": true
   },
   "outputs": [],
   "source": [
    "logging.basicConfig(level=logging.DEBUG,\n",
    "                    format='%(asctime)s - %(name)s - %(levelname)s - %(message)s')"
   ]
  },
  {
   "cell_type": "code",
   "execution_count": 3,
   "metadata": {
    "collapsed": true
   },
   "outputs": [],
   "source": [
    "from telegram.ext import Updater\n"
   ]
  },
  {
   "cell_type": "code",
   "execution_count": 4,
   "metadata": {
    "collapsed": false
   },
   "outputs": [
    {
     "name": "stderr",
     "output_type": "stream",
     "text": [
      "2018-02-28 21:43:55,034 - telegram.ext.dispatcher - DEBUG - Setting singleton dispatcher as <telegram.ext.dispatcher.Dispatcher object at 0x7f8cc590d1d0>\n"
     ]
    }
   ],
   "source": [
    "updater = Updater(token=\"484949622:AAGVa89zUGszMMp9D4Y48k-eFcw3xyQPukQ\")"
   ]
  },
  {
   "cell_type": "code",
   "execution_count": 5,
   "metadata": {
    "collapsed": true
   },
   "outputs": [],
   "source": [
    "def start(bot, update):\n",
    "    bot.send_message(chat_id=update.message.chat_id, text=\"I'm a bot, please talk to me!\")"
   ]
  },
  {
   "cell_type": "code",
   "execution_count": 6,
   "metadata": {
    "collapsed": true
   },
   "outputs": [],
   "source": [
    "from telegram.ext import CommandHandler"
   ]
  },
  {
   "cell_type": "code",
   "execution_count": 7,
   "metadata": {
    "collapsed": true
   },
   "outputs": [],
   "source": [
    "start_handler = CommandHandler('start', start)"
   ]
  },
  {
   "cell_type": "code",
   "execution_count": 8,
   "metadata": {
    "collapsed": false
   },
   "outputs": [],
   "source": [
    "dispatcher = updater.dispatcher\n",
    "dispatcher.add_handler(start_handler)"
   ]
  },
  {
   "cell_type": "code",
   "execution_count": 9,
   "metadata": {
    "collapsed": true
   },
   "outputs": [],
   "source": [
    "def echo(bot, update):\n",
    "    bot.send_message(chat_id=update.message.chat_id, text=update.message.text)"
   ]
  },
  {
   "cell_type": "code",
   "execution_count": 10,
   "metadata": {
    "collapsed": true
   },
   "outputs": [],
   "source": [
    "from telegram.ext import MessageHandler, Filters\n",
    "echo_handler = MessageHandler(Filters.text, echo)\n",
    "dispatcher.add_handler(echo_handler)"
   ]
  },
  {
   "cell_type": "code",
   "execution_count": 13,
   "metadata": {
    "collapsed": false
   },
   "outputs": [
    {
     "data": {
      "text/plain": [
       "<telegram.ext.messagehandler.MessageHandler at 0x7f8cc5918128>"
      ]
     },
     "execution_count": 13,
     "metadata": {},
     "output_type": "execute_result"
    }
   ],
   "source": []
  },
  {
   "cell_type": "code",
   "execution_count": null,
   "metadata": {
    "collapsed": true
   },
   "outputs": [],
   "source": []
  },
  {
   "cell_type": "code",
   "execution_count": null,
   "metadata": {
    "collapsed": true
   },
   "outputs": [],
   "source": []
  },
  {
   "cell_type": "code",
   "execution_count": null,
   "metadata": {
    "collapsed": true
   },
   "outputs": [],
   "source": []
  },
  {
   "cell_type": "code",
   "execution_count": null,
   "metadata": {
    "collapsed": true
   },
   "outputs": [],
   "source": []
  },
  {
   "cell_type": "code",
   "execution_count": 14,
   "metadata": {
    "collapsed": false
   },
   "outputs": [
    {
     "name": "stderr",
     "output_type": "stream",
     "text": [
      "2018-02-28 21:50:38,983 - JobQueue - DEBUG - JobQueue thread started\n",
      "2018-02-28 21:50:38,986 - telegram.ext.updater - DEBUG - dispatcher - started\n",
      "2018-02-28 21:50:38,987 - telegram.ext.updater - DEBUG - updater - started\n",
      "2018-02-28 21:50:38,994 - telegram.ext.updater - DEBUG - Updater thread started\n",
      "2018-02-28 21:50:38,995 - telegram.bot - DEBUG - Entering: set_webhook\n",
      "2018-02-28 21:50:38,998 - telegram.vendor.ptb_urllib3.urllib3.connectionpool - DEBUG - Starting new HTTPS connection (1): api.telegram.org\n",
      "2018-02-28 21:50:38,999 - telegram.ext.dispatcher - DEBUG - Dispatcher started\n"
     ]
    },
    {
     "data": {
      "text/plain": [
       "<queue.Queue at 0x7f8cc5905e80>"
      ]
     },
     "execution_count": 14,
     "metadata": {},
     "output_type": "execute_result"
    },
    {
     "name": "stderr",
     "output_type": "stream",
     "text": [
      "2018-02-28 21:50:39,250 - telegram.vendor.ptb_urllib3.urllib3.connectionpool - DEBUG - https://api.telegram.org:443 \"POST /bot484949622:AAGVa89zUGszMMp9D4Y48k-eFcw3xyQPukQ/setWebhook HTTP/1.1\" 200 68\n",
      "2018-02-28 21:50:39,255 - telegram.bot - DEBUG - True\n",
      "2018-02-28 21:50:39,259 - telegram.bot - DEBUG - Exiting: set_webhook\n",
      "2018-02-28 21:50:39,264 - telegram.bot - DEBUG - Entering: get_updates\n",
      "2018-02-28 21:50:39,323 - telegram.vendor.ptb_urllib3.urllib3.connectionpool - DEBUG - https://api.telegram.org:443 \"POST /bot484949622:AAGVa89zUGszMMp9D4Y48k-eFcw3xyQPukQ/getUpdates HTTP/1.1\" 200 516\n",
      "2018-02-28 21:50:39,324 - telegram.bot - DEBUG - Getting updates: [976005232]\n",
      "2018-02-28 21:50:39,325 - telegram.bot - DEBUG - [<telegram.update.Update object at 0x7f8cc58aa358>]\n",
      "2018-02-28 21:50:39,326 - telegram.bot - DEBUG - Exiting: get_updates\n",
      "2018-02-28 21:50:39,327 - telegram.bot - DEBUG - Entering: get_updates\n",
      "2018-02-28 21:50:39,327 - telegram.ext.dispatcher - DEBUG - Processing Update: {'update_id': 976005232, 'message': {'group_chat_created': False, 'caption_entities': [], 'photo': [], 'channel_chat_created': False, 'entities': [{'offset': 0, 'length': 6, 'type': 'bot_command'}], 'new_chat_members': [], 'new_chat_photo': [], 'supergroup_chat_created': False, 'date': 1519843364, 'message_id': 8, 'text': '/start', 'delete_chat_photo': False, 'chat': {'first_name': 'Алена', 'last_name': 'Есенина', 'username': 'Stamaks', 'id': 57248148, 'type': 'private'}, 'from': {'is_bot': False, 'first_name': 'Алена', 'username': 'Stamaks', 'id': 57248148, 'last_name': 'Есенина', 'language_code': 'en-US'}, 'new_chat_member': None}}\n",
      "2018-02-28 21:50:39,330 - telegram.bot - DEBUG - Entering: get_me\n",
      "2018-02-28 21:50:39,332 - telegram.vendor.ptb_urllib3.urllib3.connectionpool - DEBUG - Starting new HTTPS connection (2): api.telegram.org\n",
      "2018-02-28 21:50:39,570 - telegram.vendor.ptb_urllib3.urllib3.connectionpool - DEBUG - https://api.telegram.org:443 \"GET /bot484949622:AAGVa89zUGszMMp9D4Y48k-eFcw3xyQPukQ/getMe HTTP/1.1\" 200 117\n",
      "2018-02-28 21:50:39,572 - telegram.bot - DEBUG - {'is_bot': True, 'first_name': 'Your fine Friend', 'username': 'your_fine_friend_bot', 'id': 484949622}\n",
      "2018-02-28 21:50:39,573 - telegram.bot - DEBUG - Exiting: get_me\n",
      "2018-02-28 21:50:39,575 - telegram.bot - DEBUG - Entering: send_message\n",
      "2018-02-28 21:50:39,708 - telegram.vendor.ptb_urllib3.urllib3.connectionpool - DEBUG - https://api.telegram.org:443 \"POST /bot484949622:AAGVa89zUGszMMp9D4Y48k-eFcw3xyQPukQ/sendMessage HTTP/1.1\" 200 362\n",
      "2018-02-28 21:50:39,709 - telegram.bot - DEBUG - {'group_chat_created': False, 'caption_entities': [], 'photo': [], 'channel_chat_created': False, 'entities': [], 'new_chat_members': [], 'new_chat_photo': [], 'supergroup_chat_created': False, 'date': 1519843839, 'message_id': 9, 'text': \"I'm a bot, please talk to me!\", 'delete_chat_photo': False, 'chat': {'first_name': 'Алена', 'last_name': 'Есенина', 'username': 'Stamaks', 'id': 57248148, 'type': 'private'}, 'from': {'is_bot': True, 'first_name': 'Your fine Friend', 'username': 'your_fine_friend_bot', 'id': 484949622}, 'new_chat_member': None}\n",
      "2018-02-28 21:50:39,710 - telegram.bot - DEBUG - Exiting: send_message\n",
      "2018-02-28 21:50:48,574 - telegram.vendor.ptb_urllib3.urllib3.connectionpool - DEBUG - https://api.telegram.org:443 \"POST /bot484949622:AAGVa89zUGszMMp9D4Y48k-eFcw3xyQPukQ/getUpdates HTTP/1.1\" 200 458\n",
      "2018-02-28 21:50:48,576 - telegram.bot - DEBUG - Getting updates: [976005233]\n",
      "2018-02-28 21:50:48,577 - telegram.bot - DEBUG - [<telegram.update.Update object at 0x7f8cc58aa128>]\n",
      "2018-02-28 21:50:48,579 - telegram.bot - DEBUG - Exiting: get_updates\n",
      "2018-02-28 21:50:48,582 - telegram.bot - DEBUG - Entering: get_updates\n",
      "2018-02-28 21:50:48,582 - telegram.ext.dispatcher - DEBUG - Processing Update: {'update_id': 976005233, 'message': {'group_chat_created': False, 'caption_entities': [], 'photo': [], 'channel_chat_created': False, 'entities': [], 'new_chat_members': [], 'new_chat_photo': [], 'supergroup_chat_created': False, 'date': 1519843848, 'message_id': 10, 'text': 'fgfgf', 'delete_chat_photo': False, 'chat': {'first_name': 'Алена', 'last_name': 'Есенина', 'username': 'Stamaks', 'id': 57248148, 'type': 'private'}, 'from': {'is_bot': False, 'first_name': 'Алена', 'username': 'Stamaks', 'id': 57248148, 'last_name': 'Есенина', 'language_code': 'en-US'}, 'new_chat_member': None}}\n",
      "2018-02-28 21:50:48,586 - telegram.bot - DEBUG - Entering: send_message\n",
      "2018-02-28 21:50:48,667 - telegram.vendor.ptb_urllib3.urllib3.connectionpool - DEBUG - https://api.telegram.org:443 \"POST /bot484949622:AAGVa89zUGszMMp9D4Y48k-eFcw3xyQPukQ/sendMessage HTTP/1.1\" 200 339\n",
      "2018-02-28 21:50:48,668 - telegram.bot - DEBUG - {'group_chat_created': False, 'caption_entities': [], 'photo': [], 'channel_chat_created': False, 'entities': [], 'new_chat_members': [], 'new_chat_photo': [], 'supergroup_chat_created': False, 'date': 1519843848, 'message_id': 11, 'text': 'fgfgf', 'delete_chat_photo': False, 'chat': {'first_name': 'Алена', 'last_name': 'Есенина', 'username': 'Stamaks', 'id': 57248148, 'type': 'private'}, 'from': {'is_bot': True, 'first_name': 'Your fine Friend', 'username': 'your_fine_friend_bot', 'id': 484949622}, 'new_chat_member': None}\n",
      "2018-02-28 21:50:48,669 - telegram.bot - DEBUG - Exiting: send_message\n",
      "2018-02-28 21:50:58,725 - telegram.vendor.ptb_urllib3.urllib3.connectionpool - DEBUG - https://api.telegram.org:443 \"POST /bot484949622:AAGVa89zUGszMMp9D4Y48k-eFcw3xyQPukQ/getUpdates HTTP/1.1\" 200 23\n",
      "2018-02-28 21:50:58,727 - telegram.bot - DEBUG - No new updates found.\n",
      "2018-02-28 21:50:58,728 - telegram.bot - DEBUG - []\n",
      "2018-02-28 21:50:58,729 - telegram.bot - DEBUG - Exiting: get_updates\n",
      "2018-02-28 21:50:58,730 - telegram.bot - DEBUG - Entering: get_updates\n",
      "2018-02-28 21:51:08,789 - telegram.vendor.ptb_urllib3.urllib3.connectionpool - DEBUG - https://api.telegram.org:443 \"POST /bot484949622:AAGVa89zUGszMMp9D4Y48k-eFcw3xyQPukQ/getUpdates HTTP/1.1\" 200 23\n",
      "2018-02-28 21:51:08,790 - telegram.bot - DEBUG - No new updates found.\n",
      "2018-02-28 21:51:08,791 - telegram.bot - DEBUG - []\n",
      "2018-02-28 21:51:08,792 - telegram.bot - DEBUG - Exiting: get_updates\n",
      "2018-02-28 21:51:08,792 - telegram.bot - DEBUG - Entering: get_updates\n",
      "2018-02-28 21:51:18,892 - telegram.vendor.ptb_urllib3.urllib3.connectionpool - DEBUG - https://api.telegram.org:443 \"POST /bot484949622:AAGVa89zUGszMMp9D4Y48k-eFcw3xyQPukQ/getUpdates HTTP/1.1\" 200 23\n",
      "2018-02-28 21:51:18,897 - telegram.bot - DEBUG - No new updates found.\n",
      "2018-02-28 21:51:18,901 - telegram.bot - DEBUG - []\n",
      "2018-02-28 21:51:18,909 - telegram.bot - DEBUG - Exiting: get_updates\n",
      "2018-02-28 21:51:18,914 - telegram.bot - DEBUG - Entering: get_updates\n",
      "2018-02-28 21:51:29,050 - telegram.vendor.ptb_urllib3.urllib3.connectionpool - DEBUG - https://api.telegram.org:443 \"POST /bot484949622:AAGVa89zUGszMMp9D4Y48k-eFcw3xyQPukQ/getUpdates HTTP/1.1\" 200 23\n",
      "2018-02-28 21:51:29,055 - telegram.bot - DEBUG - No new updates found.\n",
      "2018-02-28 21:51:29,056 - telegram.bot - DEBUG - []\n",
      "2018-02-28 21:51:29,058 - telegram.bot - DEBUG - Exiting: get_updates\n",
      "2018-02-28 21:51:29,059 - telegram.bot - DEBUG - Entering: get_updates\n",
      "2018-02-28 21:51:39,168 - telegram.vendor.ptb_urllib3.urllib3.connectionpool - DEBUG - https://api.telegram.org:443 \"POST /bot484949622:AAGVa89zUGszMMp9D4Y48k-eFcw3xyQPukQ/getUpdates HTTP/1.1\" 200 23\n",
      "2018-02-28 21:51:39,171 - telegram.bot - DEBUG - No new updates found.\n",
      "2018-02-28 21:51:39,175 - telegram.bot - DEBUG - []\n",
      "2018-02-28 21:51:39,180 - telegram.bot - DEBUG - Exiting: get_updates\n",
      "2018-02-28 21:51:39,185 - telegram.bot - DEBUG - Entering: get_updates\n",
      "2018-02-28 21:51:49,299 - telegram.vendor.ptb_urllib3.urllib3.connectionpool - DEBUG - https://api.telegram.org:443 \"POST /bot484949622:AAGVa89zUGszMMp9D4Y48k-eFcw3xyQPukQ/getUpdates HTTP/1.1\" 200 23\n",
      "2018-02-28 21:51:49,306 - telegram.bot - DEBUG - No new updates found.\n",
      "2018-02-28 21:51:49,308 - telegram.bot - DEBUG - []\n",
      "2018-02-28 21:51:49,310 - telegram.bot - DEBUG - Exiting: get_updates\n",
      "2018-02-28 21:51:49,312 - telegram.bot - DEBUG - Entering: get_updates\n",
      "2018-02-28 21:51:59,434 - telegram.vendor.ptb_urllib3.urllib3.connectionpool - DEBUG - https://api.telegram.org:443 \"POST /bot484949622:AAGVa89zUGszMMp9D4Y48k-eFcw3xyQPukQ/getUpdates HTTP/1.1\" 200 23\n",
      "2018-02-28 21:51:59,438 - telegram.bot - DEBUG - No new updates found.\n",
      "2018-02-28 21:51:59,443 - telegram.bot - DEBUG - []\n",
      "2018-02-28 21:51:59,446 - telegram.bot - DEBUG - Exiting: get_updates\n",
      "2018-02-28 21:51:59,449 - telegram.bot - DEBUG - Entering: get_updates\n",
      "2018-02-28 21:52:09,575 - telegram.vendor.ptb_urllib3.urllib3.connectionpool - DEBUG - https://api.telegram.org:443 \"POST /bot484949622:AAGVa89zUGszMMp9D4Y48k-eFcw3xyQPukQ/getUpdates HTTP/1.1\" 200 23\n",
      "2018-02-28 21:52:09,581 - telegram.bot - DEBUG - No new updates found.\n",
      "2018-02-28 21:52:09,587 - telegram.bot - DEBUG - []\n",
      "2018-02-28 21:52:09,592 - telegram.bot - DEBUG - Exiting: get_updates\n",
      "2018-02-28 21:52:09,597 - telegram.bot - DEBUG - Entering: get_updates\n",
      "2018-02-28 21:52:19,705 - telegram.vendor.ptb_urllib3.urllib3.connectionpool - DEBUG - https://api.telegram.org:443 \"POST /bot484949622:AAGVa89zUGszMMp9D4Y48k-eFcw3xyQPukQ/getUpdates HTTP/1.1\" 200 23\n",
      "2018-02-28 21:52:19,706 - telegram.bot - DEBUG - No new updates found.\n",
      "2018-02-28 21:52:19,708 - telegram.bot - DEBUG - []\n",
      "2018-02-28 21:52:19,709 - telegram.bot - DEBUG - Exiting: get_updates\n",
      "2018-02-28 21:52:19,711 - telegram.bot - DEBUG - Entering: get_updates\n"
     ]
    }
   ],
   "source": [
    "updater.start_polling()"
   ]
  },
  {
   "cell_type": "code",
   "execution_count": 15,
   "metadata": {
    "collapsed": false
   },
   "outputs": [
    {
     "name": "stderr",
     "output_type": "stream",
     "text": [
      "2018-02-28 21:52:27,510 - JobQueue - DEBUG - JobQueue thread stopped\n",
      "2018-02-28 21:52:27,518 - telegram.ext.updater - DEBUG - Stopping Updater and Dispatcher...\n",
      "2018-02-28 21:52:27,522 - telegram.ext.updater - DEBUG - Requesting Dispatcher to stop...\n",
      "2018-02-28 21:52:27,704 - telegram.ext.dispatcher - DEBUG - orderly stopping\n",
      "2018-02-28 21:52:27,708 - telegram.ext.dispatcher - DEBUG - Dispatcher thread stopped\n",
      "2018-02-28 21:52:27,714 - telegram.ext.updater - DEBUG - dispatcher - ended\n",
      "2018-02-28 21:52:27,725 - telegram.ext.dispatcher - DEBUG - Waiting for async thread 1/4 to end\n",
      "2018-02-28 21:52:27,726 - telegram.ext.dispatcher - DEBUG - Closing run_async thread 79101706-9f3e-4136-b420-b8a6c7b0a527_1/4\n",
      "2018-02-28 21:52:27,726 - telegram.ext.dispatcher - DEBUG - Closing run_async thread 79101706-9f3e-4136-b420-b8a6c7b0a527_2/4\n",
      "2018-02-28 21:52:27,727 - telegram.ext.dispatcher - DEBUG - Closing run_async thread 79101706-9f3e-4136-b420-b8a6c7b0a527_3/4\n",
      "2018-02-28 21:52:27,727 - telegram.ext.dispatcher - DEBUG - Closing run_async thread 79101706-9f3e-4136-b420-b8a6c7b0a527_0/4\n",
      "2018-02-28 21:52:27,741 - telegram.ext.dispatcher - DEBUG - async thread 1/4 has ended\n",
      "2018-02-28 21:52:27,749 - telegram.ext.dispatcher - DEBUG - Waiting for async thread 2/4 to end\n",
      "2018-02-28 21:52:27,751 - telegram.ext.dispatcher - DEBUG - async thread 2/4 has ended\n",
      "2018-02-28 21:52:27,752 - telegram.ext.dispatcher - DEBUG - Waiting for async thread 3/4 to end\n",
      "2018-02-28 21:52:27,754 - telegram.ext.dispatcher - DEBUG - async thread 3/4 has ended\n",
      "2018-02-28 21:52:27,756 - telegram.ext.dispatcher - DEBUG - Waiting for async thread 4/4 to end\n",
      "2018-02-28 21:52:27,758 - telegram.ext.dispatcher - DEBUG - async thread 4/4 has ended\n",
      "2018-02-28 21:52:27,760 - telegram.ext.updater - DEBUG - Waiting for dispatcher thread to end\n",
      "2018-02-28 21:52:27,762 - telegram.ext.updater - DEBUG - dispatcher thread has ended\n",
      "2018-02-28 21:52:27,763 - telegram.ext.updater - DEBUG - Waiting for updater thread to end\n",
      "2018-02-28 21:52:29,842 - telegram.vendor.ptb_urllib3.urllib3.connectionpool - DEBUG - https://api.telegram.org:443 \"POST /bot484949622:AAGVa89zUGszMMp9D4Y48k-eFcw3xyQPukQ/getUpdates HTTP/1.1\" 200 23\n",
      "2018-02-28 21:52:29,847 - telegram.bot - DEBUG - No new updates found.\n",
      "2018-02-28 21:52:29,851 - telegram.bot - DEBUG - []\n",
      "2018-02-28 21:52:29,857 - telegram.bot - DEBUG - Exiting: get_updates\n",
      "2018-02-28 21:52:29,862 - telegram.ext.updater - DEBUG - updater - ended\n",
      "2018-02-28 21:52:29,869 - telegram.ext.updater - DEBUG - updater thread has ended\n"
     ]
    }
   ],
   "source": [
    "updater.stop()"
   ]
  },
  {
   "cell_type": "code",
   "execution_count": null,
   "metadata": {
    "collapsed": true
   },
   "outputs": [],
   "source": []
  }
 ],
 "metadata": {
  "anaconda-cloud": {},
  "kernelspec": {
   "display_name": "Python [conda root]",
   "language": "python",
   "name": "conda-root-py"
  },
  "language_info": {
   "codemirror_mode": {
    "name": "ipython",
    "version": 3
   },
   "file_extension": ".py",
   "mimetype": "text/x-python",
   "name": "python",
   "nbconvert_exporter": "python",
   "pygments_lexer": "ipython3",
   "version": "3.5.2"
  }
 },
 "nbformat": 4,
 "nbformat_minor": 2
}
