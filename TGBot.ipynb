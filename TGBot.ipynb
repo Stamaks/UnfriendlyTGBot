{
 "cells": [
  {
   "cell_type": "code",
   "execution_count": 1,
   "metadata": {
    "collapsed": false
   },
   "outputs": [],
   "source": [
    "import logging\n",
    "from telegram.ext import CommandHandler\n",
    "from telegram.ext import Updater\n",
    "from telegram.ext import MessageHandler, Filters\n",
    "from telegram import *\n",
    "from telegram.ext import CallbackQueryHandler\n",
    "import pickle\n",
    "import random"
   ]
  },
  {
   "cell_type": "code",
   "execution_count": 2,
   "metadata": {
    "collapsed": true
   },
   "outputs": [],
   "source": [
    "logging.basicConfig(level=logging.DEBUG,\n",
    "                    format='%(asctime)s - %(name)s - %(levelname)s - %(message)s')"
   ]
  },
  {
   "cell_type": "code",
   "execution_count": 3,
   "metadata": {
    "collapsed": false
   },
   "outputs": [
    {
     "name": "stderr",
     "output_type": "stream",
     "text": [
      "2018-03-01 23:55:42,440 - telegram.ext.dispatcher - DEBUG - Setting singleton dispatcher as <telegram.ext.dispatcher.Dispatcher object at 0x7f3393bfb390>\n"
     ]
    }
   ],
   "source": [
    "updater = Updater(token=pickle.load(open(\"token\", \"rb\")))"
   ]
  },
  {
   "cell_type": "code",
   "execution_count": 4,
   "metadata": {
    "collapsed": true
   },
   "outputs": [],
   "source": [
    "is_previous_message_question = 0"
   ]
  },
  {
   "cell_type": "code",
   "execution_count": 5,
   "metadata": {
    "collapsed": false
   },
   "outputs": [],
   "source": [
    "my_chat_id = pickle.load(open(\"my_chat_id\", \"rb\"))"
   ]
  },
  {
   "cell_type": "code",
   "execution_count": 6,
   "metadata": {
    "collapsed": false
   },
   "outputs": [],
   "source": [
    "tasks = []"
   ]
  },
  {
   "cell_type": "code",
   "execution_count": 7,
   "metadata": {
    "collapsed": true
   },
   "outputs": [],
   "source": [
    "add_task = 0"
   ]
  },
  {
   "cell_type": "code",
   "execution_count": 16,
   "metadata": {
    "collapsed": true
   },
   "outputs": [],
   "source": [
    "pickle.dump([\"Ага, ну здарова.\", \"Ку!\", \"Приветище!\", \"Ну чего тебе надо?\"], open(\"greet_phrases\", \"wb\"))"
   ]
  },
  {
   "cell_type": "code",
   "execution_count": 17,
   "metadata": {
    "collapsed": true
   },
   "outputs": [],
   "source": [
    "pickle.dump([\"Ну и что ты сделала за сегодня?\"], open(\"greet_question\", \"wb\"))"
   ]
  },
  {
   "cell_type": "code",
   "execution_count": 18,
   "metadata": {
    "collapsed": true
   },
   "outputs": [],
   "source": [
    "pickle.dump([\"Ну молодец, молодец! Тебе же нечего делать, да?\", \"Капец, ты начнешь развиваться, инфузория?\", \"Мда, капец...\", \"И чо, тебе норм?..\", \"Ну да .-.\", \"Жесть .-.\"], open(\"nothing_was_done\", \"wb\"))"
   ]
  },
  {
   "cell_type": "code",
   "execution_count": 20,
   "metadata": {
    "collapsed": true
   },
   "outputs": [],
   "source": [
    "pickle.dump([\"То есть, ничего?..\", \"Чот как-то не оч .-.\", \"Мдааа, такое...\"], open(\"sth_was_done\", \"wb\"))"
   ]
  },
  {
   "cell_type": "code",
   "execution_count": 21,
   "metadata": {
    "collapsed": true
   },
   "outputs": [],
   "source": [
    "pickle.dump([\"Лол, кек, чебурек)) Надо еще кой-чо сделать.\", \"Лан, сегодня норм. Но вообще-то у тебя еще есть задачи.\", \"Ну, неплохо, да, ты вумница :3 Только сделай тут еще один пунктик, плз!\"], open(\"did_well\", \"wb\"))"
   ]
  },
  {
   "cell_type": "code",
   "execution_count": 8,
   "metadata": {
    "collapsed": false
   },
   "outputs": [],
   "source": [
    "def start(bot, update):\n",
    "    text = random.choice([\"Ага, ну здарова.\", \"Ку!\", \"Приветище!\", \"Ну чего тебе надо?\"])\n",
    "    bot.send_message(chat_id=update.message.chat_id, text=text)\n",
    "    bot.send_message(chat_id=update.message.chat_id, text=\"Ну и что ты сделала за сегодня?\")\n",
    "    is_previous_message_question = 1\n",
    "        \n",
    "def echo(bot, update):\n",
    "#     if (is_previous_message_question):\n",
    "#     if (update.message.text == \"1. Пожарить картошку\"):\n",
    "#         key_button1 = KeyboardButton(text=\"Точно?\")\n",
    "#         keyboard1 = ReplyKeyboardMarkup([[key_button1]])\n",
    "#         bot.send_message(chat_id=update.message.chat_id, text=\"Уверена?\", reply_markup=keyboard1)\n",
    "    if add_task == 1:\n",
    "        add_task = 0\n",
    "        tasks.append(update.message.text)\n",
    "        bot.send_message(chat_id=update.message.chat_id, text=\"Добавил \\\"\" + update.message.text + \"\\\"\")\n",
    "    else:\n",
    "        if (\"ничего\" or \"нифига\" or \"нихуя\" in update.message.text.lower()):\n",
    "            text = random.choice([\"Ну молодец, молодец! Тебе же нечего делать, да?\", \"Капец, ты начнешь развиваться, инфузория?\", \"Мда, капец...\", \"И чо, тебе норм?..\", \"Ну да .-.\", \"Жесть .-.\"])\n",
    "            bot.send_message(chat_id=update.message.chat_id, text=text)\n",
    "        elif len(update.message.text.split()) < 10:\n",
    "            text = random.choice([\"То есть, ничего?..\", \"Чот как-то не оч .-.\", \"Мдааа, такое...\"])\n",
    "            bot.send_message(chat_id=update.message.chat_id, text=text)\n",
    "        elif len(update.message.text.split()) >= 10:\n",
    "            text = random.choice([\"Лол, кек, чебурек)) Надо еще кой-чо сделать.\", \"Лан, сегодня норм. Но вообще-то у тебя еще есть задачи.\", \"Ну, неплохо, да, ты вумница :3 Только сделай тут еще один пунктик, плз!\"])\n",
    "            bot.send_message(chat_id=update.message.chat_id, text=text)\n",
    "        is_previous_message_question = 0\n",
    "#     else:\n",
    "#         bot.send_message(chat_id=update.message.chat_id, text=\"Ничонипонял\")\n",
    "        \n",
    "def show_keyboard(bot, update):\n",
    "    if len(tasks) == 0:\n",
    "        bot.send_message(chat_id=update.message.chat_id, text=\"Упс, ты молодец, у тебя нет задач :)\")\n",
    "#         bot.send_message(chat_id=update.message.chat_id, text=\"Лови список задач!\", reply_markup=keyboard)\n",
    "        key_buttons = []\n",
    "        for i in range(len(tasks)):\n",
    "            key_buttons.append(InlineKeyboardButton(text=str(i+1) + \". \" + tasks[i], callback_data=str(i)))\n",
    "        key_buttons.append(InlineKeyboardButton(text=\"Добавить\", callback_data=str(-1)))\n",
    "        keyboard = InlineKeyboardMarkup([key_buttons])\n",
    "        bot.send_message(chat_id=update.message.chat_id, text=\"key\", reply_markup=keyboard)\n",
    "    \n",
    "def callback_query(bot, update):\n",
    "#     bot.send_message(chat_id=my_chat_id, text=update.callback_query.message.message_id)\n",
    "    if (int(update.callback_query.data) >= 0):\n",
    "        key_buttons = []\n",
    "        key_buttons.append(InlineKeyboardButton(text=\"Случайно тыкнула!\", callback_data=str(-2)))\n",
    "        key_buttons.append(InlineKeyboardButton(text=\"Сделала :)\", callback_data=str(-3)))\n",
    "        key_buttons.append(InlineKeyboardButton(text=\"Просто удали\", callback_data=str(-4)))\n",
    "        keyboard = InlineKeyboardMarkup([key_buttons])\n",
    "        bot.send_message(chat_id=update.message.chat_id, text=\"ere\", reply_markup=keyboard)        \n",
    "    elif int(update.callback_query.data) == -1:\n",
    "        add_task = 1\n",
    "    bot.send_message(chat_id=my_chat_id, text=update.callback_query.data)\n",
    "    bot.edit_message_text(text=\"JKJKJK\", chat_id=update.callback_query.message.chat_id, \n",
    "                             message_id=update.callback_query.message.message_id)"
   ]
  },
  {
   "cell_type": "code",
   "execution_count": 9,
   "metadata": {
    "collapsed": true
   },
   "outputs": [],
   "source": [
    "start_handler = CommandHandler('start', start)\n",
    "show_keyboard_handler = CommandHandler('list', show_keyboard)"
   ]
  },
  {
   "cell_type": "code",
   "execution_count": 10,
   "metadata": {
    "collapsed": false
   },
   "outputs": [],
   "source": [
    "callback_query_handler = CallbackQueryHandler(callback_query)"
   ]
  },
  {
   "cell_type": "code",
   "execution_count": 11,
   "metadata": {
    "collapsed": false
   },
   "outputs": [],
   "source": [
    "dispatcher = updater.dispatcher\n",
    "dispatcher.add_handler(start_handler)\n",
    "dispatcher.add_handler(show_keyboard_handler)\n",
    "dispatcher.add_handler(callback_query_handler)"
   ]
  },
  {
   "cell_type": "code",
   "execution_count": 12,
   "metadata": {
    "collapsed": false
   },
   "outputs": [],
   "source": [
    "echo_handler = MessageHandler(Filters.text, echo)\n",
    "dispatcher.add_handler(echo_handler)"
   ]
  },
  {
   "cell_type": "code",
   "execution_count": null,
   "metadata": {
    "collapsed": true
   },
   "outputs": [],
   "source": []
  },
  {
   "cell_type": "code",
   "execution_count": null,
   "metadata": {
    "collapsed": true
   },
   "outputs": [],
   "source": []
  },
  {
   "cell_type": "code",
   "execution_count": null,
   "metadata": {
    "collapsed": true
   },
   "outputs": [],
   "source": []
  },
  {
   "cell_type": "code",
   "execution_count": 13,
   "metadata": {
    "collapsed": false
   },
   "outputs": [
    {
     "name": "stderr",
     "output_type": "stream",
     "text": [
      "2018-03-01 23:55:45,108 - JobQueue - DEBUG - JobQueue thread started\n",
      "2018-03-01 23:55:45,113 - telegram.ext.updater - DEBUG - dispatcher - started\n",
      "2018-03-01 23:55:45,113 - telegram.ext.updater - DEBUG - updater - started\n",
      "2018-03-01 23:55:45,117 - telegram.ext.updater - DEBUG - Updater thread started\n",
      "2018-03-01 23:55:45,118 - telegram.ext.dispatcher - DEBUG - Dispatcher started\n",
      "2018-03-01 23:55:45,119 - telegram.bot - DEBUG - Entering: set_webhook\n"
     ]
    },
    {
     "data": {
      "text/plain": [
       "<queue.Queue at 0x7f3393bfb080>"
      ]
     },
     "execution_count": 13,
     "metadata": {},
     "output_type": "execute_result"
    },
    {
     "name": "stderr",
     "output_type": "stream",
     "text": [
      "2018-03-01 23:55:45,143 - telegram.vendor.ptb_urllib3.urllib3.connectionpool - DEBUG - Starting new HTTPS connection (1): api.telegram.org\n",
      "2018-03-01 23:55:45,380 - telegram.vendor.ptb_urllib3.urllib3.connectionpool - DEBUG - https://api.telegram.org:443 \"POST /bot484949622:AAGVa89zUGszMMp9D4Y48k-eFcw3xyQPukQ/setWebhook HTTP/1.1\" 200 68\n",
      "2018-03-01 23:55:45,386 - telegram.bot - DEBUG - True\n",
      "2018-03-01 23:55:45,393 - telegram.bot - DEBUG - Exiting: set_webhook\n",
      "2018-03-01 23:55:45,401 - telegram.bot - DEBUG - Entering: get_updates\n",
      "2018-03-01 23:55:51,934 - telegram.vendor.ptb_urllib3.urllib3.connectionpool - DEBUG - https://api.telegram.org:443 \"POST /bot484949622:AAGVa89zUGszMMp9D4Y48k-eFcw3xyQPukQ/getUpdates HTTP/1.1\" 200 517\n",
      "2018-03-01 23:55:51,941 - telegram.bot - DEBUG - Getting updates: [976005348]\n",
      "2018-03-01 23:55:51,949 - telegram.bot - DEBUG - [<telegram.update.Update object at 0x7f3393c17748>]\n",
      "2018-03-01 23:55:51,954 - telegram.bot - DEBUG - Exiting: get_updates\n",
      "2018-03-01 23:55:51,961 - telegram.ext.dispatcher - DEBUG - Processing Update: {'update_id': 976005348, 'message': {'caption_entities': [], 'delete_chat_photo': False, 'new_chat_member': None, 'text': '/list', 'entities': [{'type': 'bot_command', 'offset': 0, 'length': 5}], 'from': {'first_name': 'Алена', 'last_name': 'Есенина', 'id': 57248148, 'language_code': 'en-US', 'is_bot': False, 'username': 'Stamaks'}, 'group_chat_created': False, 'new_chat_members': [], 'photo': [], 'message_id': 158, 'chat': {'first_name': 'Алена', 'last_name': 'Есенина', 'id': 57248148, 'username': 'Stamaks', 'type': 'private'}, 'new_chat_photo': [], 'supergroup_chat_created': False, 'channel_chat_created': False, 'date': 1519937751}}\n",
      "2018-03-01 23:55:51,964 - telegram.bot - DEBUG - Entering: get_updates\n",
      "2018-03-01 23:55:51,968 - telegram.bot - DEBUG - Entering: get_me\n",
      "2018-03-01 23:55:51,977 - telegram.vendor.ptb_urllib3.urllib3.connectionpool - DEBUG - Starting new HTTPS connection (2): api.telegram.org\n",
      "2018-03-01 23:55:52,205 - telegram.vendor.ptb_urllib3.urllib3.connectionpool - DEBUG - https://api.telegram.org:443 \"GET /bot484949622:AAGVa89zUGszMMp9D4Y48k-eFcw3xyQPukQ/getMe HTTP/1.1\" 200 117\n",
      "2018-03-01 23:55:52,208 - telegram.bot - DEBUG - {'first_name': 'Your fine Friend', 'id': 484949622, 'is_bot': True, 'username': 'your_fine_friend_bot'}\n",
      "2018-03-01 23:55:52,211 - telegram.bot - DEBUG - Exiting: get_me\n",
      "2018-03-01 23:55:52,214 - telegram.bot - DEBUG - Entering: send_message\n",
      "2018-03-01 23:55:52,295 - telegram.vendor.ptb_urllib3.urllib3.connectionpool - DEBUG - https://api.telegram.org:443 \"POST /bot484949622:AAGVa89zUGszMMp9D4Y48k-eFcw3xyQPukQ/sendMessage HTTP/1.1\" 200 496\n",
      "2018-03-01 23:55:52,298 - telegram.bot - DEBUG - {'caption_entities': [], 'delete_chat_photo': False, 'new_chat_member': None, 'text': 'Упс, ты молодец, у тебя нет задач :)', 'entities': [], 'from': {'first_name': 'Your fine Friend', 'id': 484949622, 'is_bot': True, 'username': 'your_fine_friend_bot'}, 'group_chat_created': False, 'new_chat_members': [], 'photo': [], 'message_id': 159, 'chat': {'first_name': 'Алена', 'last_name': 'Есенина', 'id': 57248148, 'username': 'Stamaks', 'type': 'private'}, 'new_chat_photo': [], 'supergroup_chat_created': False, 'channel_chat_created': False, 'date': 1519937752}\n",
      "2018-03-01 23:55:52,302 - telegram.bot - DEBUG - Exiting: send_message\n",
      "2018-03-01 23:55:52,305 - telegram.bot - DEBUG - Entering: send_message\n",
      "2018-03-01 23:55:52,384 - telegram.vendor.ptb_urllib3.urllib3.connectionpool - DEBUG - https://api.telegram.org:443 \"POST /bot484949622:AAGVa89zUGszMMp9D4Y48k-eFcw3xyQPukQ/sendMessage HTTP/1.1\" 200 338\n",
      "2018-03-01 23:55:52,385 - telegram.bot - DEBUG - {'caption_entities': [], 'delete_chat_photo': False, 'new_chat_member': None, 'text': 'key', 'entities': [], 'from': {'first_name': 'Your fine Friend', 'id': 484949622, 'is_bot': True, 'username': 'your_fine_friend_bot'}, 'group_chat_created': False, 'new_chat_members': [], 'photo': [], 'message_id': 160, 'chat': {'first_name': 'Алена', 'last_name': 'Есенина', 'id': 57248148, 'username': 'Stamaks', 'type': 'private'}, 'new_chat_photo': [], 'supergroup_chat_created': False, 'channel_chat_created': False, 'date': 1519937752}\n",
      "2018-03-01 23:55:52,386 - telegram.bot - DEBUG - Exiting: send_message\n",
      "2018-03-01 23:55:53,463 - telegram.vendor.ptb_urllib3.urllib3.connectionpool - DEBUG - https://api.telegram.org:443 \"POST /bot484949622:AAGVa89zUGszMMp9D4Y48k-eFcw3xyQPukQ/getUpdates HTTP/1.1\" 200 656\n",
      "2018-03-01 23:55:53,465 - telegram.bot - DEBUG - Getting updates: [976005349]\n",
      "2018-03-01 23:55:53,466 - telegram.bot - DEBUG - [<telegram.update.Update object at 0x7f3393bc0400>]\n",
      "2018-03-01 23:55:53,467 - telegram.bot - DEBUG - Exiting: get_updates\n",
      "2018-03-01 23:55:53,468 - telegram.bot - DEBUG - Entering: get_updates\n",
      "2018-03-01 23:55:53,469 - telegram.ext.dispatcher - DEBUG - Processing Update: {'update_id': 976005349, 'callback_query': {'from': {'first_name': 'Алена', 'last_name': 'Есенина', 'id': 57248148, 'language_code': 'en-US', 'is_bot': False, 'username': 'Stamaks'}, 'message': {'caption_entities': [], 'delete_chat_photo': False, 'new_chat_member': None, 'text': 'key', 'entities': [], 'from': {'first_name': 'Your fine Friend', 'id': 484949622, 'is_bot': True, 'username': 'your_fine_friend_bot'}, 'group_chat_created': False, 'new_chat_members': [], 'photo': [], 'message_id': 160, 'chat': {'first_name': 'Алена', 'last_name': 'Есенина', 'id': 57248148, 'username': 'Stamaks', 'type': 'private'}, 'new_chat_photo': [], 'supergroup_chat_created': False, 'channel_chat_created': False, 'date': 1519937752}, 'id': '245878927285085666', 'chat_instance': '4772040545576295796', 'data': '-1'}}\n",
      "2018-03-01 23:55:53,471 - telegram.bot - DEBUG - Entering: send_message\n",
      "2018-03-01 23:55:53,549 - telegram.vendor.ptb_urllib3.urllib3.connectionpool - DEBUG - https://api.telegram.org:443 \"POST /bot484949622:AAGVa89zUGszMMp9D4Y48k-eFcw3xyQPukQ/sendMessage HTTP/1.1\" 200 337\n",
      "2018-03-01 23:55:53,550 - telegram.bot - DEBUG - {'caption_entities': [], 'delete_chat_photo': False, 'new_chat_member': None, 'text': '-1', 'entities': [], 'from': {'first_name': 'Your fine Friend', 'id': 484949622, 'is_bot': True, 'username': 'your_fine_friend_bot'}, 'group_chat_created': False, 'new_chat_members': [], 'photo': [], 'message_id': 161, 'chat': {'first_name': 'Алена', 'last_name': 'Есенина', 'id': 57248148, 'username': 'Stamaks', 'type': 'private'}, 'new_chat_photo': [], 'supergroup_chat_created': False, 'channel_chat_created': False, 'date': 1519937753}\n",
      "2018-03-01 23:55:53,551 - telegram.bot - DEBUG - Exiting: send_message\n",
      "2018-03-01 23:55:53,553 - telegram.bot - DEBUG - Entering: edit_message_text\n",
      "2018-03-01 23:55:53,637 - telegram.vendor.ptb_urllib3.urllib3.connectionpool - DEBUG - https://api.telegram.org:443 \"POST /bot484949622:AAGVa89zUGszMMp9D4Y48k-eFcw3xyQPukQ/editMessageText HTTP/1.1\" 200 341\n",
      "2018-03-01 23:55:53,639 - telegram.bot - DEBUG - {'caption_entities': [], 'delete_chat_photo': False, 'new_chat_member': None, 'text': 'JKJKJK', 'entities': [], 'from': {'first_name': 'Your fine Friend', 'id': 484949622, 'is_bot': True, 'username': 'your_fine_friend_bot'}, 'group_chat_created': False, 'new_chat_members': [], 'photo': [], 'message_id': 160, 'chat': {'first_name': 'Алена', 'last_name': 'Есенина', 'id': 57248148, 'username': 'Stamaks', 'type': 'private'}, 'new_chat_photo': [], 'supergroup_chat_created': False, 'channel_chat_created': False, 'date': 1519937752}\n",
      "2018-03-01 23:55:53,640 - telegram.bot - DEBUG - Exiting: edit_message_text\n",
      "2018-03-01 23:56:05,139 - telegram.vendor.ptb_urllib3.urllib3.connectionpool - DEBUG - https://api.telegram.org:443 \"POST /bot484949622:AAGVa89zUGszMMp9D4Y48k-eFcw3xyQPukQ/getUpdates HTTP/1.1\" 200 23\n",
      "2018-03-01 23:56:05,146 - telegram.bot - DEBUG - No new updates found.\n",
      "2018-03-01 23:56:05,152 - telegram.bot - DEBUG - []\n",
      "2018-03-01 23:56:05,158 - telegram.bot - DEBUG - Exiting: get_updates\n",
      "2018-03-01 23:56:05,163 - telegram.bot - DEBUG - Entering: get_updates\n"
     ]
    }
   ],
   "source": [
    "updater.start_polling()"
   ]
  },
  {
   "cell_type": "code",
   "execution_count": 14,
   "metadata": {
    "collapsed": false
   },
   "outputs": [
    {
     "name": "stderr",
     "output_type": "stream",
     "text": [
      "2018-03-01 23:56:08,230 - JobQueue - DEBUG - JobQueue thread stopped\n",
      "2018-03-01 23:56:08,232 - telegram.ext.updater - DEBUG - Stopping Updater and Dispatcher...\n",
      "2018-03-01 23:56:08,234 - telegram.ext.updater - DEBUG - Requesting Dispatcher to stop...\n",
      "2018-03-01 23:56:08,647 - telegram.ext.dispatcher - DEBUG - orderly stopping\n",
      "2018-03-01 23:56:08,651 - telegram.ext.dispatcher - DEBUG - Dispatcher thread stopped\n",
      "2018-03-01 23:56:08,656 - telegram.ext.updater - DEBUG - dispatcher - ended\n",
      "2018-03-01 23:56:08,737 - telegram.ext.dispatcher - DEBUG - Waiting for async thread 1/4 to end\n",
      "2018-03-01 23:56:08,737 - telegram.ext.dispatcher - DEBUG - Closing run_async thread 37f4617e-e6b1-43f1-ae37-1e6fc2f62dcb_1/4\n",
      "2018-03-01 23:56:08,737 - telegram.ext.dispatcher - DEBUG - Closing run_async thread 37f4617e-e6b1-43f1-ae37-1e6fc2f62dcb_2/4\n",
      "2018-03-01 23:56:08,738 - telegram.ext.dispatcher - DEBUG - Closing run_async thread 37f4617e-e6b1-43f1-ae37-1e6fc2f62dcb_3/4\n",
      "2018-03-01 23:56:08,738 - telegram.ext.dispatcher - DEBUG - Closing run_async thread 37f4617e-e6b1-43f1-ae37-1e6fc2f62dcb_0/4\n",
      "2018-03-01 23:56:08,743 - telegram.ext.dispatcher - DEBUG - async thread 1/4 has ended\n",
      "2018-03-01 23:56:08,746 - telegram.ext.dispatcher - DEBUG - Waiting for async thread 2/4 to end\n",
      "2018-03-01 23:56:08,748 - telegram.ext.dispatcher - DEBUG - async thread 2/4 has ended\n",
      "2018-03-01 23:56:08,749 - telegram.ext.dispatcher - DEBUG - Waiting for async thread 3/4 to end\n",
      "2018-03-01 23:56:08,750 - telegram.ext.dispatcher - DEBUG - async thread 3/4 has ended\n",
      "2018-03-01 23:56:08,751 - telegram.ext.dispatcher - DEBUG - Waiting for async thread 4/4 to end\n",
      "2018-03-01 23:56:08,752 - telegram.ext.dispatcher - DEBUG - async thread 4/4 has ended\n",
      "2018-03-01 23:56:08,753 - telegram.ext.updater - DEBUG - Waiting for dispatcher thread to end\n",
      "2018-03-01 23:56:08,754 - telegram.ext.updater - DEBUG - dispatcher thread has ended\n",
      "2018-03-01 23:56:08,755 - telegram.ext.updater - DEBUG - Waiting for updater thread to end\n",
      "2018-03-01 23:56:15,829 - telegram.vendor.ptb_urllib3.urllib3.connectionpool - DEBUG - https://api.telegram.org:443 \"POST /bot484949622:AAGVa89zUGszMMp9D4Y48k-eFcw3xyQPukQ/getUpdates HTTP/1.1\" 200 23\n",
      "2018-03-01 23:56:15,834 - telegram.bot - DEBUG - No new updates found.\n",
      "2018-03-01 23:56:15,839 - telegram.bot - DEBUG - []\n",
      "2018-03-01 23:56:15,845 - telegram.bot - DEBUG - Exiting: get_updates\n",
      "2018-03-01 23:56:15,853 - telegram.ext.updater - DEBUG - updater - ended\n",
      "2018-03-01 23:56:15,859 - telegram.ext.updater - DEBUG - updater thread has ended\n"
     ]
    }
   ],
   "source": [
    "updater.stop()"
   ]
  },
  {
   "cell_type": "code",
   "execution_count": null,
   "metadata": {
    "collapsed": true
   },
   "outputs": [],
   "source": []
  },
  {
   "cell_type": "code",
   "execution_count": null,
   "metadata": {
    "collapsed": true
   },
   "outputs": [],
   "source": []
  }
 ],
 "metadata": {
  "anaconda-cloud": {},
  "kernelspec": {
   "display_name": "Python [conda root]",
   "language": "python",
   "name": "conda-root-py"
  },
  "language_info": {
   "codemirror_mode": {
    "name": "ipython",
    "version": 3
   },
   "file_extension": ".py",
   "mimetype": "text/x-python",
   "name": "python",
   "nbconvert_exporter": "python",
   "pygments_lexer": "ipython3",
   "version": "3.5.2"
  }
 },
 "nbformat": 4,
 "nbformat_minor": 2
}
