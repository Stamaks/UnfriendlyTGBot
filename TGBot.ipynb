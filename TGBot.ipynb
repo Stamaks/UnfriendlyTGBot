{
 "cells": [
  {
   "cell_type": "code",
   "execution_count": 1,
   "metadata": {
    "collapsed": false
   },
   "outputs": [],
   "source": [
    "import logging\n",
    "from telegram.ext import CommandHandler\n",
    "from telegram.ext import Updater\n",
    "from telegram.ext import MessageHandler, Filters\n",
    "from telegram import KeyboardButton, ReplyKeyboardMarkup, ReplyKeyboardRemove"
   ]
  },
  {
   "cell_type": "code",
   "execution_count": 2,
   "metadata": {
    "collapsed": true
   },
   "outputs": [],
   "source": [
    "logging.basicConfig(level=logging.DEBUG,\n",
    "                    format='%(asctime)s - %(name)s - %(levelname)s - %(message)s')"
   ]
  },
  {
   "cell_type": "code",
   "execution_count": 3,
   "metadata": {
    "collapsed": false
   },
   "outputs": [
    {
     "name": "stderr",
     "output_type": "stream",
     "text": [
      "2018-02-28 23:23:22,695 - telegram.ext.dispatcher - DEBUG - Setting singleton dispatcher as <telegram.ext.dispatcher.Dispatcher object at 0x7f6c6addc128>\n"
     ]
    }
   ],
   "source": [
    "updater = Updater(token=\"484949622:AAGVa89zUGszMMp9D4Y48k-eFcw3xyQPukQ\")"
   ]
  },
  {
   "cell_type": "code",
   "execution_count": 4,
   "metadata": {
    "collapsed": true
   },
   "outputs": [],
   "source": [
    "import random"
   ]
  },
  {
   "cell_type": "code",
   "execution_count": 5,
   "metadata": {
    "collapsed": false
   },
   "outputs": [],
   "source": [
    "key_button = KeyboardButton(text=\"1. Пожарить картошку\")"
   ]
  },
  {
   "cell_type": "code",
   "execution_count": 6,
   "metadata": {
    "collapsed": false
   },
   "outputs": [],
   "source": [
    "keyboard = ReplyKeyboardMarkup([[key_button]])"
   ]
  },
  {
   "cell_type": "code",
   "execution_count": 7,
   "metadata": {
    "collapsed": true
   },
   "outputs": [],
   "source": [
    "is_previous_message_question = 0"
   ]
  },
  {
   "cell_type": "code",
   "execution_count": 8,
   "metadata": {
    "collapsed": false
   },
   "outputs": [],
   "source": [
    "def start(bot, update):\n",
    "    text = random.choice([\"Ага, ну здарова.\", \"Ку!\", \"Приветище!\", \"Ну чего тебе надо?\"])\n",
    "    bot.send_message(chat_id=update.message.chat_id, text=text)\n",
    "    bot.send_message(chat_id=update.message.chat_id, text=\"Ну и что ты сделала за сегодня?\")\n",
    "    is_previous_message_question = 1\n",
    "    \n",
    "def echo(bot, update):\n",
    "#     if (is_previous_message_question):\n",
    "    if (\"ничего\" or \"нифига\" or \"нихуя\" in update.message.text.lower()):\n",
    "        text = random.choice([\"Ну молодец, молодец! Тебе же нечего делать, да?\", \"Капец, ты начнешь развиваться, инфузория?\", \"Мда, капец...\", \"И чо, тебе норм?..\", \"Ну да .-.\", \"Жесть .-.\"])\n",
    "        bot.send_message(chat_id=update.message.chat_id, text=text)\n",
    "    elif len(update.message.text.split()) < 10:\n",
    "        text = random.choice([\"То есть, ничего?..\", \"Чот как-то не оч .-.\", \"Мдааа, такое...\"])\n",
    "        bot.send_message(chat_id=update.message.chat_id, text=text)\n",
    "    elif len(update.message.text.split()) >= 10:\n",
    "        text = random.choice([\"Лол, кек, чебурек)) Надо еще кой-чо сделать.\", \"Лан, сегодня норм. Но вообще-то у тебя еще есть задачи.\", \"Ну, неплохо, да, ты вумница :3 Только сделай тут еще один пунктик, плз!\"])\n",
    "        bot.send_message(chat_id=update.message.chat_id, text=text)\n",
    "    is_previous_message_question = 0\n",
    "    bot.send_message(chat_id=update.message.chat_id, text=\"Custom Keyboard Test\", reply_markup=keyboard)\n",
    "#     else:\n",
    "#         bot.send_message(chat_id=update.message.chat_id, text=\"Ничонипонял\")\n",
    "        \n",
    "def show_keyboard(bot, update):\n",
    "    bot.send_message(chat_id=update.message.chat_id, text=\"Custom Keyboard Test\", reply_markup=keyboard)"
   ]
  },
  {
   "cell_type": "code",
   "execution_count": 9,
   "metadata": {
    "collapsed": true
   },
   "outputs": [],
   "source": [
    "start_handler = CommandHandler('start', start)\n",
    "show_keyboard_handler = CommandHandler('show_keyboard', show_keyboard)"
   ]
  },
  {
   "cell_type": "code",
   "execution_count": 10,
   "metadata": {
    "collapsed": false
   },
   "outputs": [],
   "source": [
    "dispatcher = updater.dispatcher\n",
    "dispatcher.add_handler(start_handler)\n",
    "dispatcher.add_handler(show_keyboard_handler)"
   ]
  },
  {
   "cell_type": "code",
   "execution_count": 11,
   "metadata": {
    "collapsed": true
   },
   "outputs": [],
   "source": [
    "echo_handler = MessageHandler(Filters.text, echo)\n",
    "dispatcher.add_handler(echo_handler)"
   ]
  },
  {
   "cell_type": "code",
   "execution_count": null,
   "metadata": {
    "collapsed": true
   },
   "outputs": [],
   "source": []
  },
  {
   "cell_type": "code",
   "execution_count": null,
   "metadata": {
    "collapsed": true
   },
   "outputs": [],
   "source": []
  },
  {
   "cell_type": "code",
   "execution_count": null,
   "metadata": {
    "collapsed": true
   },
   "outputs": [],
   "source": []
  },
  {
   "cell_type": "code",
   "execution_count": 12,
   "metadata": {
    "collapsed": false
   },
   "outputs": [
    {
     "name": "stderr",
     "output_type": "stream",
     "text": [
      "2018-02-28 23:23:25,866 - JobQueue - DEBUG - JobQueue thread started\n",
      "2018-02-28 23:23:25,869 - telegram.ext.updater - DEBUG - dispatcher - started\n",
      "2018-02-28 23:23:25,870 - telegram.ext.updater - DEBUG - updater - started\n",
      "2018-02-28 23:23:25,872 - telegram.ext.updater - DEBUG - Updater thread started\n",
      "2018-02-28 23:23:25,874 - telegram.bot - DEBUG - Entering: set_webhook\n",
      "2018-02-28 23:23:25,876 - telegram.vendor.ptb_urllib3.urllib3.connectionpool - DEBUG - Starting new HTTPS connection (1): api.telegram.org\n",
      "2018-02-28 23:23:25,873 - telegram.ext.dispatcher - DEBUG - Dispatcher started\n"
     ]
    },
    {
     "data": {
      "text/plain": [
       "<queue.Queue at 0x7f6c80081710>"
      ]
     },
     "execution_count": 12,
     "metadata": {},
     "output_type": "execute_result"
    },
    {
     "name": "stderr",
     "output_type": "stream",
     "text": [
      "2018-02-28 23:23:26,122 - telegram.vendor.ptb_urllib3.urllib3.connectionpool - DEBUG - https://api.telegram.org:443 \"POST /bot484949622:AAGVa89zUGszMMp9D4Y48k-eFcw3xyQPukQ/setWebhook HTTP/1.1\" 200 68\n",
      "2018-02-28 23:23:26,127 - telegram.bot - DEBUG - True\n",
      "2018-02-28 23:23:26,132 - telegram.bot - DEBUG - Exiting: set_webhook\n",
      "2018-02-28 23:23:26,140 - telegram.bot - DEBUG - Entering: get_updates\n",
      "2018-02-28 23:23:34,144 - telegram.vendor.ptb_urllib3.urllib3.connectionpool - DEBUG - https://api.telegram.org:443 \"POST /bot484949622:AAGVa89zUGszMMp9D4Y48k-eFcw3xyQPukQ/getUpdates HTTP/1.1\" 200 526\n",
      "2018-02-28 23:23:34,150 - telegram.bot - DEBUG - Getting updates: [976005264]\n",
      "2018-02-28 23:23:34,156 - telegram.bot - DEBUG - [<telegram.update.Update object at 0x7f6c80abe080>]\n",
      "2018-02-28 23:23:34,163 - telegram.bot - DEBUG - Exiting: get_updates\n",
      "2018-02-28 23:23:34,168 - telegram.ext.dispatcher - DEBUG - Processing Update: {'message': {'supergroup_chat_created': False, 'from': {'username': 'Stamaks', 'language_code': 'en-US', 'id': 57248148, 'is_bot': False, 'first_name': 'Алена', 'last_name': 'Есенина'}, 'delete_chat_photo': False, 'new_chat_member': None, 'message_id': 57, 'new_chat_members': [], 'chat': {'username': 'Stamaks', 'first_name': 'Алена', 'last_name': 'Есенина', 'id': 57248148, 'type': 'private'}, 'group_chat_created': False, 'text': '/show_keyboard', 'channel_chat_created': False, 'date': 1519849414, 'caption_entities': [], 'new_chat_photo': [], 'entities': [{'length': 14, 'offset': 0, 'type': 'bot_command'}], 'photo': []}, 'update_id': 976005264}\n",
      "2018-02-28 23:23:34,168 - telegram.bot - DEBUG - Entering: get_updates\n",
      "2018-02-28 23:23:34,171 - telegram.bot - DEBUG - Entering: get_me\n",
      "2018-02-28 23:23:34,175 - telegram.vendor.ptb_urllib3.urllib3.connectionpool - DEBUG - Starting new HTTPS connection (2): api.telegram.org\n",
      "2018-02-28 23:23:34,415 - telegram.vendor.ptb_urllib3.urllib3.connectionpool - DEBUG - https://api.telegram.org:443 \"GET /bot484949622:AAGVa89zUGszMMp9D4Y48k-eFcw3xyQPukQ/getMe HTTP/1.1\" 200 117\n",
      "2018-02-28 23:23:34,417 - telegram.bot - DEBUG - {'username': 'your_fine_friend_bot', 'first_name': 'Your fine Friend', 'is_bot': True, 'id': 484949622}\n",
      "2018-02-28 23:23:34,418 - telegram.bot - DEBUG - Exiting: get_me\n",
      "2018-02-28 23:23:34,419 - telegram.bot - DEBUG - Entering: send_message\n",
      "2018-02-28 23:23:34,522 - telegram.vendor.ptb_urllib3.urllib3.connectionpool - DEBUG - https://api.telegram.org:443 \"POST /bot484949622:AAGVa89zUGszMMp9D4Y48k-eFcw3xyQPukQ/sendMessage HTTP/1.1\" 200 354\n",
      "2018-02-28 23:23:34,527 - telegram.bot - DEBUG - {'supergroup_chat_created': False, 'from': {'username': 'your_fine_friend_bot', 'first_name': 'Your fine Friend', 'is_bot': True, 'id': 484949622}, 'delete_chat_photo': False, 'new_chat_member': None, 'message_id': 58, 'new_chat_members': [], 'chat': {'username': 'Stamaks', 'first_name': 'Алена', 'last_name': 'Есенина', 'id': 57248148, 'type': 'private'}, 'group_chat_created': False, 'text': 'Custom Keyboard Test', 'channel_chat_created': False, 'date': 1519849414, 'caption_entities': [], 'new_chat_photo': [], 'entities': [], 'photo': []}\n",
      "2018-02-28 23:23:34,531 - telegram.bot - DEBUG - Exiting: send_message\n",
      "2018-02-28 23:23:36,964 - telegram.vendor.ptb_urllib3.urllib3.connectionpool - DEBUG - https://api.telegram.org:443 \"POST /bot484949622:AAGVa89zUGszMMp9D4Y48k-eFcw3xyQPukQ/getUpdates HTTP/1.1\" 200 553\n",
      "2018-02-28 23:23:36,970 - telegram.bot - DEBUG - Getting updates: [976005265]\n",
      "2018-02-28 23:23:36,975 - telegram.bot - DEBUG - [<telegram.update.Update object at 0x7f6c6ae04cf8>]\n",
      "2018-02-28 23:23:36,978 - telegram.bot - DEBUG - Exiting: get_updates\n",
      "2018-02-28 23:23:36,983 - telegram.ext.dispatcher - DEBUG - Processing Update: {'message': {'supergroup_chat_created': False, 'from': {'username': 'Stamaks', 'language_code': 'en-US', 'id': 57248148, 'is_bot': False, 'first_name': 'Алена', 'last_name': 'Есенина'}, 'delete_chat_photo': False, 'new_chat_member': None, 'message_id': 59, 'new_chat_members': [], 'chat': {'username': 'Stamaks', 'first_name': 'Алена', 'last_name': 'Есенина', 'id': 57248148, 'type': 'private'}, 'group_chat_created': False, 'text': '1. Пожарить картошку', 'channel_chat_created': False, 'date': 1519849416, 'caption_entities': [], 'new_chat_photo': [], 'entities': [], 'photo': []}, 'update_id': 976005265}\n",
      "2018-02-28 23:23:36,985 - telegram.bot - DEBUG - Entering: get_updates\n",
      "2018-02-28 23:23:36,990 - telegram.bot - DEBUG - Entering: send_message\n",
      "2018-02-28 23:23:37,087 - telegram.vendor.ptb_urllib3.urllib3.connectionpool - DEBUG - https://api.telegram.org:443 \"POST /bot484949622:AAGVa89zUGszMMp9D4Y48k-eFcw3xyQPukQ/sendMessage HTTP/1.1\" 200 387\n",
      "2018-02-28 23:23:37,090 - telegram.bot - DEBUG - {'supergroup_chat_created': False, 'from': {'username': 'your_fine_friend_bot', 'first_name': 'Your fine Friend', 'is_bot': True, 'id': 484949622}, 'delete_chat_photo': False, 'new_chat_member': None, 'message_id': 60, 'new_chat_members': [], 'chat': {'username': 'Stamaks', 'first_name': 'Алена', 'last_name': 'Есенина', 'id': 57248148, 'type': 'private'}, 'group_chat_created': False, 'text': 'Мда, капец...', 'channel_chat_created': False, 'date': 1519849417, 'caption_entities': [], 'new_chat_photo': [], 'entities': [], 'photo': []}\n",
      "2018-02-28 23:23:37,092 - telegram.bot - DEBUG - Exiting: send_message\n",
      "2018-02-28 23:23:37,095 - telegram.bot - DEBUG - Entering: send_message\n",
      "2018-02-28 23:23:37,183 - telegram.vendor.ptb_urllib3.urllib3.connectionpool - DEBUG - https://api.telegram.org:443 \"POST /bot484949622:AAGVa89zUGszMMp9D4Y48k-eFcw3xyQPukQ/sendMessage HTTP/1.1\" 200 354\n",
      "2018-02-28 23:23:37,186 - telegram.bot - DEBUG - {'supergroup_chat_created': False, 'from': {'username': 'your_fine_friend_bot', 'first_name': 'Your fine Friend', 'is_bot': True, 'id': 484949622}, 'delete_chat_photo': False, 'new_chat_member': None, 'message_id': 61, 'new_chat_members': [], 'chat': {'username': 'Stamaks', 'first_name': 'Алена', 'last_name': 'Есенина', 'id': 57248148, 'type': 'private'}, 'group_chat_created': False, 'text': 'Custom Keyboard Test', 'channel_chat_created': False, 'date': 1519849417, 'caption_entities': [], 'new_chat_photo': [], 'entities': [], 'photo': []}\n",
      "2018-02-28 23:23:37,192 - telegram.bot - DEBUG - Exiting: send_message\n",
      "2018-02-28 23:23:47,060 - telegram.vendor.ptb_urllib3.urllib3.connectionpool - DEBUG - https://api.telegram.org:443 \"POST /bot484949622:AAGVa89zUGszMMp9D4Y48k-eFcw3xyQPukQ/getUpdates HTTP/1.1\" 200 23\n",
      "2018-02-28 23:23:47,068 - telegram.bot - DEBUG - No new updates found.\n",
      "2018-02-28 23:23:47,073 - telegram.bot - DEBUG - []\n",
      "2018-02-28 23:23:47,077 - telegram.bot - DEBUG - Exiting: get_updates\n",
      "2018-02-28 23:23:47,082 - telegram.bot - DEBUG - Entering: get_updates\n",
      "2018-02-28 23:23:51,026 - telegram.vendor.ptb_urllib3.urllib3.connectionpool - DEBUG - https://api.telegram.org:443 \"POST /bot484949622:AAGVa89zUGszMMp9D4Y48k-eFcw3xyQPukQ/getUpdates HTTP/1.1\" 200 553\n",
      "2018-02-28 23:23:51,030 - telegram.bot - DEBUG - Getting updates: [976005266]\n",
      "2018-02-28 23:23:51,034 - telegram.bot - DEBUG - [<telegram.update.Update object at 0x7f6c68187898>]\n",
      "2018-02-28 23:23:51,037 - telegram.bot - DEBUG - Exiting: get_updates\n",
      "2018-02-28 23:23:51,040 - telegram.bot - DEBUG - Entering: get_updates\n",
      "2018-02-28 23:23:51,040 - telegram.ext.dispatcher - DEBUG - Processing Update: {'message': {'supergroup_chat_created': False, 'from': {'username': 'Stamaks', 'language_code': 'en-US', 'id': 57248148, 'is_bot': False, 'first_name': 'Алена', 'last_name': 'Есенина'}, 'delete_chat_photo': False, 'new_chat_member': None, 'message_id': 62, 'new_chat_members': [], 'chat': {'username': 'Stamaks', 'first_name': 'Алена', 'last_name': 'Есенина', 'id': 57248148, 'type': 'private'}, 'group_chat_created': False, 'text': '1. Пожарить картошку', 'channel_chat_created': False, 'date': 1519849430, 'caption_entities': [], 'new_chat_photo': [], 'entities': [], 'photo': []}, 'update_id': 976005266}\n",
      "2018-02-28 23:23:51,046 - telegram.bot - DEBUG - Entering: send_message\n",
      "2018-02-28 23:23:51,196 - telegram.vendor.ptb_urllib3.urllib3.connectionpool - DEBUG - https://api.telegram.org:443 \"POST /bot484949622:AAGVa89zUGszMMp9D4Y48k-eFcw3xyQPukQ/sendMessage HTTP/1.1\" 200 407\n",
      "2018-02-28 23:23:51,198 - telegram.bot - DEBUG - {'supergroup_chat_created': False, 'from': {'username': 'your_fine_friend_bot', 'first_name': 'Your fine Friend', 'is_bot': True, 'id': 484949622}, 'delete_chat_photo': False, 'new_chat_member': None, 'message_id': 63, 'new_chat_members': [], 'chat': {'username': 'Stamaks', 'first_name': 'Алена', 'last_name': 'Есенина', 'id': 57248148, 'type': 'private'}, 'group_chat_created': False, 'text': 'И чо, тебе норм?..', 'channel_chat_created': False, 'date': 1519849431, 'caption_entities': [], 'new_chat_photo': [], 'entities': [], 'photo': []}\n",
      "2018-02-28 23:23:51,199 - telegram.bot - DEBUG - Exiting: send_message\n",
      "2018-02-28 23:23:51,201 - telegram.bot - DEBUG - Entering: send_message\n",
      "2018-02-28 23:23:51,354 - telegram.vendor.ptb_urllib3.urllib3.connectionpool - DEBUG - https://api.telegram.org:443 \"POST /bot484949622:AAGVa89zUGszMMp9D4Y48k-eFcw3xyQPukQ/sendMessage HTTP/1.1\" 200 354\n",
      "2018-02-28 23:23:51,356 - telegram.bot - DEBUG - {'supergroup_chat_created': False, 'from': {'username': 'your_fine_friend_bot', 'first_name': 'Your fine Friend', 'is_bot': True, 'id': 484949622}, 'delete_chat_photo': False, 'new_chat_member': None, 'message_id': 64, 'new_chat_members': [], 'chat': {'username': 'Stamaks', 'first_name': 'Алена', 'last_name': 'Есенина', 'id': 57248148, 'type': 'private'}, 'group_chat_created': False, 'text': 'Custom Keyboard Test', 'channel_chat_created': False, 'date': 1519849431, 'caption_entities': [], 'new_chat_photo': [], 'entities': [], 'photo': []}\n",
      "2018-02-28 23:23:51,357 - telegram.bot - DEBUG - Exiting: send_message\n",
      "2018-02-28 23:23:52,647 - telegram.vendor.ptb_urllib3.urllib3.connectionpool - DEBUG - https://api.telegram.org:443 \"POST /bot484949622:AAGVa89zUGszMMp9D4Y48k-eFcw3xyQPukQ/getUpdates HTTP/1.1\" 200 553\n",
      "2018-02-28 23:23:52,654 - telegram.bot - DEBUG - Getting updates: [976005267]\n",
      "2018-02-28 23:23:52,660 - telegram.bot - DEBUG - [<telegram.update.Update object at 0x7f6c68187fd0>]\n",
      "2018-02-28 23:23:52,665 - telegram.bot - DEBUG - Exiting: get_updates\n",
      "2018-02-28 23:23:52,673 - telegram.bot - DEBUG - Entering: get_updates\n",
      "2018-02-28 23:23:52,674 - telegram.ext.dispatcher - DEBUG - Processing Update: {'message': {'supergroup_chat_created': False, 'from': {'username': 'Stamaks', 'language_code': 'en-US', 'id': 57248148, 'is_bot': False, 'first_name': 'Алена', 'last_name': 'Есенина'}, 'delete_chat_photo': False, 'new_chat_member': None, 'message_id': 65, 'new_chat_members': [], 'chat': {'username': 'Stamaks', 'first_name': 'Алена', 'last_name': 'Есенина', 'id': 57248148, 'type': 'private'}, 'group_chat_created': False, 'text': '1. Пожарить картошку', 'channel_chat_created': False, 'date': 1519849432, 'caption_entities': [], 'new_chat_photo': [], 'entities': [], 'photo': []}, 'update_id': 976005267}\n",
      "2018-02-28 23:23:52,678 - telegram.bot - DEBUG - Entering: send_message\n",
      "2018-02-28 23:23:52,782 - telegram.vendor.ptb_urllib3.urllib3.connectionpool - DEBUG - https://api.telegram.org:443 \"POST /bot484949622:AAGVa89zUGszMMp9D4Y48k-eFcw3xyQPukQ/sendMessage HTTP/1.1\" 200 368\n",
      "2018-02-28 23:23:52,784 - telegram.bot - DEBUG - {'supergroup_chat_created': False, 'from': {'username': 'your_fine_friend_bot', 'first_name': 'Your fine Friend', 'is_bot': True, 'id': 484949622}, 'delete_chat_photo': False, 'new_chat_member': None, 'message_id': 66, 'new_chat_members': [], 'chat': {'username': 'Stamaks', 'first_name': 'Алена', 'last_name': 'Есенина', 'id': 57248148, 'type': 'private'}, 'group_chat_created': False, 'text': 'Жесть .-.', 'channel_chat_created': False, 'date': 1519849432, 'caption_entities': [], 'new_chat_photo': [], 'entities': [], 'photo': []}\n",
      "2018-02-28 23:23:52,785 - telegram.bot - DEBUG - Exiting: send_message\n",
      "2018-02-28 23:23:52,787 - telegram.bot - DEBUG - Entering: send_message\n",
      "2018-02-28 23:23:52,864 - telegram.vendor.ptb_urllib3.urllib3.connectionpool - DEBUG - https://api.telegram.org:443 \"POST /bot484949622:AAGVa89zUGszMMp9D4Y48k-eFcw3xyQPukQ/sendMessage HTTP/1.1\" 200 354\n",
      "2018-02-28 23:23:52,866 - telegram.bot - DEBUG - {'supergroup_chat_created': False, 'from': {'username': 'your_fine_friend_bot', 'first_name': 'Your fine Friend', 'is_bot': True, 'id': 484949622}, 'delete_chat_photo': False, 'new_chat_member': None, 'message_id': 67, 'new_chat_members': [], 'chat': {'username': 'Stamaks', 'first_name': 'Алена', 'last_name': 'Есенина', 'id': 57248148, 'type': 'private'}, 'group_chat_created': False, 'text': 'Custom Keyboard Test', 'channel_chat_created': False, 'date': 1519849432, 'caption_entities': [], 'new_chat_photo': [], 'entities': [], 'photo': []}\n",
      "2018-02-28 23:23:52,867 - telegram.bot - DEBUG - Exiting: send_message\n",
      "2018-02-28 23:24:02,732 - telegram.vendor.ptb_urllib3.urllib3.connectionpool - DEBUG - https://api.telegram.org:443 \"POST /bot484949622:AAGVa89zUGszMMp9D4Y48k-eFcw3xyQPukQ/getUpdates HTTP/1.1\" 200 23\n",
      "2018-02-28 23:24:02,734 - telegram.bot - DEBUG - No new updates found.\n",
      "2018-02-28 23:24:02,736 - telegram.bot - DEBUG - []\n",
      "2018-02-28 23:24:02,737 - telegram.bot - DEBUG - Exiting: get_updates\n",
      "2018-02-28 23:24:02,739 - telegram.bot - DEBUG - Entering: get_updates\n",
      "2018-02-28 23:24:13,351 - telegram.vendor.ptb_urllib3.urllib3.connectionpool - DEBUG - https://api.telegram.org:443 \"POST /bot484949622:AAGVa89zUGszMMp9D4Y48k-eFcw3xyQPukQ/getUpdates HTTP/1.1\" 200 23\n",
      "2018-02-28 23:24:13,358 - telegram.bot - DEBUG - No new updates found.\n",
      "2018-02-28 23:24:13,362 - telegram.bot - DEBUG - []\n",
      "2018-02-28 23:24:13,366 - telegram.bot - DEBUG - Exiting: get_updates\n",
      "2018-02-28 23:24:13,372 - telegram.bot - DEBUG - Entering: get_updates\n",
      "2018-02-28 23:24:23,486 - telegram.vendor.ptb_urllib3.urllib3.connectionpool - DEBUG - https://api.telegram.org:443 \"POST /bot484949622:AAGVa89zUGszMMp9D4Y48k-eFcw3xyQPukQ/getUpdates HTTP/1.1\" 200 23\n",
      "2018-02-28 23:24:23,487 - telegram.bot - DEBUG - No new updates found.\n",
      "2018-02-28 23:24:23,488 - telegram.bot - DEBUG - []\n",
      "2018-02-28 23:24:23,489 - telegram.bot - DEBUG - Exiting: get_updates\n",
      "2018-02-28 23:24:23,491 - telegram.bot - DEBUG - Entering: get_updates\n",
      "2018-02-28 23:24:33,622 - telegram.vendor.ptb_urllib3.urllib3.connectionpool - DEBUG - https://api.telegram.org:443 \"POST /bot484949622:AAGVa89zUGszMMp9D4Y48k-eFcw3xyQPukQ/getUpdates HTTP/1.1\" 200 23\n",
      "2018-02-28 23:24:33,629 - telegram.bot - DEBUG - No new updates found.\n",
      "2018-02-28 23:24:33,634 - telegram.bot - DEBUG - []\n",
      "2018-02-28 23:24:33,638 - telegram.bot - DEBUG - Exiting: get_updates\n",
      "2018-02-28 23:24:33,643 - telegram.bot - DEBUG - Entering: get_updates\n",
      "2018-02-28 23:24:45,651 - telegram.ext.updater - ERROR - Error while getting Updates: Timed out\n",
      "2018-02-28 23:24:45,657 - telegram.ext.dispatcher - DEBUG - Processing Update: Timed out\n",
      "2018-02-28 23:24:45,662 - telegram.ext.dispatcher - ERROR - No error handlers are registered, logging exception...\n",
      "Traceback (most recent call last):\n",
      "  File \"/home/alena/anaconda3/lib/python3.5/site-packages/telegram/vendor/ptb_urllib3/urllib3/connectionpool.py\", line 402, in _make_request\n",
      "    six.raise_from(e, None)\n",
      "  File \"<string>\", line 2, in raise_from\n",
      "  File \"/home/alena/anaconda3/lib/python3.5/site-packages/telegram/vendor/ptb_urllib3/urllib3/connectionpool.py\", line 398, in _make_request\n",
      "    httplib_response = conn.getresponse()\n",
      "  File \"/home/alena/anaconda3/lib/python3.5/http/client.py\", line 1197, in getresponse\n",
      "    response.begin()\n",
      "  File \"/home/alena/anaconda3/lib/python3.5/http/client.py\", line 297, in begin\n",
      "    version, status, reason = self._read_status()\n",
      "  File \"/home/alena/anaconda3/lib/python3.5/http/client.py\", line 258, in _read_status\n",
      "    line = str(self.fp.readline(_MAXLINE + 1), \"iso-8859-1\")\n",
      "  File \"/home/alena/anaconda3/lib/python3.5/socket.py\", line 575, in readinto\n",
      "    return self._sock.recv_into(b)\n",
      "  File \"/home/alena/anaconda3/lib/python3.5/ssl.py\", line 929, in recv_into\n",
      "    return self.read(nbytes, buffer)\n",
      "  File \"/home/alena/anaconda3/lib/python3.5/ssl.py\", line 791, in read\n",
      "    return self._sslobj.read(len, buffer)\n",
      "  File \"/home/alena/anaconda3/lib/python3.5/ssl.py\", line 575, in read\n",
      "    v = self._sslobj.read(len, buffer)\n",
      "socket.timeout: The read operation timed out\n",
      "\n",
      "During handling of the above exception, another exception occurred:\n",
      "\n",
      "Traceback (most recent call last):\n",
      "  File \"/home/alena/anaconda3/lib/python3.5/site-packages/telegram/utils/request.py\", line 190, in _request_wrapper\n",
      "    resp = self._con_pool.request(*args, **kwargs)\n",
      "  File \"/home/alena/anaconda3/lib/python3.5/site-packages/telegram/vendor/ptb_urllib3/urllib3/request.py\", line 70, in request\n",
      "    **urlopen_kw)\n",
      "  File \"/home/alena/anaconda3/lib/python3.5/site-packages/telegram/vendor/ptb_urllib3/urllib3/request.py\", line 148, in request_encode_body\n",
      "    return self.urlopen(method, url, **extra_kw)\n",
      "  File \"/home/alena/anaconda3/lib/python3.5/site-packages/telegram/vendor/ptb_urllib3/urllib3/poolmanager.py\", line 244, in urlopen\n",
      "    response = conn.urlopen(method, u.request_uri, **kw)\n",
      "  File \"/home/alena/anaconda3/lib/python3.5/site-packages/telegram/vendor/ptb_urllib3/urllib3/connectionpool.py\", line 666, in urlopen\n",
      "    _stacktrace=sys.exc_info()[2])\n",
      "  File \"/home/alena/anaconda3/lib/python3.5/site-packages/telegram/vendor/ptb_urllib3/urllib3/util/retry.py\", line 347, in increment\n",
      "    raise six.reraise(type(error), error, _stacktrace)\n",
      "  File \"/home/alena/anaconda3/lib/python3.5/site-packages/telegram/vendor/ptb_urllib3/urllib3/packages/six.py\", line 686, in reraise\n",
      "    raise value\n",
      "  File \"/home/alena/anaconda3/lib/python3.5/site-packages/telegram/vendor/ptb_urllib3/urllib3/connectionpool.py\", line 617, in urlopen\n",
      "    chunked=chunked)\n",
      "  File \"/home/alena/anaconda3/lib/python3.5/site-packages/telegram/vendor/ptb_urllib3/urllib3/connectionpool.py\", line 405, in _make_request\n",
      "    exc_cls=ReadTimeoutError)\n",
      "  File \"/home/alena/anaconda3/lib/python3.5/site-packages/telegram/vendor/ptb_urllib3/urllib3/connectionpool.py\", line 321, in _raise_timeout\n",
      "    raise exc_cls(*args)\n",
      "telegram.vendor.ptb_urllib3.urllib3.exceptions.ReadTimeoutError: HTTPSConnectionPool(host='api.telegram.org', port=443): Read timed out. (read timeout=12.0)\n",
      "\n",
      "During handling of the above exception, another exception occurred:\n",
      "\n",
      "Traceback (most recent call last):\n",
      "  File \"/home/alena/anaconda3/lib/python3.5/site-packages/telegram/ext/updater.py\", line 286, in _start_polling\n",
      "    allowed_updates=allowed_updates)\n",
      "  File \"/home/alena/anaconda3/lib/python3.5/site-packages/telegram/bot.py\", line 60, in decorator\n",
      "    result = func(self, *args, **kwargs)\n",
      "  File \"/home/alena/anaconda3/lib/python3.5/site-packages/telegram/bot.py\", line 1720, in get_updates\n",
      "    result = self._request.post(url, data, timeout=float(read_latency) + float(timeout))\n",
      "  File \"/home/alena/anaconda3/lib/python3.5/site-packages/telegram/utils/request.py\", line 272, in post\n",
      "    **urlopen_kwargs)\n",
      "  File \"/home/alena/anaconda3/lib/python3.5/site-packages/telegram/utils/request.py\", line 192, in _request_wrapper\n",
      "    raise TimedOut()\n",
      "telegram.error.TimedOut: Timed out\n",
      "2018-02-28 23:24:46,657 - telegram.bot - DEBUG - Entering: get_updates\n",
      "2018-02-28 23:24:46,664 - telegram.vendor.ptb_urllib3.urllib3.connectionpool - DEBUG - Starting new HTTPS connection (3): api.telegram.org\n",
      "2018-02-28 23:24:57,907 - telegram.vendor.ptb_urllib3.urllib3.connectionpool - DEBUG - https://api.telegram.org:443 \"POST /bot484949622:AAGVa89zUGszMMp9D4Y48k-eFcw3xyQPukQ/getUpdates HTTP/1.1\" 200 23\n",
      "2018-02-28 23:24:57,912 - telegram.bot - DEBUG - No new updates found.\n",
      "2018-02-28 23:24:57,919 - telegram.bot - DEBUG - []\n",
      "2018-02-28 23:24:57,920 - telegram.bot - DEBUG - Exiting: get_updates\n",
      "2018-02-28 23:24:57,922 - telegram.bot - DEBUG - Entering: get_updates\n",
      "2018-02-28 23:25:09,348 - telegram.vendor.ptb_urllib3.urllib3.connectionpool - DEBUG - https://api.telegram.org:443 \"POST /bot484949622:AAGVa89zUGszMMp9D4Y48k-eFcw3xyQPukQ/getUpdates HTTP/1.1\" 200 23\n",
      "2018-02-28 23:25:09,352 - telegram.bot - DEBUG - No new updates found.\n",
      "2018-02-28 23:25:09,358 - telegram.bot - DEBUG - []\n",
      "2018-02-28 23:25:09,363 - telegram.bot - DEBUG - Exiting: get_updates\n",
      "2018-02-28 23:25:09,369 - telegram.bot - DEBUG - Entering: get_updates\n",
      "2018-02-28 23:25:19,784 - telegram.vendor.ptb_urllib3.urllib3.connectionpool - DEBUG - https://api.telegram.org:443 \"POST /bot484949622:AAGVa89zUGszMMp9D4Y48k-eFcw3xyQPukQ/getUpdates HTTP/1.1\" 200 23\n",
      "2018-02-28 23:25:19,788 - telegram.bot - DEBUG - No new updates found.\n",
      "2018-02-28 23:25:19,789 - telegram.bot - DEBUG - []\n",
      "2018-02-28 23:25:19,790 - telegram.bot - DEBUG - Exiting: get_updates\n",
      "2018-02-28 23:25:19,792 - telegram.bot - DEBUG - Entering: get_updates\n",
      "2018-02-28 23:25:30,233 - telegram.vendor.ptb_urllib3.urllib3.connectionpool - DEBUG - https://api.telegram.org:443 \"POST /bot484949622:AAGVa89zUGszMMp9D4Y48k-eFcw3xyQPukQ/getUpdates HTTP/1.1\" 200 23\n",
      "2018-02-28 23:25:30,237 - telegram.bot - DEBUG - No new updates found.\n",
      "2018-02-28 23:25:30,241 - telegram.bot - DEBUG - []\n",
      "2018-02-28 23:25:30,245 - telegram.bot - DEBUG - Exiting: get_updates\n",
      "2018-02-28 23:25:30,248 - telegram.bot - DEBUG - Entering: get_updates\n",
      "2018-02-28 23:25:40,357 - telegram.vendor.ptb_urllib3.urllib3.connectionpool - DEBUG - https://api.telegram.org:443 \"POST /bot484949622:AAGVa89zUGszMMp9D4Y48k-eFcw3xyQPukQ/getUpdates HTTP/1.1\" 200 23\n",
      "2018-02-28 23:25:40,362 - telegram.bot - DEBUG - No new updates found.\n",
      "2018-02-28 23:25:40,365 - telegram.bot - DEBUG - []\n",
      "2018-02-28 23:25:40,366 - telegram.bot - DEBUG - Exiting: get_updates\n",
      "2018-02-28 23:25:40,368 - telegram.bot - DEBUG - Entering: get_updates\n",
      "2018-02-28 23:25:50,427 - telegram.vendor.ptb_urllib3.urllib3.connectionpool - DEBUG - https://api.telegram.org:443 \"POST /bot484949622:AAGVa89zUGszMMp9D4Y48k-eFcw3xyQPukQ/getUpdates HTTP/1.1\" 200 23\n",
      "2018-02-28 23:25:50,432 - telegram.bot - DEBUG - No new updates found.\n",
      "2018-02-28 23:25:50,437 - telegram.bot - DEBUG - []\n",
      "2018-02-28 23:25:50,442 - telegram.bot - DEBUG - Exiting: get_updates\n",
      "2018-02-28 23:25:50,449 - telegram.bot - DEBUG - Entering: get_updates\n",
      "2018-02-28 23:26:00,529 - telegram.vendor.ptb_urllib3.urllib3.connectionpool - DEBUG - https://api.telegram.org:443 \"POST /bot484949622:AAGVa89zUGszMMp9D4Y48k-eFcw3xyQPukQ/getUpdates HTTP/1.1\" 200 23\n",
      "2018-02-28 23:26:00,535 - telegram.bot - DEBUG - No new updates found.\n",
      "2018-02-28 23:26:00,540 - telegram.bot - DEBUG - []\n",
      "2018-02-28 23:26:00,548 - telegram.bot - DEBUG - Exiting: get_updates\n",
      "2018-02-28 23:26:00,554 - telegram.bot - DEBUG - Entering: get_updates\n",
      "2018-02-28 23:26:10,663 - telegram.vendor.ptb_urllib3.urllib3.connectionpool - DEBUG - https://api.telegram.org:443 \"POST /bot484949622:AAGVa89zUGszMMp9D4Y48k-eFcw3xyQPukQ/getUpdates HTTP/1.1\" 200 23\n",
      "2018-02-28 23:26:10,670 - telegram.bot - DEBUG - No new updates found.\n",
      "2018-02-28 23:26:10,673 - telegram.bot - DEBUG - []\n",
      "2018-02-28 23:26:10,674 - telegram.bot - DEBUG - Exiting: get_updates\n",
      "2018-02-28 23:26:10,676 - telegram.bot - DEBUG - Entering: get_updates\n",
      "2018-02-28 23:26:20,736 - telegram.vendor.ptb_urllib3.urllib3.connectionpool - DEBUG - https://api.telegram.org:443 \"POST /bot484949622:AAGVa89zUGszMMp9D4Y48k-eFcw3xyQPukQ/getUpdates HTTP/1.1\" 200 23\n",
      "2018-02-28 23:26:20,741 - telegram.bot - DEBUG - No new updates found.\n",
      "2018-02-28 23:26:20,747 - telegram.bot - DEBUG - []\n",
      "2018-02-28 23:26:20,752 - telegram.bot - DEBUG - Exiting: get_updates\n",
      "2018-02-28 23:26:20,757 - telegram.bot - DEBUG - Entering: get_updates\n"
     ]
    }
   ],
   "source": [
    "updater.start_polling()"
   ]
  },
  {
   "cell_type": "code",
   "execution_count": 79,
   "metadata": {
    "collapsed": false
   },
   "outputs": [
    {
     "name": "stderr",
     "output_type": "stream",
     "text": [
      "2018-02-28 23:14:36,412 - JobQueue - DEBUG - JobQueue thread stopped\n",
      "2018-02-28 23:14:36,418 - telegram.ext.updater - DEBUG - Stopping Updater and Dispatcher...\n",
      "2018-02-28 23:14:36,420 - telegram.ext.updater - DEBUG - Requesting Dispatcher to stop...\n",
      "2018-02-28 23:14:37,142 - telegram.ext.dispatcher - DEBUG - orderly stopping\n",
      "2018-02-28 23:14:37,147 - telegram.ext.dispatcher - DEBUG - Dispatcher thread stopped\n",
      "2018-02-28 23:14:37,155 - telegram.ext.updater - DEBUG - dispatcher - ended\n",
      "2018-02-28 23:14:37,223 - telegram.ext.dispatcher - DEBUG - Waiting for async thread 1/4 to end\n",
      "2018-02-28 23:14:37,223 - telegram.ext.dispatcher - DEBUG - Closing run_async thread 8a1e4885-5c8c-4daf-89de-855348e97ff4_1/4\n",
      "2018-02-28 23:14:37,224 - telegram.ext.dispatcher - DEBUG - Closing run_async thread 8a1e4885-5c8c-4daf-89de-855348e97ff4_2/4\n",
      "2018-02-28 23:14:37,224 - telegram.ext.dispatcher - DEBUG - Closing run_async thread 8a1e4885-5c8c-4daf-89de-855348e97ff4_3/4\n",
      "2018-02-28 23:14:37,224 - telegram.ext.dispatcher - DEBUG - Closing run_async thread 8a1e4885-5c8c-4daf-89de-855348e97ff4_0/4\n",
      "2018-02-28 23:14:37,226 - telegram.ext.dispatcher - DEBUG - async thread 1/4 has ended\n",
      "2018-02-28 23:14:37,230 - telegram.ext.dispatcher - DEBUG - Waiting for async thread 2/4 to end\n",
      "2018-02-28 23:14:37,231 - telegram.ext.dispatcher - DEBUG - async thread 2/4 has ended\n",
      "2018-02-28 23:14:37,232 - telegram.ext.dispatcher - DEBUG - Waiting for async thread 3/4 to end\n",
      "2018-02-28 23:14:37,232 - telegram.ext.dispatcher - DEBUG - async thread 3/4 has ended\n",
      "2018-02-28 23:14:37,233 - telegram.ext.dispatcher - DEBUG - Waiting for async thread 4/4 to end\n",
      "2018-02-28 23:14:37,234 - telegram.ext.dispatcher - DEBUG - async thread 4/4 has ended\n",
      "2018-02-28 23:14:37,235 - telegram.ext.updater - DEBUG - Waiting for dispatcher thread to end\n",
      "2018-02-28 23:14:37,236 - telegram.ext.updater - DEBUG - dispatcher thread has ended\n",
      "2018-02-28 23:14:37,237 - telegram.ext.updater - DEBUG - Waiting for updater thread to end\n",
      "2018-02-28 23:14:37,530 - telegram.vendor.ptb_urllib3.urllib3.connectionpool - DEBUG - https://api.telegram.org:443 \"POST /bot484949622:AAGVa89zUGszMMp9D4Y48k-eFcw3xyQPukQ/getUpdates HTTP/1.1\" 200 23\n",
      "2018-02-28 23:14:37,537 - telegram.bot - DEBUG - No new updates found.\n",
      "2018-02-28 23:14:37,544 - telegram.bot - DEBUG - []\n",
      "2018-02-28 23:14:37,552 - telegram.bot - DEBUG - Exiting: get_updates\n",
      "2018-02-28 23:14:37,557 - telegram.ext.updater - DEBUG - updater - ended\n",
      "2018-02-28 23:14:37,559 - telegram.ext.updater - DEBUG - updater thread has ended\n"
     ]
    }
   ],
   "source": [
    "updater.stop()"
   ]
  },
  {
   "cell_type": "code",
   "execution_count": null,
   "metadata": {
    "collapsed": true
   },
   "outputs": [],
   "source": []
  }
 ],
 "metadata": {
  "anaconda-cloud": {},
  "kernelspec": {
   "display_name": "Python [conda root]",
   "language": "python",
   "name": "conda-root-py"
  },
  "language_info": {
   "codemirror_mode": {
    "name": "ipython",
    "version": 3
   },
   "file_extension": ".py",
   "mimetype": "text/x-python",
   "name": "python",
   "nbconvert_exporter": "python",
   "pygments_lexer": "ipython3",
   "version": "3.5.2"
  }
 },
 "nbformat": 4,
 "nbformat_minor": 2
}
