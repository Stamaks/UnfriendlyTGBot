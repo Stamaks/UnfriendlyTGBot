{
 "cells": [
  {
   "cell_type": "code",
   "execution_count": null,
   "metadata": {
    "collapsed": false
   },
   "outputs": [],
   "source": [
    "import logging\n",
    "from telegram.ext import CommandHandler\n",
    "from telegram.ext import Updater\n",
    "from telegram.ext import MessageHandler, Filters\n",
    "from telegram import *\n",
    "from telegram.ext import CallbackQueryHandler"
   ]
  },
  {
   "cell_type": "code",
   "execution_count": 2,
   "metadata": {
    "collapsed": true
   },
   "outputs": [],
   "source": [
    "logging.basicConfig(level=logging.DEBUG,\n",
    "                    format='%(asctime)s - %(name)s - %(levelname)s - %(message)s')"
   ]
  },
  {
   "cell_type": "code",
   "execution_count": 3,
   "metadata": {
    "collapsed": false
   },
   "outputs": [
    {
     "name": "stderr",
     "output_type": "stream",
     "text": [
      "2018-03-01 00:19:16,236 - telegram.ext.dispatcher - DEBUG - Setting singleton dispatcher as <telegram.ext.dispatcher.Dispatcher object at 0x7f2d37953198>\n"
     ]
    }
   ],
   "source": [
    "updater = Updater(token=\"484949622:AAGVa89zUGszMMp9D4Y48k-eFcw3xyQPukQ\")"
   ]
  },
  {
   "cell_type": "code",
   "execution_count": 4,
   "metadata": {
    "collapsed": true
   },
   "outputs": [],
   "source": [
    "import random"
   ]
  },
  {
   "cell_type": "code",
   "execution_count": 5,
   "metadata": {
    "collapsed": true
   },
   "outputs": [],
   "source": [
    "is_previous_message_question = 0"
   ]
  },
  {
   "cell_type": "code",
   "execution_count": 6,
   "metadata": {
    "collapsed": false
   },
   "outputs": [],
   "source": [
    "def start(bot, update):\n",
    "    text = random.choice([\"Ага, ну здарова.\", \"Ку!\", \"Приветище!\", \"Ну чего тебе надо?\"])\n",
    "    bot.send_message(chat_id=update.message.chat_id, text=text)\n",
    "    bot.send_message(chat_id=update.message.chat_id, text=\"Ну и что ты сделала за сегодня?\")\n",
    "    is_previous_message_question = 1\n",
    "        \n",
    "def echo(bot, update):\n",
    "#     if (is_previous_message_question):\n",
    "    if (update.message.text == \"1. Пожарить картошку\"):\n",
    "        key_button1 = KeyboardButton(text=\"Точно?\")\n",
    "        keyboard1 = ReplyKeyboardMarkup([[key_button1]])\n",
    "        bot.send_message(chat_id=update.message.chat_id, text=\"Уверена?\", reply_markup=keyboard1)\n",
    "        \n",
    "    if (\"ничего\" or \"нифига\" or \"нихуя\" in update.message.text.lower()):\n",
    "        text = random.choice([\"Ну молодец, молодец! Тебе же нечего делать, да?\", \"Капец, ты начнешь развиваться, инфузория?\", \"Мда, капец...\", \"И чо, тебе норм?..\", \"Ну да .-.\", \"Жесть .-.\"])\n",
    "        bot.send_message(chat_id=update.message.chat_id, text=text)\n",
    "    elif len(update.message.text.split()) < 10:\n",
    "        text = random.choice([\"То есть, ничего?..\", \"Чот как-то не оч .-.\", \"Мдааа, такое...\"])\n",
    "        bot.send_message(chat_id=update.message.chat_id, text=text)\n",
    "    elif len(update.message.text.split()) >= 10:\n",
    "        text = random.choice([\"Лол, кек, чебурек)) Надо еще кой-чо сделать.\", \"Лан, сегодня норм. Но вообще-то у тебя еще есть задачи.\", \"Ну, неплохо, да, ты вумница :3 Только сделай тут еще один пунктик, плз!\"])\n",
    "        bot.send_message(chat_id=update.message.chat_id, text=text)\n",
    "    is_previous_message_question = 0\n",
    "#     else:\n",
    "#         bot.send_message(chat_id=update.message.chat_id, text=\"Ничонипонял\")\n",
    "        \n",
    "def show_keyboard(bot, update):\n",
    "    key_button = InlineKeyboardButton(text=\"1. Пожарить картошку\", callback_data=\"Potatoe\")\n",
    "    keyboard = InlineKeyboardMarkup([[key_button]])\n",
    "    bot.send_message(chat_id=update.message.chat_id, text=\"Лови список задач!\", reply_markup=keyboard)\n",
    "    bot.send_message(chat_id=update.message.chat_id, text=update.callback_query.data)\n",
    "    \n",
    "def callback_query(bot, update):\n",
    "    bot.send_message(chat_id=57248148, text=update.callback_query.data)"
   ]
  },
  {
   "cell_type": "code",
   "execution_count": 7,
   "metadata": {
    "collapsed": true
   },
   "outputs": [],
   "source": [
    "start_handler = CommandHandler('start', start)\n",
    "show_keyboard_handler = CommandHandler('show_keyboard', show_keyboard)"
   ]
  },
  {
   "cell_type": "code",
   "execution_count": 8,
   "metadata": {
    "collapsed": false
   },
   "outputs": [],
   "source": [
    "callback_query_handler = CallbackQueryHandler(callback_query)"
   ]
  },
  {
   "cell_type": "code",
   "execution_count": 9,
   "metadata": {
    "collapsed": false
   },
   "outputs": [],
   "source": [
    "dispatcher = updater.dispatcher\n",
    "dispatcher.add_handler(start_handler)\n",
    "dispatcher.add_handler(show_keyboard_handler)\n",
    "dispatcher.add_handler(callback_query_handler)"
   ]
  },
  {
   "cell_type": "code",
   "execution_count": 10,
   "metadata": {
    "collapsed": false
   },
   "outputs": [],
   "source": [
    "echo_handler = MessageHandler(Filters.text, echo)\n",
    "dispatcher.add_handler(echo_handler)"
   ]
  },
  {
   "cell_type": "code",
   "execution_count": null,
   "metadata": {
    "collapsed": true
   },
   "outputs": [],
   "source": []
  },
  {
   "cell_type": "code",
   "execution_count": null,
   "metadata": {
    "collapsed": true
   },
   "outputs": [],
   "source": []
  },
  {
   "cell_type": "code",
   "execution_count": null,
   "metadata": {
    "collapsed": true
   },
   "outputs": [],
   "source": []
  },
  {
   "cell_type": "code",
   "execution_count": 11,
   "metadata": {
    "collapsed": false
   },
   "outputs": [
    {
     "name": "stderr",
     "output_type": "stream",
     "text": [
      "2018-03-01 00:19:19,068 - JobQueue - DEBUG - JobQueue thread started\n",
      "2018-03-01 00:19:19,073 - telegram.ext.updater - DEBUG - dispatcher - started\n",
      "2018-03-01 00:19:19,074 - telegram.ext.updater - DEBUG - updater - started\n",
      "2018-03-01 00:19:19,077 - telegram.ext.updater - DEBUG - Updater thread started\n",
      "2018-03-01 00:19:19,080 - telegram.bot - DEBUG - Entering: set_webhook\n",
      "2018-03-01 00:19:19,079 - telegram.ext.dispatcher - DEBUG - Dispatcher started\n",
      "2018-03-01 00:19:19,083 - telegram.vendor.ptb_urllib3.urllib3.connectionpool - DEBUG - Starting new HTTPS connection (1): api.telegram.org\n"
     ]
    },
    {
     "data": {
      "text/plain": [
       "<queue.Queue at 0x7f2d37941860>"
      ]
     },
     "execution_count": 11,
     "metadata": {},
     "output_type": "execute_result"
    },
    {
     "name": "stderr",
     "output_type": "stream",
     "text": [
      "2018-03-01 00:19:19,350 - telegram.vendor.ptb_urllib3.urllib3.connectionpool - DEBUG - https://api.telegram.org:443 \"POST /bot484949622:AAGVa89zUGszMMp9D4Y48k-eFcw3xyQPukQ/setWebhook HTTP/1.1\" 200 68\n",
      "2018-03-01 00:19:19,356 - telegram.bot - DEBUG - True\n",
      "2018-03-01 00:19:19,362 - telegram.bot - DEBUG - Exiting: set_webhook\n",
      "2018-03-01 00:19:19,368 - telegram.bot - DEBUG - Entering: get_updates\n",
      "2018-03-01 00:19:28,091 - telegram.vendor.ptb_urllib3.urllib3.connectionpool - DEBUG - https://api.telegram.org:443 \"POST /bot484949622:AAGVa89zUGszMMp9D4Y48k-eFcw3xyQPukQ/getUpdates HTTP/1.1\" 200 527\n",
      "2018-03-01 00:19:28,092 - telegram.bot - DEBUG - Getting updates: [976005296]\n",
      "2018-03-01 00:19:28,094 - telegram.bot - DEBUG - [<telegram.update.Update object at 0x7f2d340f9828>]\n",
      "2018-03-01 00:19:28,095 - telegram.bot - DEBUG - Exiting: get_updates\n",
      "2018-03-01 00:19:28,097 - telegram.bot - DEBUG - Entering: get_updates\n",
      "2018-03-01 00:19:28,097 - telegram.ext.dispatcher - DEBUG - Processing Update: {'update_id': 976005296, 'message': {'text': '/show_keyboard', 'supergroup_chat_created': False, 'new_chat_photo': [], 'from': {'first_name': 'Алена', 'last_name': 'Есенина', 'is_bot': False, 'username': 'Stamaks', 'id': 57248148, 'language_code': 'en-US'}, 'message_id': 101, 'delete_chat_photo': False, 'date': 1519852768, 'photo': [], 'new_chat_members': [], 'chat': {'first_name': 'Алена', 'last_name': 'Есенина', 'type': 'private', 'username': 'Stamaks', 'id': 57248148}, 'entities': [{'length': 14, 'offset': 0, 'type': 'bot_command'}], 'new_chat_member': None, 'channel_chat_created': False, 'caption_entities': [], 'group_chat_created': False}}\n",
      "2018-03-01 00:19:28,101 - telegram.bot - DEBUG - Entering: get_me\n",
      "2018-03-01 00:19:28,103 - telegram.vendor.ptb_urllib3.urllib3.connectionpool - DEBUG - Starting new HTTPS connection (2): api.telegram.org\n",
      "2018-03-01 00:19:28,359 - telegram.vendor.ptb_urllib3.urllib3.connectionpool - DEBUG - https://api.telegram.org:443 \"GET /bot484949622:AAGVa89zUGszMMp9D4Y48k-eFcw3xyQPukQ/getMe HTTP/1.1\" 200 117\n",
      "2018-03-01 00:19:28,360 - telegram.bot - DEBUG - {'first_name': 'Your fine Friend', 'is_bot': True, 'username': 'your_fine_friend_bot', 'id': 484949622}\n",
      "2018-03-01 00:19:28,361 - telegram.bot - DEBUG - Exiting: get_me\n",
      "2018-03-01 00:19:28,362 - telegram.bot - DEBUG - Entering: send_message\n",
      "2018-03-01 00:19:28,439 - telegram.vendor.ptb_urllib3.urllib3.connectionpool - DEBUG - https://api.telegram.org:443 \"POST /bot484949622:AAGVa89zUGszMMp9D4Y48k-eFcw3xyQPukQ/sendMessage HTTP/1.1\" 200 428\n",
      "2018-03-01 00:19:28,441 - telegram.bot - DEBUG - {'text': 'Лови список задач!', 'supergroup_chat_created': False, 'new_chat_photo': [], 'from': {'first_name': 'Your fine Friend', 'is_bot': True, 'username': 'your_fine_friend_bot', 'id': 484949622}, 'message_id': 102, 'delete_chat_photo': False, 'date': 1519852768, 'photo': [], 'new_chat_members': [], 'chat': {'first_name': 'Алена', 'last_name': 'Есенина', 'type': 'private', 'username': 'Stamaks', 'id': 57248148}, 'entities': [], 'new_chat_member': None, 'channel_chat_created': False, 'caption_entities': [], 'group_chat_created': False}\n",
      "2018-03-01 00:19:28,442 - telegram.bot - DEBUG - Exiting: send_message\n",
      "2018-03-01 00:19:28,443 - telegram.ext.dispatcher - ERROR - An uncaught error was raised while processing the update\n",
      "Traceback (most recent call last):\n",
      "  File \"/home/alena/anaconda3/lib/python3.5/site-packages/telegram/ext/dispatcher.py\", line 279, in process_update\n",
      "    handler.handle_update(update, self)\n",
      "  File \"/home/alena/anaconda3/lib/python3.5/site-packages/telegram/ext/commandhandler.py\", line 171, in handle_update\n",
      "    return self.callback(dispatcher.bot, update, **optional_args)\n",
      "  File \"<ipython-input-6-aa27e455e2e6>\", line 31, in show_keyboard\n",
      "    bot.send_message(chat_id=update.message.chat_id, text=update.callback_query.data)\n",
      "AttributeError: 'NoneType' object has no attribute 'data'\n",
      "2018-03-01 00:19:30,061 - telegram.vendor.ptb_urllib3.urllib3.connectionpool - DEBUG - https://api.telegram.org:443 \"POST /bot484949622:AAGVa89zUGszMMp9D4Y48k-eFcw3xyQPukQ/getUpdates HTTP/1.1\" 200 751\n",
      "2018-03-01 00:19:30,062 - telegram.bot - DEBUG - Getting updates: [976005297]\n",
      "2018-03-01 00:19:30,065 - telegram.bot - DEBUG - [<telegram.update.Update object at 0x7f2d341153c8>]\n",
      "2018-03-01 00:19:30,068 - telegram.bot - DEBUG - Exiting: get_updates\n",
      "2018-03-01 00:19:30,070 - telegram.ext.dispatcher - DEBUG - Processing Update: {'callback_query': {'chat_instance': '4772040545576295796', 'from': {'first_name': 'Алена', 'last_name': 'Есенина', 'is_bot': False, 'username': 'Stamaks', 'id': 57248148, 'language_code': 'en-US'}, 'message': {'text': 'Лови список задач!', 'supergroup_chat_created': False, 'new_chat_photo': [], 'from': {'first_name': 'Your fine Friend', 'is_bot': True, 'username': 'your_fine_friend_bot', 'id': 484949622}, 'message_id': 102, 'delete_chat_photo': False, 'date': 1519852768, 'photo': [], 'new_chat_members': [], 'chat': {'first_name': 'Алена', 'last_name': 'Есенина', 'type': 'private', 'username': 'Stamaks', 'id': 57248148}, 'entities': [], 'new_chat_member': None, 'channel_chat_created': False, 'caption_entities': [], 'group_chat_created': False}, 'data': 'Potatoe', 'id': '245878926170835690'}, 'update_id': 976005297}\n",
      "2018-03-01 00:19:30,070 - telegram.bot - DEBUG - Entering: get_updates\n",
      "2018-03-01 00:19:30,072 - telegram.ext.dispatcher - ERROR - An uncaught error was raised while processing the update\n",
      "Traceback (most recent call last):\n",
      "  File \"/home/alena/anaconda3/lib/python3.5/site-packages/telegram/ext/dispatcher.py\", line 279, in process_update\n",
      "    handler.handle_update(update, self)\n",
      "  File \"/home/alena/anaconda3/lib/python3.5/site-packages/telegram/ext/callbackqueryhandler.py\", line 143, in handle_update\n",
      "    return self.callback(dispatcher.bot, update, **optional_args)\n",
      "  File \"<ipython-input-6-aa27e455e2e6>\", line 34, in callback_query\n",
      "    bot.send_message(chat_id=update.message.chat_id, text=update.callback_query.data)\n",
      "AttributeError: 'NoneType' object has no attribute 'chat_id'\n",
      "2018-03-01 00:19:31,257 - telegram.vendor.ptb_urllib3.urllib3.connectionpool - DEBUG - https://api.telegram.org:443 \"POST /bot484949622:AAGVa89zUGszMMp9D4Y48k-eFcw3xyQPukQ/getUpdates HTTP/1.1\" 200 751\n",
      "2018-03-01 00:19:31,262 - telegram.bot - DEBUG - Getting updates: [976005298]\n",
      "2018-03-01 00:19:31,267 - telegram.bot - DEBUG - [<telegram.update.Update object at 0x7f2d341157b8>]\n",
      "2018-03-01 00:19:31,273 - telegram.bot - DEBUG - Exiting: get_updates\n",
      "2018-03-01 00:19:31,282 - telegram.ext.dispatcher - DEBUG - Processing Update: {'callback_query': {'chat_instance': '4772040545576295796', 'from': {'first_name': 'Алена', 'last_name': 'Есенина', 'is_bot': False, 'username': 'Stamaks', 'id': 57248148, 'language_code': 'en-US'}, 'message': {'text': 'Лови список задач!', 'supergroup_chat_created': False, 'new_chat_photo': [], 'from': {'first_name': 'Your fine Friend', 'is_bot': True, 'username': 'your_fine_friend_bot', 'id': 484949622}, 'message_id': 102, 'delete_chat_photo': False, 'date': 1519852768, 'photo': [], 'new_chat_members': [], 'chat': {'first_name': 'Алена', 'last_name': 'Есенина', 'type': 'private', 'username': 'Stamaks', 'id': 57248148}, 'entities': [], 'new_chat_member': None, 'channel_chat_created': False, 'caption_entities': [], 'group_chat_created': False}, 'data': 'Potatoe', 'id': '245878926459309888'}, 'update_id': 976005298}\n",
      "2018-03-01 00:19:31,283 - telegram.bot - DEBUG - Entering: get_updates\n",
      "2018-03-01 00:19:31,287 - telegram.ext.dispatcher - ERROR - An uncaught error was raised while processing the update\n",
      "Traceback (most recent call last):\n",
      "  File \"/home/alena/anaconda3/lib/python3.5/site-packages/telegram/ext/dispatcher.py\", line 279, in process_update\n",
      "    handler.handle_update(update, self)\n",
      "  File \"/home/alena/anaconda3/lib/python3.5/site-packages/telegram/ext/callbackqueryhandler.py\", line 143, in handle_update\n",
      "    return self.callback(dispatcher.bot, update, **optional_args)\n",
      "  File \"<ipython-input-6-aa27e455e2e6>\", line 34, in callback_query\n",
      "    bot.send_message(chat_id=update.message.chat_id, text=update.callback_query.data)\n",
      "AttributeError: 'NoneType' object has no attribute 'chat_id'\n",
      "2018-03-01 00:19:31,832 - telegram.vendor.ptb_urllib3.urllib3.connectionpool - DEBUG - https://api.telegram.org:443 \"POST /bot484949622:AAGVa89zUGszMMp9D4Y48k-eFcw3xyQPukQ/getUpdates HTTP/1.1\" 200 751\n",
      "2018-03-01 00:19:31,834 - telegram.bot - DEBUG - Getting updates: [976005299]\n",
      "2018-03-01 00:19:31,836 - telegram.bot - DEBUG - [<telegram.update.Update object at 0x7f2d34115828>]\n",
      "2018-03-01 00:19:31,837 - telegram.bot - DEBUG - Exiting: get_updates\n",
      "2018-03-01 00:19:31,839 - telegram.bot - DEBUG - Entering: get_updates\n",
      "2018-03-01 00:19:31,840 - telegram.ext.dispatcher - DEBUG - Processing Update: {'callback_query': {'chat_instance': '4772040545576295796', 'from': {'first_name': 'Алена', 'last_name': 'Есенина', 'is_bot': False, 'username': 'Stamaks', 'id': 57248148, 'language_code': 'en-US'}, 'message': {'text': 'Лови список задач!', 'supergroup_chat_created': False, 'new_chat_photo': [], 'from': {'first_name': 'Your fine Friend', 'is_bot': True, 'username': 'your_fine_friend_bot', 'id': 484949622}, 'message_id': 102, 'delete_chat_photo': False, 'date': 1519852768, 'photo': [], 'new_chat_members': [], 'chat': {'first_name': 'Алена', 'last_name': 'Есенина', 'type': 'private', 'username': 'Stamaks', 'id': 57248148}, 'entities': [], 'new_chat_member': None, 'channel_chat_created': False, 'caption_entities': [], 'group_chat_created': False}, 'data': 'Potatoe', 'id': '245878924124705037'}, 'update_id': 976005299}\n",
      "2018-03-01 00:19:31,845 - telegram.ext.dispatcher - ERROR - An uncaught error was raised while processing the update\n",
      "Traceback (most recent call last):\n",
      "  File \"/home/alena/anaconda3/lib/python3.5/site-packages/telegram/ext/dispatcher.py\", line 279, in process_update\n",
      "    handler.handle_update(update, self)\n",
      "  File \"/home/alena/anaconda3/lib/python3.5/site-packages/telegram/ext/callbackqueryhandler.py\", line 143, in handle_update\n",
      "    return self.callback(dispatcher.bot, update, **optional_args)\n",
      "  File \"<ipython-input-6-aa27e455e2e6>\", line 34, in callback_query\n",
      "    bot.send_message(chat_id=update.message.chat_id, text=update.callback_query.data)\n",
      "AttributeError: 'NoneType' object has no attribute 'chat_id'\n",
      "2018-03-01 00:19:41,899 - telegram.vendor.ptb_urllib3.urllib3.connectionpool - DEBUG - https://api.telegram.org:443 \"POST /bot484949622:AAGVa89zUGszMMp9D4Y48k-eFcw3xyQPukQ/getUpdates HTTP/1.1\" 200 23\n",
      "2018-03-01 00:19:41,904 - telegram.bot - DEBUG - No new updates found.\n",
      "2018-03-01 00:19:41,908 - telegram.bot - DEBUG - []\n",
      "2018-03-01 00:19:41,914 - telegram.bot - DEBUG - Exiting: get_updates\n",
      "2018-03-01 00:19:41,918 - telegram.bot - DEBUG - Entering: get_updates\n",
      "2018-03-01 00:19:51,981 - telegram.vendor.ptb_urllib3.urllib3.connectionpool - DEBUG - https://api.telegram.org:443 \"POST /bot484949622:AAGVa89zUGszMMp9D4Y48k-eFcw3xyQPukQ/getUpdates HTTP/1.1\" 200 23\n",
      "2018-03-01 00:19:51,985 - telegram.bot - DEBUG - No new updates found.\n",
      "2018-03-01 00:19:51,988 - telegram.bot - DEBUG - []\n",
      "2018-03-01 00:19:51,993 - telegram.bot - DEBUG - Exiting: get_updates\n",
      "2018-03-01 00:19:51,998 - telegram.bot - DEBUG - Entering: get_updates\n",
      "2018-03-01 00:20:02,064 - telegram.vendor.ptb_urllib3.urllib3.connectionpool - DEBUG - https://api.telegram.org:443 \"POST /bot484949622:AAGVa89zUGszMMp9D4Y48k-eFcw3xyQPukQ/getUpdates HTTP/1.1\" 200 23\n",
      "2018-03-01 00:20:02,070 - telegram.bot - DEBUG - No new updates found.\n",
      "2018-03-01 00:20:02,075 - telegram.bot - DEBUG - []\n",
      "2018-03-01 00:20:02,082 - telegram.bot - DEBUG - Exiting: get_updates\n",
      "2018-03-01 00:20:02,087 - telegram.bot - DEBUG - Entering: get_updates\n",
      "2018-03-01 00:20:12,152 - telegram.vendor.ptb_urllib3.urllib3.connectionpool - DEBUG - https://api.telegram.org:443 \"POST /bot484949622:AAGVa89zUGszMMp9D4Y48k-eFcw3xyQPukQ/getUpdates HTTP/1.1\" 200 23\n",
      "2018-03-01 00:20:12,155 - telegram.bot - DEBUG - No new updates found.\n",
      "2018-03-01 00:20:12,156 - telegram.bot - DEBUG - []\n",
      "2018-03-01 00:20:12,159 - telegram.bot - DEBUG - Exiting: get_updates\n",
      "2018-03-01 00:20:12,166 - telegram.bot - DEBUG - Entering: get_updates\n"
     ]
    }
   ],
   "source": [
    "updater.start_polling()"
   ]
  },
  {
   "cell_type": "code",
   "execution_count": 13,
   "metadata": {
    "collapsed": false
   },
   "outputs": [
    {
     "name": "stderr",
     "output_type": "stream",
     "text": [
      "2018-02-28 23:50:15,194 - JobQueue - DEBUG - JobQueue thread stopped\n",
      "2018-02-28 23:50:15,198 - telegram.ext.updater - DEBUG - Stopping Updater and Dispatcher...\n",
      "2018-02-28 23:50:15,200 - telegram.ext.updater - DEBUG - Requesting Dispatcher to stop...\n",
      "2018-02-28 23:50:15,712 - telegram.ext.updater - ERROR - Error while getting Updates: Timed out\n",
      "2018-02-28 23:50:15,717 - telegram.ext.dispatcher - DEBUG - Processing Update: Timed out\n",
      "2018-02-28 23:50:15,722 - telegram.ext.dispatcher - ERROR - No error handlers are registered, logging exception...\n",
      "Traceback (most recent call last):\n",
      "  File \"/home/alena/anaconda3/lib/python3.5/site-packages/telegram/vendor/ptb_urllib3/urllib3/connectionpool.py\", line 402, in _make_request\n",
      "    six.raise_from(e, None)\n",
      "  File \"<string>\", line 2, in raise_from\n",
      "  File \"/home/alena/anaconda3/lib/python3.5/site-packages/telegram/vendor/ptb_urllib3/urllib3/connectionpool.py\", line 398, in _make_request\n",
      "    httplib_response = conn.getresponse()\n",
      "  File \"/home/alena/anaconda3/lib/python3.5/http/client.py\", line 1197, in getresponse\n",
      "    response.begin()\n",
      "  File \"/home/alena/anaconda3/lib/python3.5/http/client.py\", line 297, in begin\n",
      "    version, status, reason = self._read_status()\n",
      "  File \"/home/alena/anaconda3/lib/python3.5/http/client.py\", line 258, in _read_status\n",
      "    line = str(self.fp.readline(_MAXLINE + 1), \"iso-8859-1\")\n",
      "  File \"/home/alena/anaconda3/lib/python3.5/socket.py\", line 575, in readinto\n",
      "    return self._sock.recv_into(b)\n",
      "  File \"/home/alena/anaconda3/lib/python3.5/ssl.py\", line 929, in recv_into\n",
      "    return self.read(nbytes, buffer)\n",
      "  File \"/home/alena/anaconda3/lib/python3.5/ssl.py\", line 791, in read\n",
      "    return self._sslobj.read(len, buffer)\n",
      "  File \"/home/alena/anaconda3/lib/python3.5/ssl.py\", line 575, in read\n",
      "    v = self._sslobj.read(len, buffer)\n",
      "socket.timeout: The read operation timed out\n",
      "\n",
      "During handling of the above exception, another exception occurred:\n",
      "\n",
      "Traceback (most recent call last):\n",
      "  File \"/home/alena/anaconda3/lib/python3.5/site-packages/telegram/utils/request.py\", line 190, in _request_wrapper\n",
      "    resp = self._con_pool.request(*args, **kwargs)\n",
      "  File \"/home/alena/anaconda3/lib/python3.5/site-packages/telegram/vendor/ptb_urllib3/urllib3/request.py\", line 70, in request\n",
      "    **urlopen_kw)\n",
      "  File \"/home/alena/anaconda3/lib/python3.5/site-packages/telegram/vendor/ptb_urllib3/urllib3/request.py\", line 148, in request_encode_body\n",
      "    return self.urlopen(method, url, **extra_kw)\n",
      "  File \"/home/alena/anaconda3/lib/python3.5/site-packages/telegram/vendor/ptb_urllib3/urllib3/poolmanager.py\", line 244, in urlopen\n",
      "    response = conn.urlopen(method, u.request_uri, **kw)\n",
      "  File \"/home/alena/anaconda3/lib/python3.5/site-packages/telegram/vendor/ptb_urllib3/urllib3/connectionpool.py\", line 666, in urlopen\n",
      "    _stacktrace=sys.exc_info()[2])\n",
      "  File \"/home/alena/anaconda3/lib/python3.5/site-packages/telegram/vendor/ptb_urllib3/urllib3/util/retry.py\", line 347, in increment\n",
      "    raise six.reraise(type(error), error, _stacktrace)\n",
      "  File \"/home/alena/anaconda3/lib/python3.5/site-packages/telegram/vendor/ptb_urllib3/urllib3/packages/six.py\", line 686, in reraise\n",
      "    raise value\n",
      "  File \"/home/alena/anaconda3/lib/python3.5/site-packages/telegram/vendor/ptb_urllib3/urllib3/connectionpool.py\", line 617, in urlopen\n",
      "    chunked=chunked)\n",
      "  File \"/home/alena/anaconda3/lib/python3.5/site-packages/telegram/vendor/ptb_urllib3/urllib3/connectionpool.py\", line 405, in _make_request\n",
      "    exc_cls=ReadTimeoutError)\n",
      "  File \"/home/alena/anaconda3/lib/python3.5/site-packages/telegram/vendor/ptb_urllib3/urllib3/connectionpool.py\", line 321, in _raise_timeout\n",
      "    raise exc_cls(*args)\n",
      "telegram.vendor.ptb_urllib3.urllib3.exceptions.ReadTimeoutError: HTTPSConnectionPool(host='api.telegram.org', port=443): Read timed out. (read timeout=12.0)\n",
      "\n",
      "During handling of the above exception, another exception occurred:\n",
      "\n",
      "Traceback (most recent call last):\n",
      "  File \"/home/alena/anaconda3/lib/python3.5/site-packages/telegram/ext/updater.py\", line 286, in _start_polling\n",
      "    allowed_updates=allowed_updates)\n",
      "  File \"/home/alena/anaconda3/lib/python3.5/site-packages/telegram/bot.py\", line 60, in decorator\n",
      "    result = func(self, *args, **kwargs)\n",
      "  File \"/home/alena/anaconda3/lib/python3.5/site-packages/telegram/bot.py\", line 1720, in get_updates\n",
      "    result = self._request.post(url, data, timeout=float(read_latency) + float(timeout))\n",
      "  File \"/home/alena/anaconda3/lib/python3.5/site-packages/telegram/utils/request.py\", line 272, in post\n",
      "    **urlopen_kwargs)\n",
      "  File \"/home/alena/anaconda3/lib/python3.5/site-packages/telegram/utils/request.py\", line 192, in _request_wrapper\n",
      "    raise TimedOut()\n",
      "telegram.error.TimedOut: Timed out\n",
      "2018-02-28 23:50:16,718 - telegram.ext.updater - DEBUG - updater - ended\n",
      "2018-02-28 23:50:16,743 - telegram.ext.dispatcher - DEBUG - orderly stopping\n",
      "2018-02-28 23:50:16,747 - telegram.ext.dispatcher - DEBUG - Dispatcher thread stopped\n",
      "2018-02-28 23:50:16,752 - telegram.ext.updater - DEBUG - dispatcher - ended\n",
      "2018-02-28 23:50:16,805 - telegram.ext.dispatcher - DEBUG - Waiting for async thread 1/4 to end\n",
      "2018-02-28 23:50:16,805 - telegram.ext.dispatcher - DEBUG - Closing run_async thread 745a9e8c-ca47-4619-b416-32b03941ceca_0/4\n",
      "2018-02-28 23:50:16,805 - telegram.ext.dispatcher - DEBUG - Closing run_async thread 745a9e8c-ca47-4619-b416-32b03941ceca_1/4\n",
      "2018-02-28 23:50:16,805 - telegram.ext.dispatcher - DEBUG - Closing run_async thread 745a9e8c-ca47-4619-b416-32b03941ceca_2/4\n",
      "2018-02-28 23:50:16,805 - telegram.ext.dispatcher - DEBUG - Closing run_async thread 745a9e8c-ca47-4619-b416-32b03941ceca_3/4\n",
      "2018-02-28 23:50:16,808 - telegram.ext.dispatcher - DEBUG - async thread 1/4 has ended\n",
      "2018-02-28 23:50:16,812 - telegram.ext.dispatcher - DEBUG - Waiting for async thread 2/4 to end\n",
      "2018-02-28 23:50:16,813 - telegram.ext.dispatcher - DEBUG - async thread 2/4 has ended\n",
      "2018-02-28 23:50:16,814 - telegram.ext.dispatcher - DEBUG - Waiting for async thread 3/4 to end\n",
      "2018-02-28 23:50:16,815 - telegram.ext.dispatcher - DEBUG - async thread 3/4 has ended\n",
      "2018-02-28 23:50:16,816 - telegram.ext.dispatcher - DEBUG - Waiting for async thread 4/4 to end\n",
      "2018-02-28 23:50:16,817 - telegram.ext.dispatcher - DEBUG - async thread 4/4 has ended\n",
      "2018-02-28 23:50:16,818 - telegram.ext.updater - DEBUG - Waiting for dispatcher thread to end\n",
      "2018-02-28 23:50:16,819 - telegram.ext.updater - DEBUG - dispatcher thread has ended\n",
      "2018-02-28 23:50:16,820 - telegram.ext.updater - DEBUG - Waiting for updater thread to end\n",
      "2018-02-28 23:50:16,822 - telegram.ext.updater - DEBUG - updater thread has ended\n"
     ]
    }
   ],
   "source": [
    "updater.stop()"
   ]
  },
  {
   "cell_type": "code",
   "execution_count": null,
   "metadata": {
    "collapsed": true
   },
   "outputs": [],
   "source": []
  }
 ],
 "metadata": {
  "anaconda-cloud": {},
  "kernelspec": {
   "display_name": "Python [conda root]",
   "language": "python",
   "name": "conda-root-py"
  },
  "language_info": {
   "codemirror_mode": {
    "name": "ipython",
    "version": 3
   },
   "file_extension": ".py",
   "mimetype": "text/x-python",
   "name": "python",
   "nbconvert_exporter": "python",
   "pygments_lexer": "ipython3",
   "version": "3.5.2"
  }
 },
 "nbformat": 4,
 "nbformat_minor": 2
}
