{
 "cells": [
  {
   "cell_type": "code",
   "execution_count": 1,
   "metadata": {
    "collapsed": false
   },
   "outputs": [],
   "source": [
    "import logging\n",
    "from telegram.ext import CommandHandler\n",
    "from telegram.ext import Updater\n",
    "from telegram.ext import MessageHandler, Filters\n",
    "from telegram import *\n",
    "from telegram.ext import CallbackQueryHandler\n",
    "import pickle\n",
    "import random"
   ]
  },
  {
   "cell_type": "code",
   "execution_count": 2,
   "metadata": {
    "collapsed": true
   },
   "outputs": [],
   "source": [
    "logging.basicConfig(level=logging.DEBUG,\n",
    "                    format='%(asctime)s - %(name)s - %(levelname)s - %(message)s')"
   ]
  },
  {
   "cell_type": "code",
   "execution_count": 3,
   "metadata": {
    "collapsed": false
   },
   "outputs": [
    {
     "name": "stderr",
     "output_type": "stream",
     "text": [
      "2018-03-01 23:55:42,440 - telegram.ext.dispatcher - DEBUG - Setting singleton dispatcher as <telegram.ext.dispatcher.Dispatcher object at 0x7f3393bfb390>\n"
     ]
    }
   ],
   "source": [
    "updater = Updater(token=pickle.load(open(\"token\", \"rb\")))"
   ]
  },
  {
   "cell_type": "code",
   "execution_count": 4,
   "metadata": {
    "collapsed": true
   },
   "outputs": [],
   "source": [
    "is_previous_message_question = 0"
   ]
  },
  {
   "cell_type": "code",
   "execution_count": 5,
   "metadata": {
    "collapsed": false
   },
   "outputs": [],
   "source": [
    "my_chat_id = pickle.load(open(\"my_chat_id\", \"rb\"))"
   ]
  },
  {
   "cell_type": "code",
   "execution_count": 6,
   "metadata": {
    "collapsed": false
   },
   "outputs": [],
   "source": [
    "tasks = []"
   ]
  },
  {
   "cell_type": "code",
   "execution_count": 7,
   "metadata": {
    "collapsed": true
   },
   "outputs": [],
   "source": [
    "add_task = 0"
   ]
  },
  {
   "cell_type": "code",
   "execution_count": 8,
   "metadata": {
    "collapsed": false
   },
   "outputs": [],
   "source": [
    "def start(bot, update):\n",
    "    text = random.choice([\"Ага, ну здарова.\", \"Ку!\", \"Приветище!\", \"Ну чего тебе надо?\"])\n",
    "    bot.send_message(chat_id=update.message.chat_id, text=text)\n",
    "    bot.send_message(chat_id=update.message.chat_id, text=\"Ну и что ты сделала за сегодня?\")\n",
    "    is_previous_message_question = 1\n",
    "        \n",
    "def echo(bot, update):\n",
    "#     if (is_previous_message_question):\n",
    "#     if (update.message.text == \"1. Пожарить картошку\"):\n",
    "#         key_button1 = KeyboardButton(text=\"Точно?\")\n",
    "#         keyboard1 = ReplyKeyboardMarkup([[key_button1]])\n",
    "#         bot.send_message(chat_id=update.message.chat_id, text=\"Уверена?\", reply_markup=keyboard1)\n",
    "    if add_task == 1:\n",
    "        add_task = 0\n",
    "        tasks.append(update.message.text)\n",
    "        bot.send_message(chat_id=update.message.chat_id, text=\"Добавил \\\"\" + update.message.text + \"\\\"\")\n",
    "    else:\n",
    "        if (\"ничего\" or \"нифига\" or \"нихуя\" in update.message.text.lower()):\n",
    "            text = random.choice([\"Ну молодец, молодец! Тебе же нечего делать, да?\", \"Капец, ты начнешь развиваться, инфузория?\", \"Мда, капец...\", \"И чо, тебе норм?..\", \"Ну да .-.\", \"Жесть .-.\"])\n",
    "            bot.send_message(chat_id=update.message.chat_id, text=text)\n",
    "        elif len(update.message.text.split()) < 10:\n",
    "            text = random.choice([\"То есть, ничего?..\", \"Чот как-то не оч .-.\", \"Мдааа, такое...\"])\n",
    "            bot.send_message(chat_id=update.message.chat_id, text=text)\n",
    "        elif len(update.message.text.split()) >= 10:\n",
    "            text = random.choice([\"Лол, кек, чебурек)) Надо еще кой-чо сделать.\", \"Лан, сегодня норм. Но вообще-то у тебя еще есть задачи.\", \"Ну, неплохо, да, ты вумница :3 Только сделай тут еще один пунктик, плз!\"])\n",
    "            bot.send_message(chat_id=update.message.chat_id, text=text)\n",
    "        is_previous_message_question = 0\n",
    "#     else:\n",
    "#         bot.send_message(chat_id=update.message.chat_id, text=\"Ничонипонял\")\n",
    "        \n",
    "def show_keyboard(bot, update):\n",
    "    if len(tasks) == 0:\n",
    "        bot.send_message(chat_id=update.message.chat_id, text=\"Упс, ты молодец, у тебя нет задач :)\")\n",
    "#         bot.send_message(chat_id=update.message.chat_id, text=\"Лови список задач!\", reply_markup=keyboard)\n",
    "        key_buttons = []\n",
    "        for i in range(len(tasks)):\n",
    "            key_buttons.append(InlineKeyboardButton(text=str(i+1) + \". \" + tasks[i], callback_data=str(i)))\n",
    "        key_buttons.append(InlineKeyboardButton(text=\"Добавить\", callback_data=str(-1)))\n",
    "        keyboard = InlineKeyboardMarkup([key_buttons])\n",
    "        bot.send_message(chat_id=update.message.chat_id, text=\"key\", reply_markup=keyboard)\n",
    "    \n",
    "def callback_query(bot, update):\n",
    "#     bot.send_message(chat_id=my_chat_id, text=update.callback_query.message.message_id)\n",
    "    if (int(update.callback_query.data) >= 0):\n",
    "        key_buttons = []\n",
    "        key_buttons.append(InlineKeyboardButton(text=\"Случайно тыкнула!\", callback_data=str(-2)))\n",
    "        key_buttons.append(InlineKeyboardButton(text=\"Сделала :)\", callback_data=str(-3)))\n",
    "        key_buttons.append(InlineKeyboardButton(text=\"Просто удали\", callback_data=str(-4)))\n",
    "        keyboard = InlineKeyboardMarkup([key_buttons])\n",
    "        bot.send_message(chat_id=update.message.chat_id, text=\"ere\", reply_markup=keyboard)        \n",
    "    elif int(update.callback_query.data) == -1:\n",
    "        add_task = 1\n",
    "    bot.send_message(chat_id=my_chat_id, text=update.callback_query.data)\n",
    "    bot.edit_message_text(text=\"JKJKJK\", chat_id=update.callback_query.message.chat_id, \n",
    "                             message_id=update.callback_query.message.message_id)"
   ]
  },
  {
   "cell_type": "code",
   "execution_count": 9,
   "metadata": {
    "collapsed": true
   },
   "outputs": [],
   "source": [
    "start_handler = CommandHandler('start', start)\n",
    "show_keyboard_handler = CommandHandler('list', show_keyboard)"
   ]
  },
  {
   "cell_type": "code",
   "execution_count": 10,
   "metadata": {
    "collapsed": false
   },
   "outputs": [],
   "source": [
    "callback_query_handler = CallbackQueryHandler(callback_query)"
   ]
  },
  {
   "cell_type": "code",
   "execution_count": 11,
   "metadata": {
    "collapsed": false
   },
   "outputs": [],
   "source": [
    "dispatcher = updater.dispatcher\n",
    "dispatcher.add_handler(start_handler)\n",
    "dispatcher.add_handler(show_keyboard_handler)\n",
    "dispatcher.add_handler(callback_query_handler)"
   ]
  },
  {
   "cell_type": "code",
   "execution_count": 12,
   "metadata": {
    "collapsed": false
   },
   "outputs": [],
   "source": [
    "echo_handler = MessageHandler(Filters.text, echo)\n",
    "dispatcher.add_handler(echo_handler)"
   ]
  },
  {
   "cell_type": "code",
   "execution_count": null,
   "metadata": {
    "collapsed": true
   },
   "outputs": [],
   "source": []
  },
  {
   "cell_type": "code",
   "execution_count": null,
   "metadata": {
    "collapsed": true
   },
   "outputs": [],
   "source": []
  },
  {
   "cell_type": "code",
   "execution_count": null,
   "metadata": {
    "collapsed": true
   },
   "outputs": [],
   "source": []
  },
  {
   "cell_type": "code",
   "execution_count": 13,
   "metadata": {
    "collapsed": false
   },
   "outputs": [
    {
     "name": "stderr",
     "output_type": "stream",
     "text": [
      "2018-03-01 23:55:45,108 - JobQueue - DEBUG - JobQueue thread started\n",
      "2018-03-01 23:55:45,113 - telegram.ext.updater - DEBUG - dispatcher - started\n",
      "2018-03-01 23:55:45,113 - telegram.ext.updater - DEBUG - updater - started\n",
      "2018-03-01 23:55:45,117 - telegram.ext.updater - DEBUG - Updater thread started\n",
      "2018-03-01 23:55:45,118 - telegram.ext.dispatcher - DEBUG - Dispatcher started\n",
      "2018-03-01 23:55:45,119 - telegram.bot - DEBUG - Entering: set_webhook\n"
     ]
    },
    {
     "data": {
      "text/plain": [
       "<queue.Queue at 0x7f3393bfb080>"
      ]
     },
     "execution_count": 13,
     "metadata": {},
     "output_type": "execute_result"
    },
    {
     "name": "stderr",
     "output_type": "stream",
     "text": [
      "2018-03-01 23:55:45,143 - telegram.vendor.ptb_urllib3.urllib3.connectionpool - DEBUG - Starting new HTTPS connection (1): api.telegram.org\n",
      "2018-03-01 23:55:45,380 - telegram.vendor.ptb_urllib3.urllib3.connectionpool - DEBUG - https://api.telegram.org:443 \"POST /bot484949622:AAGVa89zUGszMMp9D4Y48k-eFcw3xyQPukQ/setWebhook HTTP/1.1\" 200 68\n",
      "2018-03-01 23:55:45,386 - telegram.bot - DEBUG - True\n",
      "2018-03-01 23:55:45,393 - telegram.bot - DEBUG - Exiting: set_webhook\n",
      "2018-03-01 23:55:45,401 - telegram.bot - DEBUG - Entering: get_updates\n"
     ]
    }
   ],
   "source": [
    "updater.start_polling()"
   ]
  },
  {
   "cell_type": "code",
   "execution_count": 14,
   "metadata": {
    "collapsed": false
   },
   "outputs": [
    {
     "name": "stderr",
     "output_type": "stream",
     "text": [
      "2018-03-01 14:48:55,878 - JobQueue - DEBUG - JobQueue thread stopped\n",
      "2018-03-01 14:48:55,882 - telegram.ext.updater - DEBUG - Stopping Updater and Dispatcher...\n",
      "2018-03-01 14:48:55,884 - telegram.ext.updater - DEBUG - Requesting Dispatcher to stop...\n",
      "2018-03-01 14:48:56,040 - telegram.ext.dispatcher - DEBUG - orderly stopping\n",
      "2018-03-01 14:48:56,043 - telegram.ext.dispatcher - DEBUG - Dispatcher thread stopped\n",
      "2018-03-01 14:48:56,049 - telegram.ext.updater - DEBUG - dispatcher - ended\n",
      "2018-03-01 14:48:56,088 - telegram.ext.dispatcher - DEBUG - Waiting for async thread 1/4 to end\n",
      "2018-03-01 14:48:56,088 - telegram.ext.dispatcher - DEBUG - Closing run_async thread 5a929e46-fac7-4a95-8da4-e4466149c7b6_0/4\n",
      "2018-03-01 14:48:56,088 - telegram.ext.dispatcher - DEBUG - Closing run_async thread 5a929e46-fac7-4a95-8da4-e4466149c7b6_1/4\n",
      "2018-03-01 14:48:56,089 - telegram.ext.dispatcher - DEBUG - Closing run_async thread 5a929e46-fac7-4a95-8da4-e4466149c7b6_2/4\n",
      "2018-03-01 14:48:56,089 - telegram.ext.dispatcher - DEBUG - Closing run_async thread 5a929e46-fac7-4a95-8da4-e4466149c7b6_3/4\n",
      "2018-03-01 14:48:56,099 - telegram.ext.dispatcher - DEBUG - async thread 1/4 has ended\n",
      "2018-03-01 14:48:56,100 - telegram.ext.dispatcher - DEBUG - Waiting for async thread 2/4 to end\n",
      "2018-03-01 14:48:56,102 - telegram.ext.dispatcher - DEBUG - async thread 2/4 has ended\n",
      "2018-03-01 14:48:56,103 - telegram.ext.dispatcher - DEBUG - Waiting for async thread 3/4 to end\n",
      "2018-03-01 14:48:56,104 - telegram.ext.dispatcher - DEBUG - async thread 3/4 has ended\n",
      "2018-03-01 14:48:56,105 - telegram.ext.dispatcher - DEBUG - Waiting for async thread 4/4 to end\n",
      "2018-03-01 14:48:56,106 - telegram.ext.dispatcher - DEBUG - async thread 4/4 has ended\n",
      "2018-03-01 14:48:56,107 - telegram.ext.updater - DEBUG - Waiting for dispatcher thread to end\n",
      "2018-03-01 14:48:56,109 - telegram.ext.updater - DEBUG - dispatcher thread has ended\n",
      "2018-03-01 14:48:56,110 - telegram.ext.updater - DEBUG - Waiting for updater thread to end\n",
      "2018-03-01 14:49:05,178 - telegram.vendor.ptb_urllib3.urllib3.connectionpool - DEBUG - https://api.telegram.org:443 \"POST /bot484949622:AAGVa89zUGszMMp9D4Y48k-eFcw3xyQPukQ/getUpdates HTTP/1.1\" 200 23\n",
      "2018-03-01 14:49:05,183 - telegram.bot - DEBUG - No new updates found.\n",
      "2018-03-01 14:49:05,188 - telegram.bot - DEBUG - []\n",
      "2018-03-01 14:49:05,194 - telegram.bot - DEBUG - Exiting: get_updates\n",
      "2018-03-01 14:49:05,199 - telegram.ext.updater - DEBUG - updater - ended\n",
      "2018-03-01 14:49:05,205 - telegram.ext.updater - DEBUG - updater thread has ended\n"
     ]
    }
   ],
   "source": [
    "updater.stop()"
   ]
  },
  {
   "cell_type": "code",
   "execution_count": null,
   "metadata": {
    "collapsed": true
   },
   "outputs": [],
   "source": []
  },
  {
   "cell_type": "code",
   "execution_count": null,
   "metadata": {
    "collapsed": true
   },
   "outputs": [],
   "source": []
  }
 ],
 "metadata": {
  "anaconda-cloud": {},
  "kernelspec": {
   "display_name": "Python [conda root]",
   "language": "python",
   "name": "conda-root-py"
  },
  "language_info": {
   "codemirror_mode": {
    "name": "ipython",
    "version": 3
   },
   "file_extension": ".py",
   "mimetype": "text/x-python",
   "name": "python",
   "nbconvert_exporter": "python",
   "pygments_lexer": "ipython3",
   "version": "3.5.2"
  }
 },
 "nbformat": 4,
 "nbformat_minor": 2
}
