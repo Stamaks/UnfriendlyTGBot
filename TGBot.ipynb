{
 "cells": [
  {
   "cell_type": "code",
   "execution_count": 19,
   "metadata": {
    "collapsed": true
   },
   "outputs": [],
   "source": [
    "import logging\n",
    "from telegram.ext import CommandHandler\n",
    "from telegram.ext import Updater\n",
    "from telegram.ext import MessageHandler, Filters"
   ]
  },
  {
   "cell_type": "code",
   "execution_count": 20,
   "metadata": {
    "collapsed": true
   },
   "outputs": [],
   "source": [
    "logging.basicConfig(level=logging.DEBUG,\n",
    "                    format='%(asctime)s - %(name)s - %(levelname)s - %(message)s')"
   ]
  },
  {
   "cell_type": "code",
   "execution_count": 22,
   "metadata": {
    "collapsed": false
   },
   "outputs": [
    {
     "name": "stderr",
     "output_type": "stream",
     "text": [
      "2018-02-28 22:14:44,636 - telegram.ext.dispatcher - DEBUG - Setting singleton dispatcher as None\n"
     ]
    }
   ],
   "source": [
    "updater = Updater(token=\"484949622:AAGVa89zUGszMMp9D4Y48k-eFcw3xyQPukQ\")"
   ]
  },
  {
   "cell_type": "code",
   "execution_count": 31,
   "metadata": {
    "collapsed": true
   },
   "outputs": [],
   "source": [
    "import random"
   ]
  },
  {
   "cell_type": "code",
   "execution_count": 58,
   "metadata": {
    "collapsed": false
   },
   "outputs": [],
   "source": [
    "is_previous_message_question = 0\n",
    "\n",
    "def start(bot, update):\n",
    "    text = random.choice([\"Ага, ну здарова.\", \"Ку!\", \"Приветище!\", \"Ну чего тебе надо?\"])\n",
    "    bot.send_message(chat_id=update.message.chat_id, text=text)\n",
    "    bot.send_message(chat_id=update.message.chat_id, text=\"Ну и что ты сделала за сегодня?\")\n",
    "    is_previous_message_question = 1\n",
    "    \n",
    "def echo(bot, update):\n",
    "    if (is_previous_message_question):\n",
    "        if (\"ничего\" or \"нифига\" or \"нихуя\" in update.message.text.lower()):\n",
    "            text = random.choice([\"Ну молодец, молодец! Тебе же нечего делать, да?\", \"Капец, ты начнешь развиваться, инфузория?\", \"Мда, капец...\", \"И чо, тебе норм?..\", \"Ну да .-.\", \"Жесть .-.\"])\n",
    "            bot.send_message(chat_id=update.message.chat_id, text=text)\n",
    "        elif len(update.message.text.split()) < 10:\n",
    "            text = random.choice([\"То есть, ничего?..\", \"Чот как-то не оч .-.\", \"Мдааа, такое...\"])\n",
    "            bot.send_message(chat_id=update.message.chat_id, text=text)\n",
    "        elif len(update.message.text.split()) >= 10:\n",
    "            text = random.choice([\"Лол, кек, чебурек)) Надо еще кой-чо сделать.\", \"Лан, сегодня норм. Но вообще-то у тебя еще есть задачи.\", \"Ну, неплохо, да, ты вумница :3 Только сделай тут еще один пунктик, плз!\"])\n",
    "            bot.send_message(chat_id=update.message.chat_id, text=text)\n",
    "    else:\n",
    "        bot.send_message(chat_id=update.message.chat_id, text=\"Ничонипонял\")"
   ]
  },
  {
   "cell_type": "code",
   "execution_count": 25,
   "metadata": {
    "collapsed": true
   },
   "outputs": [],
   "source": [
    "start_handler = CommandHandler('start', start)"
   ]
  },
  {
   "cell_type": "code",
   "execution_count": 26,
   "metadata": {
    "collapsed": false
   },
   "outputs": [],
   "source": [
    "dispatcher = updater.dispatcher\n",
    "dispatcher.add_handler(start_handler)"
   ]
  },
  {
   "cell_type": "code",
   "execution_count": 28,
   "metadata": {
    "collapsed": true
   },
   "outputs": [],
   "source": [
    "echo_handler = MessageHandler(Filters.text, echo)\n",
    "dispatcher.add_handler(echo_handler)"
   ]
  },
  {
   "cell_type": "code",
   "execution_count": null,
   "metadata": {
    "collapsed": false
   },
   "outputs": [],
   "source": []
  },
  {
   "cell_type": "code",
   "execution_count": null,
   "metadata": {
    "collapsed": true
   },
   "outputs": [],
   "source": []
  },
  {
   "cell_type": "code",
   "execution_count": null,
   "metadata": {
    "collapsed": true
   },
   "outputs": [],
   "source": []
  },
  {
   "cell_type": "code",
   "execution_count": null,
   "metadata": {
    "collapsed": true
   },
   "outputs": [],
   "source": []
  },
  {
   "cell_type": "code",
   "execution_count": null,
   "metadata": {
    "collapsed": true
   },
   "outputs": [],
   "source": []
  },
  {
   "cell_type": "code",
   "execution_count": 29,
   "metadata": {
    "collapsed": false
   },
   "outputs": [
    {
     "name": "stderr",
     "output_type": "stream",
     "text": [
      "2018-02-28 22:14:52,188 - JobQueue - DEBUG - JobQueue thread started\n",
      "2018-02-28 22:14:52,192 - telegram.ext.updater - DEBUG - dispatcher - started\n",
      "2018-02-28 22:14:52,193 - telegram.ext.updater - DEBUG - updater - started\n",
      "2018-02-28 22:14:52,200 - telegram.ext.dispatcher - DEBUG - Dispatcher started\n",
      "2018-02-28 22:14:52,200 - telegram.ext.updater - DEBUG - Updater thread started"
     ]
    },
    {
     "data": {
      "text/plain": [
       "<queue.Queue at 0x7ff07c183a90>"
      ]
     },
     "execution_count": 29,
     "metadata": {},
     "output_type": "execute_result"
    },
    {
     "name": "stderr",
     "output_type": "stream",
     "text": [
      "\n",
      "2018-02-28 22:14:52,207 - telegram.bot - DEBUG - Entering: set_webhook\n",
      "2018-02-28 22:14:52,208 - telegram.vendor.ptb_urllib3.urllib3.connectionpool - DEBUG - Starting new HTTPS connection (1): api.telegram.org\n",
      "2018-02-28 22:14:52,452 - telegram.vendor.ptb_urllib3.urllib3.connectionpool - DEBUG - https://api.telegram.org:443 \"POST /bot484949622:AAGVa89zUGszMMp9D4Y48k-eFcw3xyQPukQ/setWebhook HTTP/1.1\" 200 68\n",
      "2018-02-28 22:14:52,456 - telegram.bot - DEBUG - True\n",
      "2018-02-28 22:14:52,460 - telegram.bot - DEBUG - Exiting: set_webhook\n",
      "2018-02-28 22:14:52,467 - telegram.bot - DEBUG - Entering: get_updates\n",
      "2018-02-28 22:14:56,466 - telegram.vendor.ptb_urllib3.urllib3.connectionpool - DEBUG - https://api.telegram.org:443 \"POST /bot484949622:AAGVa89zUGszMMp9D4Y48k-eFcw3xyQPukQ/getUpdates HTTP/1.1\" 200 457\n",
      "2018-02-28 22:14:56,471 - telegram.bot - DEBUG - Getting updates: [976005237]\n",
      "2018-02-28 22:14:56,477 - telegram.bot - DEBUG - [<telegram.update.Update object at 0x7ff07c3fe470>]\n",
      "2018-02-28 22:14:56,484 - telegram.bot - DEBUG - Exiting: get_updates\n",
      "2018-02-28 22:14:56,488 - telegram.bot - DEBUG - Entering: get_updates\n",
      "2018-02-28 22:14:56,490 - telegram.ext.dispatcher - DEBUG - Processing Update: {'update_id': 976005237, 'message': {'date': 1519845296, 'from': {'is_bot': False, 'language_code': 'en-US', 'id': 57248148, 'username': 'Stamaks', 'last_name': 'Есенина', 'first_name': 'Алена'}, 'supergroup_chat_created': False, 'new_chat_photo': [], 'channel_chat_created': False, 'chat': {'username': 'Stamaks', 'id': 57248148, 'last_name': 'Есенина', 'type': 'private', 'first_name': 'Алена'}, 'photo': [], 'delete_chat_photo': False, 'text': 'dfdf', 'caption_entities': [], 'group_chat_created': False, 'entities': [], 'message_id': 18, 'new_chat_member': None, 'new_chat_members': []}}\n",
      "2018-02-28 22:14:56,497 - telegram.bot - DEBUG - Entering: send_message\n",
      "2018-02-28 22:14:56,499 - telegram.vendor.ptb_urllib3.urllib3.connectionpool - DEBUG - Starting new HTTPS connection (2): api.telegram.org\n",
      "2018-02-28 22:14:56,759 - telegram.vendor.ptb_urllib3.urllib3.connectionpool - DEBUG - https://api.telegram.org:443 \"POST /bot484949622:AAGVa89zUGszMMp9D4Y48k-eFcw3xyQPukQ/sendMessage HTTP/1.1\" 200 364\n",
      "2018-02-28 22:14:56,764 - telegram.bot - DEBUG - {'date': 1519845296, 'from': {'is_bot': True, 'username': 'your_fine_friend_bot', 'id': 484949622, 'first_name': 'Your fine Friend'}, 'supergroup_chat_created': False, 'new_chat_photo': [], 'channel_chat_created': False, 'chat': {'username': 'Stamaks', 'id': 57248148, 'last_name': 'Есенина', 'type': 'private', 'first_name': 'Алена'}, 'photo': [], 'delete_chat_photo': False, 'text': 'ЫЫЫЫЫ', 'caption_entities': [], 'group_chat_created': False, 'entities': [], 'message_id': 19, 'new_chat_member': None, 'new_chat_members': []}\n",
      "2018-02-28 22:14:56,768 - telegram.bot - DEBUG - Exiting: send_message\n",
      "2018-02-28 22:14:59,169 - telegram.vendor.ptb_urllib3.urllib3.connectionpool - DEBUG - https://api.telegram.org:443 \"POST /bot484949622:AAGVa89zUGszMMp9D4Y48k-eFcw3xyQPukQ/getUpdates HTTP/1.1\" 200 454\n",
      "2018-02-28 22:14:59,170 - telegram.bot - DEBUG - Getting updates: [976005238]\n",
      "2018-02-28 22:14:59,171 - telegram.bot - DEBUG - [<telegram.update.Update object at 0x7ff07c18e780>]\n",
      "2018-02-28 22:14:59,173 - telegram.bot - DEBUG - Exiting: get_updates\n",
      "2018-02-28 22:14:59,174 - telegram.bot - DEBUG - Entering: get_updates\n",
      "2018-02-28 22:14:59,174 - telegram.ext.dispatcher - DEBUG - Processing Update: {'update_id': 976005238, 'message': {'date': 1519845299, 'from': {'is_bot': False, 'language_code': 'en-US', 'id': 57248148, 'username': 'Stamaks', 'last_name': 'Есенина', 'first_name': 'Алена'}, 'supergroup_chat_created': False, 'new_chat_photo': [], 'channel_chat_created': False, 'chat': {'username': 'Stamaks', 'id': 57248148, 'last_name': 'Есенина', 'type': 'private', 'first_name': 'Алена'}, 'photo': [], 'delete_chat_photo': False, 'text': 'i', 'caption_entities': [], 'group_chat_created': False, 'entities': [], 'message_id': 20, 'new_chat_member': None, 'new_chat_members': []}}\n",
      "2018-02-28 22:14:59,177 - telegram.bot - DEBUG - Entering: send_message\n",
      "2018-02-28 22:14:59,256 - telegram.vendor.ptb_urllib3.urllib3.connectionpool - DEBUG - https://api.telegram.org:443 \"POST /bot484949622:AAGVa89zUGszMMp9D4Y48k-eFcw3xyQPukQ/sendMessage HTTP/1.1\" 200 353\n",
      "2018-02-28 22:14:59,258 - telegram.bot - DEBUG - {'date': 1519845299, 'from': {'is_bot': True, 'username': 'your_fine_friend_bot', 'id': 484949622, 'first_name': 'Your fine Friend'}, 'supergroup_chat_created': False, 'new_chat_photo': [], 'channel_chat_created': False, 'chat': {'username': 'Stamaks', 'id': 57248148, 'last_name': 'Есенина', 'type': 'private', 'first_name': 'Алена'}, 'photo': [], 'delete_chat_photo': False, 'text': 'update.message.text', 'caption_entities': [], 'group_chat_created': False, 'entities': [], 'message_id': 21, 'new_chat_member': None, 'new_chat_members': []}\n",
      "2018-02-28 22:14:59,260 - telegram.bot - DEBUG - Exiting: send_message\n"
     ]
    }
   ],
   "source": [
    "updater.start_polling()"
   ]
  },
  {
   "cell_type": "code",
   "execution_count": 30,
   "metadata": {
    "collapsed": false
   },
   "outputs": [
    {
     "name": "stderr",
     "output_type": "stream",
     "text": [
      "2018-02-28 22:15:06,683 - JobQueue - DEBUG - JobQueue thread stopped\n",
      "2018-02-28 22:15:06,689 - telegram.ext.updater - DEBUG - Stopping Updater and Dispatcher...\n",
      "2018-02-28 22:15:06,694 - telegram.ext.updater - DEBUG - Requesting Dispatcher to stop...\n",
      "2018-02-28 22:15:07,264 - telegram.ext.dispatcher - DEBUG - orderly stopping\n",
      "2018-02-28 22:15:07,265 - telegram.ext.dispatcher - DEBUG - Dispatcher thread stopped\n",
      "2018-02-28 22:15:07,267 - telegram.ext.updater - DEBUG - dispatcher - ended\n",
      "2018-02-28 22:15:07,298 - telegram.ext.dispatcher - DEBUG - Waiting for async thread 1/4 to end\n",
      "2018-02-28 22:15:07,299 - telegram.ext.dispatcher - DEBUG - Closing run_async thread 00d66131-1745-4562-88ee-2380b011e2f0_0/4\n",
      "2018-02-28 22:15:07,300 - telegram.ext.dispatcher - DEBUG - Closing run_async thread 00d66131-1745-4562-88ee-2380b011e2f0_2/4\n",
      "2018-02-28 22:15:07,300 - telegram.ext.dispatcher - DEBUG - Closing run_async thread 00d66131-1745-4562-88ee-2380b011e2f0_3/4\n",
      "2018-02-28 22:15:07,300 - telegram.ext.dispatcher - DEBUG - Closing run_async thread 00d66131-1745-4562-88ee-2380b011e2f0_1/4\n",
      "2018-02-28 22:15:07,310 - telegram.ext.dispatcher - DEBUG - async thread 1/4 has ended\n",
      "2018-02-28 22:15:07,323 - telegram.ext.dispatcher - DEBUG - Waiting for async thread 2/4 to end\n",
      "2018-02-28 22:15:07,325 - telegram.ext.dispatcher - DEBUG - async thread 2/4 has ended\n",
      "2018-02-28 22:15:07,327 - telegram.ext.dispatcher - DEBUG - Waiting for async thread 3/4 to end\n",
      "2018-02-28 22:15:07,329 - telegram.ext.dispatcher - DEBUG - async thread 3/4 has ended\n",
      "2018-02-28 22:15:07,330 - telegram.ext.dispatcher - DEBUG - Waiting for async thread 4/4 to end\n",
      "2018-02-28 22:15:07,331 - telegram.ext.dispatcher - DEBUG - async thread 4/4 has ended\n",
      "2018-02-28 22:15:07,332 - telegram.ext.updater - DEBUG - Waiting for dispatcher thread to end\n",
      "2018-02-28 22:15:07,333 - telegram.ext.updater - DEBUG - dispatcher thread has ended\n",
      "2018-02-28 22:15:07,333 - telegram.ext.updater - DEBUG - Waiting for updater thread to end\n",
      "2018-02-28 22:15:09,312 - telegram.vendor.ptb_urllib3.urllib3.connectionpool - DEBUG - https://api.telegram.org:443 \"POST /bot484949622:AAGVa89zUGszMMp9D4Y48k-eFcw3xyQPukQ/getUpdates HTTP/1.1\" 200 23\n",
      "2018-02-28 22:15:09,322 - telegram.bot - DEBUG - No new updates found.\n",
      "2018-02-28 22:15:09,326 - telegram.bot - DEBUG - []\n",
      "2018-02-28 22:15:09,328 - telegram.bot - DEBUG - Exiting: get_updates\n",
      "2018-02-28 22:15:09,331 - telegram.ext.updater - DEBUG - updater - ended\n",
      "2018-02-28 22:15:09,334 - telegram.ext.updater - DEBUG - updater thread has ended\n"
     ]
    }
   ],
   "source": [
    "updater.stop()"
   ]
  },
  {
   "cell_type": "code",
   "execution_count": null,
   "metadata": {
    "collapsed": true
   },
   "outputs": [],
   "source": []
  }
 ],
 "metadata": {
  "anaconda-cloud": {},
  "kernelspec": {
   "display_name": "Python [conda root]",
   "language": "python",
   "name": "conda-root-py"
  },
  "language_info": {
   "codemirror_mode": {
    "name": "ipython",
    "version": 3
   },
   "file_extension": ".py",
   "mimetype": "text/x-python",
   "name": "python",
   "nbconvert_exporter": "python",
   "pygments_lexer": "ipython3",
   "version": "3.5.2"
  }
 },
 "nbformat": 4,
 "nbformat_minor": 2
}
