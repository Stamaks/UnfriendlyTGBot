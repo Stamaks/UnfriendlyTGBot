{
 "cells": [
  {
   "cell_type": "code",
   "execution_count": 23,
   "metadata": {
    "collapsed": false
   },
   "outputs": [],
   "source": [
    "import logging\n",
    "from telegram.ext import CommandHandler\n",
    "from telegram.ext import Updater\n",
    "from telegram.ext import MessageHandler, Filters\n",
    "from telegram import *\n",
    "from telegram.ext import CallbackQueryHandler\n",
    "import pickle\n",
    "import random"
   ]
  },
  {
   "cell_type": "code",
   "execution_count": 15,
   "metadata": {
    "collapsed": true
   },
   "outputs": [],
   "source": [
    "logging.basicConfig(level=logging.DEBUG,\n",
    "                    format='%(asctime)s - %(name)s - %(levelname)s - %(message)s')"
   ]
  },
  {
   "cell_type": "code",
   "execution_count": 22,
   "metadata": {
    "collapsed": false
   },
   "outputs": [
    {
     "name": "stderr",
     "output_type": "stream",
     "text": [
      "2018-03-01 12:20:04,688 - telegram.ext.dispatcher - DEBUG - Setting singleton dispatcher as None\n"
     ]
    }
   ],
   "source": [
    "updater = Updater(token=pickle.load(open(\"token\", \"rb\")))"
   ]
  },
  {
   "cell_type": "code",
   "execution_count": 24,
   "metadata": {
    "collapsed": true
   },
   "outputs": [],
   "source": [
    "is_previous_message_question = 0"
   ]
  },
  {
   "cell_type": "code",
   "execution_count": 25,
   "metadata": {
    "collapsed": false
   },
   "outputs": [],
   "source": [
    "def start(bot, update):\n",
    "    text = random.choice([\"Ага, ну здарова.\", \"Ку!\", \"Приветище!\", \"Ну чего тебе надо?\"])\n",
    "    bot.send_message(chat_id=update.message.chat_id, text=text)\n",
    "    bot.send_message(chat_id=update.message.chat_id, text=\"Ну и что ты сделала за сегодня?\")\n",
    "    is_previous_message_question = 1\n",
    "        \n",
    "def echo(bot, update):\n",
    "#     if (is_previous_message_question):\n",
    "    if (update.message.text == \"1. Пожарить картошку\"):\n",
    "        key_button1 = KeyboardButton(text=\"Точно?\")\n",
    "        keyboard1 = ReplyKeyboardMarkup([[key_button1]])\n",
    "        bot.send_message(chat_id=update.message.chat_id, text=\"Уверена?\", reply_markup=keyboard1)\n",
    "        \n",
    "    if (\"ничего\" or \"нифига\" or \"нихуя\" in update.message.text.lower()):\n",
    "        text = random.choice([\"Ну молодец, молодец! Тебе же нечего делать, да?\", \"Капец, ты начнешь развиваться, инфузория?\", \"Мда, капец...\", \"И чо, тебе норм?..\", \"Ну да .-.\", \"Жесть .-.\"])\n",
    "        bot.send_message(chat_id=update.message.chat_id, text=text)\n",
    "    elif len(update.message.text.split()) < 10:\n",
    "        text = random.choice([\"То есть, ничего?..\", \"Чот как-то не оч .-.\", \"Мдааа, такое...\"])\n",
    "        bot.send_message(chat_id=update.message.chat_id, text=text)\n",
    "    elif len(update.message.text.split()) >= 10:\n",
    "        text = random.choice([\"Лол, кек, чебурек)) Надо еще кой-чо сделать.\", \"Лан, сегодня норм. Но вообще-то у тебя еще есть задачи.\", \"Ну, неплохо, да, ты вумница :3 Только сделай тут еще один пунктик, плз!\"])\n",
    "        bot.send_message(chat_id=update.message.chat_id, text=text)\n",
    "    is_previous_message_question = 0\n",
    "#     else:\n",
    "#         bot.send_message(chat_id=update.message.chat_id, text=\"Ничонипонял\")\n",
    "        \n",
    "def show_keyboard(bot, update):\n",
    "    key_button = InlineKeyboardButton(text=\"1. Пожарить картошку\", callback_data=\"Potatoe\")\n",
    "    keyboard = InlineKeyboardMarkup([[key_button]])\n",
    "    bot.send_message(chat_id=update.message.chat_id, text=\"Лови список задач!\", reply_markup=keyboard)\n",
    "    bot.send_message(chat_id=update.message.chat_id, text=update.callback_query.data)\n",
    "    \n",
    "def callback_query(bot, update):\n",
    "    bot.send_message(chat_id=57248148, text=update.callback_query.data)"
   ]
  },
  {
   "cell_type": "code",
   "execution_count": 26,
   "metadata": {
    "collapsed": true
   },
   "outputs": [],
   "source": [
    "start_handler = CommandHandler('start', start)\n",
    "show_keyboard_handler = CommandHandler('show_keyboard', show_keyboard)"
   ]
  },
  {
   "cell_type": "code",
   "execution_count": 27,
   "metadata": {
    "collapsed": false
   },
   "outputs": [],
   "source": [
    "callback_query_handler = CallbackQueryHandler(callback_query)"
   ]
  },
  {
   "cell_type": "code",
   "execution_count": 28,
   "metadata": {
    "collapsed": false
   },
   "outputs": [],
   "source": [
    "dispatcher = updater.dispatcher\n",
    "dispatcher.add_handler(start_handler)\n",
    "dispatcher.add_handler(show_keyboard_handler)\n",
    "dispatcher.add_handler(callback_query_handler)"
   ]
  },
  {
   "cell_type": "code",
   "execution_count": 29,
   "metadata": {
    "collapsed": false
   },
   "outputs": [],
   "source": [
    "echo_handler = MessageHandler(Filters.text, echo)\n",
    "dispatcher.add_handler(echo_handler)"
   ]
  },
  {
   "cell_type": "code",
   "execution_count": null,
   "metadata": {
    "collapsed": true
   },
   "outputs": [],
   "source": []
  },
  {
   "cell_type": "code",
   "execution_count": null,
   "metadata": {
    "collapsed": true
   },
   "outputs": [],
   "source": []
  },
  {
   "cell_type": "code",
   "execution_count": null,
   "metadata": {
    "collapsed": true
   },
   "outputs": [],
   "source": []
  },
  {
   "cell_type": "code",
   "execution_count": 30,
   "metadata": {
    "collapsed": false
   },
   "outputs": [
    {
     "name": "stderr",
     "output_type": "stream",
     "text": [
      "2018-03-01 12:20:24,559 - JobQueue - DEBUG - JobQueue thread started\n",
      "2018-03-01 12:20:24,565 - telegram.ext.updater - DEBUG - dispatcher - started\n",
      "2018-03-01 12:20:24,567 - telegram.ext.updater - DEBUG - updater - started\n",
      "2018-03-01 12:20:24,573 - telegram.ext.dispatcher - DEBUG - Dispatcher started\n",
      "2018-03-01 12:20:24,574 - telegram.ext.updater - DEBUG - Updater thread started"
     ]
    },
    {
     "data": {
      "text/plain": [
       "<queue.Queue at 0x7f02ec51a9b0>"
      ]
     },
     "execution_count": 30,
     "metadata": {},
     "output_type": "execute_result"
    },
    {
     "name": "stderr",
     "output_type": "stream",
     "text": [
      "\n",
      "2018-03-01 12:20:24,581 - telegram.bot - DEBUG - Entering: set_webhook\n",
      "2018-03-01 12:20:24,582 - telegram.vendor.ptb_urllib3.urllib3.connectionpool - DEBUG - Starting new HTTPS connection (1): api.telegram.org\n",
      "2018-03-01 12:20:28,067 - telegram.vendor.ptb_urllib3.urllib3.connectionpool - DEBUG - https://api.telegram.org:443 \"POST /bot484949622:AAGVa89zUGszMMp9D4Y48k-eFcw3xyQPukQ/setWebhook HTTP/1.1\" 200 68\n",
      "2018-03-01 12:20:28,070 - telegram.bot - DEBUG - True\n",
      "2018-03-01 12:20:28,071 - telegram.bot - DEBUG - Exiting: set_webhook\n",
      "2018-03-01 12:20:28,073 - telegram.bot - DEBUG - Entering: get_updates\n",
      "2018-03-01 12:20:38,755 - telegram.vendor.ptb_urllib3.urllib3.connectionpool - DEBUG - https://api.telegram.org:443 \"POST /bot484949622:AAGVa89zUGszMMp9D4Y48k-eFcw3xyQPukQ/getUpdates HTTP/1.1\" 200 23\n",
      "2018-03-01 12:20:38,760 - telegram.bot - DEBUG - No new updates found.\n",
      "2018-03-01 12:20:38,765 - telegram.bot - DEBUG - []\n",
      "2018-03-01 12:20:38,773 - telegram.bot - DEBUG - Exiting: get_updates\n",
      "2018-03-01 12:20:38,778 - telegram.bot - DEBUG - Entering: get_updates\n",
      "2018-03-01 12:20:50,096 - telegram.vendor.ptb_urllib3.urllib3.connectionpool - DEBUG - https://api.telegram.org:443 \"POST /bot484949622:AAGVa89zUGszMMp9D4Y48k-eFcw3xyQPukQ/getUpdates HTTP/1.1\" 200 23\n",
      "2018-03-01 12:20:50,101 - telegram.bot - DEBUG - No new updates found.\n",
      "2018-03-01 12:20:50,105 - telegram.bot - DEBUG - []\n",
      "2018-03-01 12:20:50,110 - telegram.bot - DEBUG - Exiting: get_updates\n",
      "2018-03-01 12:20:50,116 - telegram.bot - DEBUG - Entering: get_updates\n",
      "2018-03-01 12:20:50,326 - telegram.vendor.ptb_urllib3.urllib3.connectionpool - DEBUG - https://api.telegram.org:443 \"POST /bot484949622:AAGVa89zUGszMMp9D4Y48k-eFcw3xyQPukQ/getUpdates HTTP/1.1\" 200 517\n",
      "2018-03-01 12:20:50,331 - telegram.bot - DEBUG - Getting updates: [976005302]\n",
      "2018-03-01 12:20:50,337 - telegram.bot - DEBUG - [<telegram.update.Update object at 0x7f02ecce31d0>]\n",
      "2018-03-01 12:20:50,342 - telegram.bot - DEBUG - Exiting: get_updates\n",
      "2018-03-01 12:20:50,350 - telegram.bot - DEBUG - Entering: get_updates\n",
      "2018-03-01 12:20:50,351 - telegram.ext.dispatcher - DEBUG - Processing Update: {'message': {'new_chat_members': [], 'channel_chat_created': False, 'supergroup_chat_created': False, 'new_chat_member': None, 'date': 1519896049, 'caption_entities': [], 'chat': {'last_name': 'Есенина', 'first_name': 'Алена', 'id': 57248148, 'username': 'Stamaks', 'type': 'private'}, 'new_chat_photo': [], 'delete_chat_photo': False, 'text': '/stat', 'from': {'first_name': 'Алена', 'is_bot': False, 'last_name': 'Есенина', 'language_code': 'en-US', 'id': 57248148, 'username': 'Stamaks'}, 'message_id': 105, 'entities': [{'length': 5, 'offset': 0, 'type': 'bot_command'}], 'group_chat_created': False, 'photo': []}, 'update_id': 976005302}\n",
      "2018-03-01 12:20:50,363 - telegram.bot - DEBUG - Entering: get_me\n",
      "2018-03-01 12:20:50,366 - telegram.vendor.ptb_urllib3.urllib3.connectionpool - DEBUG - Starting new HTTPS connection (2): api.telegram.org\n",
      "2018-03-01 12:20:50,765 - telegram.vendor.ptb_urllib3.urllib3.connectionpool - DEBUG - https://api.telegram.org:443 \"POST /bot484949622:AAGVa89zUGszMMp9D4Y48k-eFcw3xyQPukQ/getUpdates HTTP/1.1\" 200 485\n",
      "2018-03-01 12:20:50,770 - telegram.bot - DEBUG - Getting updates: [976005303]\n",
      "2018-03-01 12:20:50,776 - telegram.bot - DEBUG - [<telegram.update.Update object at 0x7f02ecce3470>]\n",
      "2018-03-01 12:20:50,781 - telegram.bot - DEBUG - Exiting: get_updates\n",
      "2018-03-01 12:20:50,793 - telegram.bot - DEBUG - Entering: get_updates\n",
      "2018-03-01 12:20:52,417 - telegram.vendor.ptb_urllib3.urllib3.connectionpool - DEBUG - https://api.telegram.org:443 \"GET /bot484949622:AAGVa89zUGszMMp9D4Y48k-eFcw3xyQPukQ/getMe HTTP/1.1\" 200 117\n",
      "2018-03-01 12:20:52,419 - telegram.bot - DEBUG - {'first_name': 'Your fine Friend', 'id': 484949622, 'is_bot': True, 'username': 'your_fine_friend_bot'}\n",
      "2018-03-01 12:20:52,420 - telegram.bot - DEBUG - Exiting: get_me\n",
      "2018-03-01 12:20:52,422 - telegram.ext.dispatcher - DEBUG - Processing Update: {'message': {'new_chat_members': [], 'channel_chat_created': False, 'supergroup_chat_created': False, 'new_chat_member': None, 'date': 1519896050, 'caption_entities': [], 'chat': {'last_name': 'Есенина', 'first_name': 'Алена', 'id': 57248148, 'username': 'Stamaks', 'type': 'private'}, 'new_chat_photo': [], 'delete_chat_photo': False, 'text': 'Точно?', 'from': {'first_name': 'Алена', 'is_bot': False, 'last_name': 'Есенина', 'language_code': 'en-US', 'id': 57248148, 'username': 'Stamaks'}, 'message_id': 106, 'entities': [], 'group_chat_created': False, 'photo': []}, 'update_id': 976005303}\n",
      "2018-03-01 12:20:52,423 - telegram.bot - DEBUG - Entering: send_message\n",
      "2018-03-01 12:20:54,107 - telegram.vendor.ptb_urllib3.urllib3.connectionpool - DEBUG - https://api.telegram.org:443 \"POST /bot484949622:AAGVa89zUGszMMp9D4Y48k-eFcw3xyQPukQ/sendMessage HTTP/1.1\" 200 562\n",
      "2018-03-01 12:20:54,110 - telegram.bot - DEBUG - {'new_chat_members': [], 'channel_chat_created': False, 'supergroup_chat_created': False, 'new_chat_member': None, 'date': 1519896054, 'caption_entities': [], 'chat': {'last_name': 'Есенина', 'first_name': 'Алена', 'id': 57248148, 'username': 'Stamaks', 'type': 'private'}, 'new_chat_photo': [], 'delete_chat_photo': False, 'text': 'Ну молодец, молодец! Тебе же нечего делать, да?', 'from': {'first_name': 'Your fine Friend', 'id': 484949622, 'is_bot': True, 'username': 'your_fine_friend_bot'}, 'message_id': 107, 'entities': [], 'group_chat_created': False, 'photo': []}\n",
      "2018-03-01 12:20:54,111 - telegram.bot - DEBUG - Exiting: send_message\n",
      "2018-03-01 12:20:56,942 - telegram.vendor.ptb_urllib3.urllib3.connectionpool - DEBUG - https://api.telegram.org:443 \"POST /bot484949622:AAGVa89zUGszMMp9D4Y48k-eFcw3xyQPukQ/getUpdates HTTP/1.1\" 200 518\n",
      "2018-03-01 12:20:56,947 - telegram.bot - DEBUG - Getting updates: [976005304]\n",
      "2018-03-01 12:20:56,951 - telegram.bot - DEBUG - [<telegram.update.Update object at 0x7f02ecce3908>]\n",
      "2018-03-01 12:20:56,955 - telegram.bot - DEBUG - Exiting: get_updates\n",
      "2018-03-01 12:20:56,962 - telegram.bot - DEBUG - Entering: get_updates\n",
      "2018-03-01 12:20:56,964 - telegram.ext.dispatcher - DEBUG - Processing Update: {'message': {'new_chat_members': [], 'channel_chat_created': False, 'supergroup_chat_created': False, 'new_chat_member': None, 'date': 1519896056, 'caption_entities': [], 'chat': {'last_name': 'Есенина', 'first_name': 'Алена', 'id': 57248148, 'username': 'Stamaks', 'type': 'private'}, 'new_chat_photo': [], 'delete_chat_photo': False, 'text': '/start', 'from': {'first_name': 'Алена', 'is_bot': False, 'last_name': 'Есенина', 'language_code': 'en-US', 'id': 57248148, 'username': 'Stamaks'}, 'message_id': 108, 'entities': [{'length': 6, 'offset': 0, 'type': 'bot_command'}], 'group_chat_created': False, 'photo': []}, 'update_id': 976005304}\n",
      "2018-03-01 12:20:56,977 - telegram.bot - DEBUG - Entering: send_message\n",
      "2018-03-01 12:20:57,206 - telegram.vendor.ptb_urllib3.urllib3.connectionpool - DEBUG - https://api.telegram.org:443 \"POST /bot484949622:AAGVa89zUGszMMp9D4Y48k-eFcw3xyQPukQ/sendMessage HTTP/1.1\" 200 411\n",
      "2018-03-01 12:20:57,213 - telegram.bot - DEBUG - {'new_chat_members': [], 'channel_chat_created': False, 'supergroup_chat_created': False, 'new_chat_member': None, 'date': 1519896057, 'caption_entities': [], 'chat': {'last_name': 'Есенина', 'first_name': 'Алена', 'id': 57248148, 'username': 'Stamaks', 'type': 'private'}, 'new_chat_photo': [], 'delete_chat_photo': False, 'text': 'Ага, ну здарова.', 'from': {'first_name': 'Your fine Friend', 'id': 484949622, 'is_bot': True, 'username': 'your_fine_friend_bot'}, 'message_id': 109, 'entities': [], 'group_chat_created': False, 'photo': []}\n",
      "2018-03-01 12:20:57,219 - telegram.bot - DEBUG - Exiting: send_message\n",
      "2018-03-01 12:20:57,223 - telegram.bot - DEBUG - Entering: send_message\n",
      "2018-03-01 12:20:57,360 - telegram.vendor.ptb_urllib3.urllib3.connectionpool - DEBUG - https://api.telegram.org:443 \"POST /bot484949622:AAGVa89zUGszMMp9D4Y48k-eFcw3xyQPukQ/sendMessage HTTP/1.1\" 200 486\n",
      "2018-03-01 12:20:57,366 - telegram.bot - DEBUG - {'new_chat_members': [], 'channel_chat_created': False, 'supergroup_chat_created': False, 'new_chat_member': None, 'date': 1519896057, 'caption_entities': [], 'chat': {'last_name': 'Есенина', 'first_name': 'Алена', 'id': 57248148, 'username': 'Stamaks', 'type': 'private'}, 'new_chat_photo': [], 'delete_chat_photo': False, 'text': 'Ну и что ты сделала за сегодня?', 'from': {'first_name': 'Your fine Friend', 'id': 484949622, 'is_bot': True, 'username': 'your_fine_friend_bot'}, 'message_id': 110, 'entities': [], 'group_chat_created': False, 'photo': []}\n",
      "2018-03-01 12:20:57,372 - telegram.bot - DEBUG - Exiting: send_message\n",
      "2018-03-01 12:21:07,291 - telegram.vendor.ptb_urllib3.urllib3.connectionpool - DEBUG - https://api.telegram.org:443 \"POST /bot484949622:AAGVa89zUGszMMp9D4Y48k-eFcw3xyQPukQ/getUpdates HTTP/1.1\" 200 23\n",
      "2018-03-01 12:21:07,297 - telegram.bot - DEBUG - No new updates found.\n",
      "2018-03-01 12:21:07,303 - telegram.bot - DEBUG - []\n",
      "2018-03-01 12:21:07,307 - telegram.bot - DEBUG - Exiting: get_updates\n",
      "2018-03-01 12:21:07,314 - telegram.bot - DEBUG - Entering: get_updates\n",
      "2018-03-01 12:21:07,411 - telegram.vendor.ptb_urllib3.urllib3.connectionpool - DEBUG - https://api.telegram.org:443 \"POST /bot484949622:AAGVa89zUGszMMp9D4Y48k-eFcw3xyQPukQ/getUpdates HTTP/1.1\" 200 517\n",
      "2018-03-01 12:21:07,413 - telegram.bot - DEBUG - Getting updates: [976005305]\n",
      "2018-03-01 12:21:07,416 - telegram.bot - DEBUG - [<telegram.update.Update object at 0x7f02eccdd4e0>]\n",
      "2018-03-01 12:21:07,418 - telegram.bot - DEBUG - Exiting: get_updates\n",
      "2018-03-01 12:21:07,420 - telegram.bot - DEBUG - Entering: get_updates\n",
      "2018-03-01 12:21:07,421 - telegram.ext.dispatcher - DEBUG - Processing Update: {'message': {'new_chat_members': [], 'channel_chat_created': False, 'supergroup_chat_created': False, 'new_chat_member': None, 'date': 1519896067, 'caption_entities': [], 'chat': {'last_name': 'Есенина', 'first_name': 'Алена', 'id': 57248148, 'username': 'Stamaks', 'type': 'private'}, 'new_chat_photo': [], 'delete_chat_photo': False, 'text': '/stat', 'from': {'first_name': 'Алена', 'is_bot': False, 'last_name': 'Есенина', 'language_code': 'en-US', 'id': 57248148, 'username': 'Stamaks'}, 'message_id': 111, 'entities': [{'length': 5, 'offset': 0, 'type': 'bot_command'}], 'group_chat_created': False, 'photo': []}, 'update_id': 976005305}\n",
      "2018-03-01 12:21:12,175 - telegram.vendor.ptb_urllib3.urllib3.connectionpool - DEBUG - https://api.telegram.org:443 \"POST /bot484949622:AAGVa89zUGszMMp9D4Y48k-eFcw3xyQPukQ/getUpdates HTTP/1.1\" 200 517\n",
      "2018-03-01 12:21:12,176 - telegram.bot - DEBUG - Getting updates: [976005306]\n",
      "2018-03-01 12:21:12,178 - telegram.bot - DEBUG - [<telegram.update.Update object at 0x7f02eccdd630>]\n",
      "2018-03-01 12:21:12,179 - telegram.bot - DEBUG - Exiting: get_updates\n",
      "2018-03-01 12:21:12,180 - telegram.bot - DEBUG - Entering: get_updates\n",
      "2018-03-01 12:21:12,181 - telegram.ext.dispatcher - DEBUG - Processing Update: {'message': {'new_chat_members': [], 'channel_chat_created': False, 'supergroup_chat_created': False, 'new_chat_member': None, 'date': 1519896072, 'caption_entities': [], 'chat': {'last_name': 'Есенина', 'first_name': 'Алена', 'id': 57248148, 'username': 'Stamaks', 'type': 'private'}, 'new_chat_photo': [], 'delete_chat_photo': False, 'text': '/stat', 'from': {'first_name': 'Алена', 'is_bot': False, 'last_name': 'Есенина', 'language_code': 'en-US', 'id': 57248148, 'username': 'Stamaks'}, 'message_id': 112, 'entities': [{'length': 5, 'offset': 0, 'type': 'bot_command'}], 'group_chat_created': False, 'photo': []}, 'update_id': 976005306}\n",
      "2018-03-01 12:21:17,007 - telegram.vendor.ptb_urllib3.urllib3.connectionpool - DEBUG - https://api.telegram.org:443 \"POST /bot484949622:AAGVa89zUGszMMp9D4Y48k-eFcw3xyQPukQ/getUpdates HTTP/1.1\" 200 459\n",
      "2018-03-01 12:21:17,013 - telegram.bot - DEBUG - Getting updates: [976005307]\n",
      "2018-03-01 12:21:17,018 - telegram.bot - DEBUG - [<telegram.update.Update object at 0x7f02eccdd3c8>]\n",
      "2018-03-01 12:21:17,024 - telegram.bot - DEBUG - Exiting: get_updates\n",
      "2018-03-01 12:21:17,032 - telegram.bot - DEBUG - Entering: get_updates\n",
      "2018-03-01 12:21:17,033 - telegram.ext.dispatcher - DEBUG - Processing Update: {'message': {'new_chat_members': [], 'channel_chat_created': False, 'supergroup_chat_created': False, 'new_chat_member': None, 'date': 1519896076, 'caption_entities': [], 'chat': {'last_name': 'Есенина', 'first_name': 'Алена', 'id': 57248148, 'username': 'Stamaks', 'type': 'private'}, 'new_chat_photo': [], 'delete_chat_photo': False, 'text': 'Njxyj', 'from': {'first_name': 'Алена', 'is_bot': False, 'last_name': 'Есенина', 'language_code': 'en-US', 'id': 57248148, 'username': 'Stamaks'}, 'message_id': 113, 'entities': [], 'group_chat_created': False, 'photo': []}, 'update_id': 976005307}\n",
      "2018-03-01 12:21:17,044 - telegram.bot - DEBUG - Entering: send_message\n",
      "2018-03-01 12:21:17,373 - telegram.vendor.ptb_urllib3.urllib3.connectionpool - DEBUG - https://api.telegram.org:443 \"POST /bot484949622:AAGVa89zUGszMMp9D4Y48k-eFcw3xyQPukQ/sendMessage HTTP/1.1\" 200 364\n",
      "2018-03-01 12:21:17,382 - telegram.bot - DEBUG - {'new_chat_members': [], 'channel_chat_created': False, 'supergroup_chat_created': False, 'new_chat_member': None, 'date': 1519896077, 'caption_entities': [], 'chat': {'last_name': 'Есенина', 'first_name': 'Алена', 'id': 57248148, 'username': 'Stamaks', 'type': 'private'}, 'new_chat_photo': [], 'delete_chat_photo': False, 'text': 'Ну да .-.', 'from': {'first_name': 'Your fine Friend', 'id': 484949622, 'is_bot': True, 'username': 'your_fine_friend_bot'}, 'message_id': 114, 'entities': [], 'group_chat_created': False, 'photo': []}\n",
      "2018-03-01 12:21:17,387 - telegram.bot - DEBUG - Exiting: send_message\n",
      "2018-03-01 12:21:27,097 - telegram.vendor.ptb_urllib3.urllib3.connectionpool - DEBUG - https://api.telegram.org:443 \"POST /bot484949622:AAGVa89zUGszMMp9D4Y48k-eFcw3xyQPukQ/getUpdates HTTP/1.1\" 200 23\n",
      "2018-03-01 12:21:27,103 - telegram.bot - DEBUG - No new updates found.\n",
      "2018-03-01 12:21:27,109 - telegram.bot - DEBUG - []\n",
      "2018-03-01 12:21:27,120 - telegram.bot - DEBUG - Exiting: get_updates\n",
      "2018-03-01 12:21:27,125 - telegram.bot - DEBUG - Entering: get_updates\n"
     ]
    }
   ],
   "source": [
    "updater.start_polling()"
   ]
  },
  {
   "cell_type": "code",
   "execution_count": 31,
   "metadata": {
    "collapsed": false
   },
   "outputs": [
    {
     "name": "stderr",
     "output_type": "stream",
     "text": [
      "2018-03-01 12:21:27,962 - JobQueue - DEBUG - JobQueue thread stopped\n",
      "2018-03-01 12:21:27,966 - telegram.ext.updater - DEBUG - Stopping Updater and Dispatcher...\n",
      "2018-03-01 12:21:27,969 - telegram.ext.updater - DEBUG - Requesting Dispatcher to stop...\n",
      "2018-03-01 12:21:28,396 - telegram.ext.dispatcher - DEBUG - orderly stopping\n",
      "2018-03-01 12:21:28,400 - telegram.ext.dispatcher - DEBUG - Dispatcher thread stopped\n",
      "2018-03-01 12:21:28,405 - telegram.ext.updater - DEBUG - dispatcher - ended\n",
      "2018-03-01 12:21:28,472 - telegram.ext.dispatcher - DEBUG - Waiting for async thread 1/4 to end\n",
      "2018-03-01 12:21:28,473 - telegram.ext.dispatcher - DEBUG - Closing run_async thread bb20ead6-36d8-43e6-a951-af807f043b63_1/4\n",
      "2018-03-01 12:21:28,473 - telegram.ext.dispatcher - DEBUG - Closing run_async thread bb20ead6-36d8-43e6-a951-af807f043b63_0/4\n",
      "2018-03-01 12:21:28,473 - telegram.ext.dispatcher - DEBUG - Closing run_async thread bb20ead6-36d8-43e6-a951-af807f043b63_3/4\n",
      "2018-03-01 12:21:28,473 - telegram.ext.dispatcher - DEBUG - Closing run_async thread bb20ead6-36d8-43e6-a951-af807f043b63_2/4\n",
      "2018-03-01 12:21:28,475 - telegram.ext.dispatcher - DEBUG - async thread 1/4 has ended\n",
      "2018-03-01 12:21:28,479 - telegram.ext.dispatcher - DEBUG - Waiting for async thread 2/4 to end\n",
      "2018-03-01 12:21:28,484 - telegram.ext.dispatcher - DEBUG - async thread 2/4 has ended\n",
      "2018-03-01 12:21:28,485 - telegram.ext.dispatcher - DEBUG - Waiting for async thread 3/4 to end\n",
      "2018-03-01 12:21:28,486 - telegram.ext.dispatcher - DEBUG - async thread 3/4 has ended\n",
      "2018-03-01 12:21:28,487 - telegram.ext.dispatcher - DEBUG - Waiting for async thread 4/4 to end\n",
      "2018-03-01 12:21:28,491 - telegram.ext.dispatcher - DEBUG - async thread 4/4 has ended\n",
      "2018-03-01 12:21:28,492 - telegram.ext.updater - DEBUG - Waiting for dispatcher thread to end\n",
      "2018-03-01 12:21:28,493 - telegram.ext.updater - DEBUG - dispatcher thread has ended\n",
      "2018-03-01 12:21:28,494 - telegram.ext.updater - DEBUG - Waiting for updater thread to end\n",
      "2018-03-01 12:21:37,224 - telegram.vendor.ptb_urllib3.urllib3.connectionpool - DEBUG - https://api.telegram.org:443 \"POST /bot484949622:AAGVa89zUGszMMp9D4Y48k-eFcw3xyQPukQ/getUpdates HTTP/1.1\" 200 23\n",
      "2018-03-01 12:21:37,228 - telegram.bot - DEBUG - No new updates found.\n",
      "2018-03-01 12:21:37,230 - telegram.bot - DEBUG - []\n",
      "2018-03-01 12:21:37,232 - telegram.bot - DEBUG - Exiting: get_updates\n",
      "2018-03-01 12:21:37,233 - telegram.ext.updater - DEBUG - updater - ended\n",
      "2018-03-01 12:21:37,235 - telegram.ext.updater - DEBUG - updater thread has ended\n"
     ]
    }
   ],
   "source": [
    "updater.stop()"
   ]
  },
  {
   "cell_type": "code",
   "execution_count": null,
   "metadata": {
    "collapsed": true
   },
   "outputs": [],
   "source": []
  }
 ],
 "metadata": {
  "anaconda-cloud": {},
  "kernelspec": {
   "display_name": "Python [conda root]",
   "language": "python",
   "name": "conda-root-py"
  },
  "language_info": {
   "codemirror_mode": {
    "name": "ipython",
    "version": 3
   },
   "file_extension": ".py",
   "mimetype": "text/x-python",
   "name": "python",
   "nbconvert_exporter": "python",
   "pygments_lexer": "ipython3",
   "version": "3.5.2"
  }
 },
 "nbformat": 4,
 "nbformat_minor": 2
}
